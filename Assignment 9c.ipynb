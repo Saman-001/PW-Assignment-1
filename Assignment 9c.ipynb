{
 "cells": [
  {
   "cell_type": "markdown",
   "id": "83c077c8-ae63-405f-856e-597825d3fe40",
   "metadata": {
    "jp-MarkdownHeadingCollapsed": true,
    "tags": []
   },
   "source": [
    "###### Question 1\n"
   ]
  },
  {
   "cell_type": "markdown",
   "id": "24a7c6b8-3070-457d-a5e4-e1889f298a78",
   "metadata": {},
   "source": [
    "An API, or application programming interface, is a block of code that allows two software programs to communicate with each other. API makes the communication between two apps very easy.\n",
    "\n",
    "e.g- twilio, googlemap, github API, Chat GPT API, etc.\n",
    "\n",
    "real life example of api are:-\n",
    "- Weather apps uses API to give you live updates of the weather.\n",
    "- Social Bots\n",
    "- Third party login\n",
    "- E-commerce transactions\n",
    "- Streaming services\n",
    "- software updates"
   ]
  },
  {
   "cell_type": "markdown",
   "id": "ae343956-2274-4d26-a7eb-1b5e00999f53",
   "metadata": {
    "jp-MarkdownHeadingCollapsed": true,
    "tags": []
   },
   "source": [
    "###### Question 2"
   ]
  },
  {
   "cell_type": "markdown",
   "id": "ee2d9bb4-694b-4cc2-946f-a86d55148641",
   "metadata": {
    "tags": []
   },
   "source": [
    "Avantages of API:-\n",
    "- Access to data APIs allow organizations to access data and services from many sources without developing their own applications.\n",
    "- Integration APIs allow different systems, platforms, and applications to connect and share information.\n",
    "- Automation APIs can automate tasks.\n",
    "- Improved services APIs can improve services.\n",
    "- Revenue models APIs can help build new revenue models.\n",
    "\n",
    "Disadvantages of API:-\n",
    "- Complexity APIs can be complex and require a significant amount of development effort to implement and maintain.\n",
    "- Single point of failure If not configured correctly, an API Gateway could become a single point of failure in your system.\n",
    "- Vendor lock-in\n",
    "- Maintenance overhead\n",
    "- Latency\n",
    "- Failure in API can cause application to stop working properly/entirely"
   ]
  },
  {
   "cell_type": "markdown",
   "id": "73809c54-e619-452a-bb70-1761f481a19d",
   "metadata": {
    "jp-MarkdownHeadingCollapsed": true,
    "tags": []
   },
   "source": [
    "##### Question 3"
   ]
  },
  {
   "cell_type": "markdown",
   "id": "60e95e17-dba9-4168-bfb7-1903f567a265",
   "metadata": {},
   "source": [
    "A Web API, or Application Programming Interface, is a software component that sends data over the internet. It's an interface that allows access to server resources over HTTP. \n",
    "\n",
    "API-\n",
    "1. General term for a set of protocols facilitating communication between software applications.\n",
    "2. Defines methods and data formats for requesting and exchanging information.\n",
    "3. Used for various purposes, including accessing web services, databases, or other resources.\n",
    "\n",
    "Web API-\n",
    "1. Specific type of API accessed over the web using standard web protocols like HTTP.\n",
    "2. Enables communication and data exchange between different software systems over the internet.\n",
    "3. Often used to integrate various web services and applications."
   ]
  },
  {
   "cell_type": "markdown",
   "id": "5b340368-3c3c-4f88-908d-9217d14a7645",
   "metadata": {
    "tags": []
   },
   "source": [
    "##### Question 4"
   ]
  },
  {
   "cell_type": "markdown",
   "id": "e45e20fe-270d-4f11-a2e4-b1d8c15b0e18",
   "metadata": {},
   "source": [
    "REST (Representational State transfer) and SOAP (Simple Object Access Protocol) are both architectural styles and protocols for building web services.\n",
    "\n",
    "REST:-\n",
    "1. Stateless client-server communication.\n",
    "2. Resources identified by URIs, manipulated with standard HTTP methods.\n",
    "3. No server-stored client state.\n",
    "4. Data often in JSON or XML.\n",
    "\n",
    "SOAP:-\n",
    "\n",
    "1. Structured information exchange.\n",
    "2. XML-based communication.\n",
    "3. More complex than REST.\n",
    "4. Supports stateful communication.\n",
    "5. Relies on standards like WSDL and UDDI."
   ]
  },
  {
   "cell_type": "markdown",
   "id": "38be5a01-f977-4298-a993-c8ec982763ee",
   "metadata": {},
   "source": [
    "##### Question 5"
   ]
  },
  {
   "cell_type": "markdown",
   "id": "7260f2a4-7f30-4be2-8290-d416c51c1c3b",
   "metadata": {},
   "source": [
    "\n",
    "REST:-\n",
    "- REST is more data-driven and access data.\n",
    "- REST uses a single, consistent interface to access named resources.\n",
    "- REST doesn't require much bandwidth.\n",
    "- REST calls can be cached.\n",
    "- REST is limited to HTTP and HTTPS.\n",
    "\n",
    "SOAP:-\n",
    "\n",
    "-  SOAP is more function-driven and it performs operations.\n",
    "- SOAP exposes application logic components as services, and operates through different interfaces\n",
    "- SOAP requires more bandwidth \n",
    "- SOAP-based calls cannot be cached.\n",
    "- SOAP supports additional communication protocols.\n",
    "- SOAP uses XML for all messages."
   ]
  },
  {
   "cell_type": "code",
   "execution_count": null,
   "id": "b860844e-95de-4a31-ae4c-a899ba472b40",
   "metadata": {},
   "outputs": [],
   "source": []
  }
 ],
 "metadata": {
  "kernelspec": {
   "display_name": "Python 3 (ipykernel)",
   "language": "python",
   "name": "python3"
  },
  "language_info": {
   "codemirror_mode": {
    "name": "ipython",
    "version": 3
   },
   "file_extension": ".py",
   "mimetype": "text/x-python",
   "name": "python",
   "nbconvert_exporter": "python",
   "pygments_lexer": "ipython3",
   "version": "3.10.8"
  }
 },
 "nbformat": 4,
 "nbformat_minor": 5
}
