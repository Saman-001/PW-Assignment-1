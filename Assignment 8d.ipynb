{
 "cells": [
  {
   "cell_type": "code",
   "execution_count": 1,
   "id": "285b267d-aa1e-4db5-b356-e48d08930805",
   "metadata": {},
   "outputs": [],
   "source": [
    "import multiprocessing"
   ]
  },
  {
   "cell_type": "markdown",
   "id": "e316f2a8-ebce-4bd0-8dfe-47c15dcb5e3b",
   "metadata": {},
   "source": [
    "##### Question 1\n"
   ]
  },
  {
   "cell_type": "markdown",
   "id": "d40397e6-e1bc-488c-9288-c14bccf85ff4",
   "metadata": {},
   "source": [
    "Multiprocessing is a technique in which multiple processors are used simultaneously to performm a multiple tasks.\n",
    "\n",
    "It is useful as follows:\n",
    "1. It improves the performance of a computer.\n",
    "2. It increases the the speed of the computer to perform a particular task.\n",
    "3. It makes the CPU more efficient.\n",
    "4. It helps to achieve the multitasking."
   ]
  },
  {
   "cell_type": "markdown",
   "id": "ea34f45b-70bc-46d7-a454-121137a545a5",
   "metadata": {},
   "source": [
    "##### Question 2"
   ]
  },
  {
   "cell_type": "markdown",
   "id": "bcfb3922-7fd5-4ec3-98aa-bbfacf06cbb9",
   "metadata": {},
   "source": [
    "Multithreading is a technique in which multiple tasks are performed in a single process simultaneously, whereas multiprocessing is technique in which multiple processes are executed simultaneously.  "
   ]
  },
  {
   "cell_type": "markdown",
   "id": "f9f02238-952b-4531-a019-a8c37055c69c",
   "metadata": {},
   "source": [
    "##### Question 3"
   ]
  },
  {
   "cell_type": "code",
   "execution_count": 2,
   "id": "5a737216-d477-4bed-9496-4380b2cd0d6c",
   "metadata": {},
   "outputs": [
    {
     "name": "stdout",
     "output_type": "stream",
     "text": [
      "This is the main function statement\n",
      "This is the multiprocessing statement 1\n"
     ]
    }
   ],
   "source": [
    "def test():\n",
    "    print(\"This is the multiprocessing statement 1\")\n",
    "\n",
    "if __name__ == '__main__':\n",
    "    m = multiprocessing.Process(target=test)\n",
    "    print(\"This is the main function statement\")\n",
    "    m.start()\n",
    "    m.join()\n",
    "        "
   ]
  },
  {
   "cell_type": "markdown",
   "id": "900864cc-2262-410d-9d11-40178c37da50",
   "metadata": {},
   "source": [
    "##### Question 4"
   ]
  },
  {
   "cell_type": "markdown",
   "id": "9010275d-3681-417b-9a82-f9c083013f77",
   "metadata": {},
   "source": [
    "A multiprocessing pool in Python is a collection of worker processes that can be used to execute tasks in parallel. It is a convenient way to manage multiple processes and to improve the performance of computationally expensive tasks.\n",
    "\n",
    "It is used as follows:\n",
    "1. To improve the performance of computationally expensive tasks.\n",
    "2. To improve the scalability of an application.\n",
    "3. To improve the reliability of an application."
   ]
  },
  {
   "cell_type": "markdown",
   "id": "8ae6c712-3d1c-41a3-a134-82e59a909e7f",
   "metadata": {},
   "source": [
    "##### Question 5"
   ]
  },
  {
   "cell_type": "code",
   "execution_count": 3,
   "id": "381c183d-d6a9-47a1-ab52-cacdda92dbfd",
   "metadata": {},
   "outputs": [
    {
     "name": "stdout",
     "output_type": "stream",
     "text": [
      "[1, 4, 9, 16, 25, 36]\n"
     ]
    }
   ],
   "source": [
    "def square(x):\n",
    "    return x * x\n",
    "\n",
    "if __name__ == '__main__':\n",
    "    with multiprocessing.Pool(processes=4) as pool:\n",
    "        d =[1,2,3,4,5,6]\n",
    "        result = pool.map(square,d)\n",
    "    print(result)\n"
   ]
  },
  {
   "cell_type": "markdown",
   "id": "6ebff4be-a788-4781-8fa8-166e6f8d5009",
   "metadata": {},
   "source": [
    "##### Question 6"
   ]
  },
  {
   "cell_type": "code",
   "execution_count": 5,
   "id": "17de35f7-70a3-4984-868c-ffbb19951488",
   "metadata": {},
   "outputs": [
    {
     "name": "stdout",
     "output_type": "stream",
     "text": [
      "Process 1: 1 \n",
      "Process 3: 3 \n",
      "Process 4: 4 \n",
      "Process 2: 2 \n",
      "\n",
      "\n",
      "\n",
      "\n"
     ]
    }
   ],
   "source": [
    "# Function to print a number\n",
    "def print_number(number):\n",
    "    print(f\"Process {number}: {number} \\n\")\n",
    "\n",
    "if __name__ == \"__main__\":\n",
    "    # Create a list of numbers to be printed by each process\n",
    "    numbers = [1, 2, 3, 4]\n",
    "\n",
    "    # Create a pool of 4 worker processes\n",
    "    with multiprocessing.Pool(processes=4) as pool:\n",
    "        # Map the print_number function to the numbers in parallel\n",
    "        pool.map(print_number, numbers)\n"
   ]
  },
  {
   "cell_type": "code",
   "execution_count": null,
   "id": "14837fcd-f795-4323-853d-9a3d866637a3",
   "metadata": {},
   "outputs": [],
   "source": []
  }
 ],
 "metadata": {
  "kernelspec": {
   "display_name": "Python 3 (ipykernel)",
   "language": "python",
   "name": "python3"
  },
  "language_info": {
   "codemirror_mode": {
    "name": "ipython",
    "version": 3
   },
   "file_extension": ".py",
   "mimetype": "text/x-python",
   "name": "python",
   "nbconvert_exporter": "python",
   "pygments_lexer": "ipython3",
   "version": "3.10.8"
  }
 },
 "nbformat": 4,
 "nbformat_minor": 5
}
