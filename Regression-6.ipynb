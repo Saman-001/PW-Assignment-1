{
 "cells": [
  {
   "cell_type": "markdown",
   "metadata": {},
   "source": [
    "## Question 1\n",
    "\n",
    "The steps invloved in building an end-to-end project are as follows :-\n",
    "\n",
    "1. Gather the data you needed to train and test your model.\n",
    "2. Preprocess the data to make it suitable for the model.\n",
    "3. Split the data into training and testing sets.\n",
    "4. Standardize the training dataset.\n",
    "5. Train the model using the training dataset.\n",
    "6. Make a frontend for the project to take input from the users.\n",
    "7. Upload the project on github.\n",
    "8. Deploy the project on a cloud platform."
   ]
  },
  {
   "cell_type": "markdown",
   "metadata": {},
   "source": [
    "## Question 2\n",
    "\n",
    "Traditional web hosting uses a dedicated physical server, while cloud hosting utilizes a network of servers. Cloud hosting offers better scalability, reliability, and cost-effectiveness, making it suitable for dynamic websites and applications."
   ]
  },
  {
   "cell_type": "markdown",
   "metadata": {},
   "source": [
    "## Question 3\n",
    "\n",
    "The factors that matters the choice of cloud provider are as follows :-\n",
    "\n",
    "1. The number of services they are providing for customers.\n",
    "2. The cost of the services.\n",
    "3. The level of security they provide for our dataset.\n",
    "4. The scalability of the services.\n",
    "5. The reliability of the services.\n"
   ]
  },
  {
   "cell_type": "markdown",
   "metadata": {},
   "source": [
    "## Question 4\n",
    "\n",
    "Responsive user interface is important to provide better user experience.\n",
    "\n",
    "Practices to be followed are :-\n",
    "1. You can use latest technologies for web application.\n",
    "2. Use media Queries to make web application fro different screens.\n",
    "3. Add animations and transitions to the web application to make it more responsive.\n"
   ]
  },
  {
   "cell_type": "markdown",
   "metadata": {},
   "source": [
    "## Question 5\n",
    "\n",
    "As we know that user interface(web application) and machine learning are two different technologies, now to integrate these two different technologies we can use `Flask` API.\n",
    "\n",
    "`Flask` API is used to make a bridge between Frontend and Machine learning.\n",
    "\n",
    "Following are the libraries we can use:-\n",
    "1. flask\n",
    "2. numpy\n",
    "3. pandas\n",
    "4. linear_regression\n",
    "5. Standard Scaler\n",
    "6. metrics\n",
    "7. pickle"
   ]
  },
  {
   "cell_type": "markdown",
   "metadata": {},
   "source": []
  }
 ],
 "metadata": {
  "language_info": {
   "name": "python"
  }
 },
 "nbformat": 4,
 "nbformat_minor": 2
}
