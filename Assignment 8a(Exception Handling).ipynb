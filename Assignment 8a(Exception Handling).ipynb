{
 "cells": [
  {
   "cell_type": "markdown",
   "id": "12e3cd54-3f12-4037-869b-0095bc37e1aa",
   "metadata": {
    "jp-MarkdownHeadingCollapsed": true,
    "tags": []
   },
   "source": [
    "##### Question 1\n"
   ]
  },
  {
   "cell_type": "markdown",
   "id": "48a9d483-3a2c-4b05-babf-344f3dda579e",
   "metadata": {},
   "source": [
    "Exception in a python is a type of error occured in the code. Whenever the exception has occured then it will generate a \n",
    "exception handling for it.\n",
    "\n",
    "the main difference between error and exception is that when an error occured in program it will not execute the lines below it but in exception it will give the error but also execute the lines below it.\n"
   ]
  },
  {
   "cell_type": "markdown",
   "id": "aa17827a-d9be-4f91-b815-970683fffe31",
   "metadata": {
    "tags": []
   },
   "source": [
    "##### Question 2\n"
   ]
  },
  {
   "cell_type": "markdown",
   "id": "06609360-8055-435c-a942-4360a6942d8a",
   "metadata": {},
   "source": [
    "the program will be terminated with a error message.\n",
    "\n",
    "e.g->"
   ]
  },
  {
   "cell_type": "code",
   "execution_count": null,
   "id": "7d44f6c3-8ad2-4cd9-9c00-4133857af6d8",
   "metadata": {},
   "outputs": [],
   "source": [
    "def test(num, denom):\n",
    "    result = num/denom\n",
    "    return result\n",
    "\n",
    "print(test(14,0))\n",
    "#This statement can be handled using exception handling\n"
   ]
  },
  {
   "cell_type": "code",
   "execution_count": null,
   "id": "3cf8cd75-473a-43cf-9b33-f2248b3c42ca",
   "metadata": {},
   "outputs": [],
   "source": [
    "#e.g-2:\n",
    "\n",
    "def test(num, denom):\n",
    "    \n",
    "    try:\n",
    "        result = num/denom\n",
    "    except MemoryError as e:\n",
    "        print(\"Error occured\")\n",
    "    \n",
    "print(test(14,0))"
   ]
  },
  {
   "cell_type": "markdown",
   "id": "2d34dcdc-b05a-4641-b3f9-abb3d8d9057c",
   "metadata": {},
   "source": [
    "##### Question 3"
   ]
  },
  {
   "cell_type": "markdown",
   "id": "8565ab32-8086-4688-806a-ad9295f303fb",
   "metadata": {},
   "source": [
    "2 satements are used in python to handle and catch the exceptions\n",
    "\n",
    "1. try\n",
    "2. Catch\n",
    "\n",
    "try-> This is used when their are chances of occurence of exceptions\n",
    "catch-> It is used to catch the exception and handle it\n"
   ]
  },
  {
   "cell_type": "code",
   "execution_count": 34,
   "id": "92cf56af-93f5-4995-bddd-0e25db76b31c",
   "metadata": {},
   "outputs": [
    {
     "name": "stdout",
     "output_type": "stream",
     "text": [
      "error has occured division by zero\n"
     ]
    }
   ],
   "source": [
    "#e.g\n",
    "#it is piece of block in which their are chances of exceptions\n",
    "try:\n",
    "    result = 41/0\n",
    "#it will handle the above exception\n",
    "except ZeroDivisionError as e:\n",
    "    print(\"error has occured\",e)"
   ]
  },
  {
   "cell_type": "markdown",
   "id": "a4edc818-51e0-4f4a-9195-9f892e12ba3a",
   "metadata": {},
   "source": [
    "##### Question 4"
   ]
  },
  {
   "cell_type": "code",
   "execution_count": 4,
   "id": "9c779562-8055-4ea9-9de8-191b5473b19d",
   "metadata": {},
   "outputs": [
    {
     "name": "stdout",
     "output_type": "stream",
     "text": [
      "succefully calculated\n",
      "7.0\n"
     ]
    }
   ],
   "source": [
    "# a). try and else\n",
    "\n",
    "\n",
    "def test1(num,denom):\n",
    "    try:\n",
    "        result = num/denom\n",
    "    except Exception as e:\n",
    "        print(\"Zero division error\" ,e)\n",
    "    #else satement will be executed exception has not occured\n",
    "    else:\n",
    "        print(\"succefully calculated\")\n",
    "        print(result)\n",
    "test1(14,2)\n",
    "        "
   ]
  },
  {
   "cell_type": "code",
   "execution_count": 7,
   "id": "ccdddde9-7ec7-4656-bcdf-e60a1b702948",
   "metadata": {},
   "outputs": [
    {
     "name": "stdout",
     "output_type": "stream",
     "text": [
      "This statement will always be executed\n"
     ]
    }
   ],
   "source": [
    "# b). finally\n",
    "try:\n",
    "    def test2(num,denom):\n",
    "        result = num/denom\n",
    "except Exception as e:\n",
    "    print(\"Error \",e)\n",
    "finally:\n",
    "    print(\"This statement will always be executed\")\n",
    "test2(12,14)"
   ]
  },
  {
   "cell_type": "code",
   "execution_count": 10,
   "id": "25d80484-c0c0-4403-b21e-afb303d7de2a",
   "metadata": {},
   "outputs": [
    {
     "ename": "TypeError",
     "evalue": "Only integers are allowed",
     "output_type": "error",
     "traceback": [
      "\u001b[0;31m---------------------------------------------------------------------------\u001b[0m",
      "\u001b[0;31mTypeError\u001b[0m                                 Traceback (most recent call last)",
      "Cell \u001b[0;32mIn[10], line 5\u001b[0m\n\u001b[1;32m      2\u001b[0m a \u001b[38;5;241m=\u001b[39m \u001b[38;5;124m\"\u001b[39m\u001b[38;5;124mpw\u001b[39m\u001b[38;5;124m\"\u001b[39m\n\u001b[1;32m      4\u001b[0m \u001b[38;5;28;01mif\u001b[39;00m \u001b[38;5;28mtype\u001b[39m(a) \u001b[38;5;129;01mis\u001b[39;00m \u001b[38;5;129;01mnot\u001b[39;00m \u001b[38;5;28mint\u001b[39m:\n\u001b[0;32m----> 5\u001b[0m     \u001b[38;5;28;01mraise\u001b[39;00m \u001b[38;5;167;01mTypeError\u001b[39;00m(\u001b[38;5;124m\"\u001b[39m\u001b[38;5;124mOnly integers are allowed\u001b[39m\u001b[38;5;124m\"\u001b[39m)\n",
      "\u001b[0;31mTypeError\u001b[0m: Only integers are allowed"
     ]
    }
   ],
   "source": [
    "#c). raise\n",
    "a = \"pw\"\n",
    "\n",
    "if type(a) is not int:\n",
    "    raise TypeError(\"Only integers are allowed\")"
   ]
  },
  {
   "cell_type": "markdown",
   "id": "9870a81c-2e97-4377-884c-8fe4f130458e",
   "metadata": {},
   "source": [
    "##### Question 5"
   ]
  },
  {
   "cell_type": "markdown",
   "id": "7b1bd1f6-d063-484d-b88c-e4c0c825d2f7",
   "metadata": {},
   "source": [
    "Custom exceptions are the classes inherited from the Exception class and they are declared by the user for a specific exception handling."
   ]
  },
  {
   "cell_type": "markdown",
   "id": "86a4994d-b7e3-45ff-967d-a448be227879",
   "metadata": {},
   "source": [
    "Sometimes there are errors(exceptions) that are not defined in the main Exception class. To overcome this problem custom handling is needed"
   ]
  },
  {
   "cell_type": "code",
   "execution_count": 24,
   "id": "49c02345-a109-460c-bfe7-11f1c34253ee",
   "metadata": {},
   "outputs": [],
   "source": [
    "class demo(Exception):\n",
    "    \n",
    "    def __init__(self,msg):\n",
    "        self.msg = msg\n",
    "    "
   ]
  },
  {
   "cell_type": "code",
   "execution_count": 25,
   "id": "20054afe-270d-4a2a-9814-9ee44bea417f",
   "metadata": {},
   "outputs": [],
   "source": [
    "def demoo(leng):\n",
    "    if leng<0:\n",
    "        raise demo(\"Length is negative\")\n",
    "    else:\n",
    "        print(\"length is correct\")\n",
    "        "
   ]
  },
  {
   "cell_type": "code",
   "execution_count": 26,
   "id": "28d16055-4ef9-4f48-910a-45a0762581d2",
   "metadata": {},
   "outputs": [
    {
     "name": "stdin",
     "output_type": "stream",
     "text": [
      "Enter length -645\n"
     ]
    },
    {
     "name": "stdout",
     "output_type": "stream",
     "text": [
      "Length is negative\n"
     ]
    }
   ],
   "source": [
    "try:\n",
    "    l = int(input(\"Enter length\"))\n",
    "    demoo(l)\n",
    "except demo as e:\n",
    "    print(e)"
   ]
  },
  {
   "cell_type": "markdown",
   "id": "94cd3d74-01ed-4079-aa3d-4c6d109a1119",
   "metadata": {},
   "source": [
    "##### Question 6"
   ]
  },
  {
   "cell_type": "code",
   "execution_count": 27,
   "id": "c31400b7-f777-42b9-8741-d87b8a61e2c7",
   "metadata": {},
   "outputs": [],
   "source": [
    "class validage(Exception):\n",
    "    def __init__ (self,msg):\n",
    "        self.msg = msg\n",
    "        "
   ]
  },
  {
   "cell_type": "code",
   "execution_count": 28,
   "id": "8c6372b9-5c43-4c53-a2e4-fd72567cc5e9",
   "metadata": {},
   "outputs": [],
   "source": [
    "def validateage(age):\n",
    "    if age<0:\n",
    "        raise validage(\"Age cannot be negative\")\n",
    "    else:\n",
    "        print(\"age is correct\")\n",
    "    "
   ]
  },
  {
   "cell_type": "code",
   "execution_count": 30,
   "id": "2d596886-1e1b-4529-babf-6264c762e886",
   "metadata": {},
   "outputs": [
    {
     "name": "stdin",
     "output_type": "stream",
     "text": [
      "Enter the age:  5\n"
     ]
    },
    {
     "name": "stdout",
     "output_type": "stream",
     "text": [
      "age is correct\n"
     ]
    }
   ],
   "source": [
    "try:\n",
    "    age = int(input(\"Enter the age: \"))\n",
    "    validateage(age)\n",
    "except validage as e:\n",
    "    print(e)"
   ]
  },
  {
   "cell_type": "code",
   "execution_count": null,
   "id": "ca5f9fdd-de43-431a-837c-0d5c5bb7cdef",
   "metadata": {},
   "outputs": [],
   "source": []
  }
 ],
 "metadata": {
  "kernelspec": {
   "display_name": "Python 3 (ipykernel)",
   "language": "python",
   "name": "python3"
  },
  "language_info": {
   "codemirror_mode": {
    "name": "ipython",
    "version": 3
   },
   "file_extension": ".py",
   "mimetype": "text/x-python",
   "name": "python",
   "nbconvert_exporter": "python",
   "pygments_lexer": "ipython3",
   "version": "3.10.8"
  }
 },
 "nbformat": 4,
 "nbformat_minor": 5
}
