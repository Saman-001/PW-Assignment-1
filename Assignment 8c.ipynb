{
 "cells": [
  {
   "cell_type": "markdown",
   "id": "b585632f-620d-44bc-89b0-8b0029003f86",
   "metadata": {},
   "source": [
    "##### Question 1"
   ]
  },
  {
   "cell_type": "markdown",
   "id": "48905bf6-7298-45b0-951e-692e8e8aac51",
   "metadata": {},
   "source": [
    "Multithreading is the ability to perform various task in a process simultaneously. In multithreading their is only 1 \n",
    "memory stack.\n",
    "\n",
    "It is used to perform more than one task at a particular interval of time.\n",
    "\n",
    "Module used to handle thread in python is 'threading'."
   ]
  },
  {
   "cell_type": "markdown",
   "id": "3906879d-b812-483e-ba5b-9826347fcbc0",
   "metadata": {},
   "source": [
    "##### Question 2"
   ]
  },
  {
   "cell_type": "markdown",
   "id": "c51939b8-8052-41eb-88ff-7a4f948fe480",
   "metadata": {},
   "source": [
    "Threading module is used to increase the performance, increase responsiveness and to implement \n",
    "concurency.\n",
    "\n",
    "1. activeCount() -  This function is used return the active threads running in the interpreter.\n",
    "2. currentThread() - It is used to return the current thread object.\n",
    "3. enumrate() - This function is used to iterate over a list of threads and get their index and value.\n"
   ]
  },
  {
   "cell_type": "markdown",
   "id": "35c0a7e7-d392-4f3f-b88b-d46c79c340fb",
   "metadata": {},
   "source": [
    "##### Question 3"
   ]
  },
  {
   "cell_type": "markdown",
   "id": "d89cb63e-8cc5-471e-91bf-c2fdf200cd96",
   "metadata": {},
   "source": [
    "1. run() - This method can be overridden to implement the custom code that the thread should execute. \n",
    "2. start() - This method will start the execution of thread and run the function that is passed in the thread.\n",
    "3. join() - This method on a thread object in Python blocks the calling thread until the target thread has finished executing. It also ensures that the target thread has been completely cleaned up before returning.\n",
    "4. isAlive() - This method is used to check the thread is still running or not, if it is running then it will return True else it will return False."
   ]
  },
  {
   "cell_type": "markdown",
   "id": "20d0c9b1-9b7b-418b-8142-3361f0fca6a5",
   "metadata": {},
   "source": [
    "##### Question 4"
   ]
  },
  {
   "cell_type": "code",
   "execution_count": 8,
   "id": "d7d1d643-2283-494a-aae0-7faec3b66104",
   "metadata": {},
   "outputs": [],
   "source": [
    "import threading \n",
    "import time"
   ]
  },
  {
   "cell_type": "code",
   "execution_count": 10,
   "id": "a8fbd614-50cd-4865-a54e-71a7d56e1368",
   "metadata": {},
   "outputs": [
    {
     "name": "stdout",
     "output_type": "stream",
     "text": [
      "Square of 1 is 1\n",
      "Square of 2 is 4\n",
      "Square of 3 is 9\n",
      "Square of 4 is 16\n",
      "Square of 5 is 25\n",
      "Cube of 1 is 1\n",
      "Cube of 2 is 8\n",
      "Cube of 3 is 27\n",
      "Cube of 4 is 64\n",
      "Cube of 5 is 125\n"
     ]
    }
   ],
   "source": [
    "def sq_num():\n",
    "    for i in range(1,6):\n",
    "        res =  i**2\n",
    "        print(f'Square of {i} is {res}')\n",
    "        # time.sleep(1)\n",
    "    \n",
    "def cub_num():\n",
    "    for i in range(1,6):\n",
    "        res1 = i**3\n",
    "        print(f'Cube of {i} is {res1}')\n",
    "\n",
    "\n",
    "m1= threading.Thread(target=sq_num)\n",
    "m2 = threading.Thread(target=cub_num)\n",
    "m1.start()\n",
    "m2.start()\n",
    "m1.join()\n",
    "m2.join()"
   ]
  },
  {
   "cell_type": "markdown",
   "id": "ce0a0cd5-1290-4fae-813b-ed4f37bfd025",
   "metadata": {},
   "source": [
    "##### Question 5"
   ]
  },
  {
   "cell_type": "markdown",
   "id": "181151ab-f996-4fd9-8160-f24e994ab8d7",
   "metadata": {},
   "source": [
    "Advantages of multitheading:\n",
    "\n",
    "1. Improve speed of the program\n",
    "2. Reduce the time complexity.\n",
    "3. Reduce the load on the system\n",
    "4. resources are used more efficiently.\n",
    "\n",
    "\n",
    "Disadvantages of Multithreading:\n",
    "\n",
    "1. It increase the complexity to design these programs\n",
    "2. They are more difficult to debug.\n",
    "3. It can lead to the occurence of the race conditions."
   ]
  },
  {
   "cell_type": "markdown",
   "id": "45b20932-5358-4cef-851e-b8df79d8987b",
   "metadata": {},
   "source": [
    "##### Question 6"
   ]
  },
  {
   "cell_type": "markdown",
   "id": "2f7bc931-4eb9-44ba-897a-765b50f99553",
   "metadata": {},
   "source": [
    "1. Deadlocks : A deadlock is a situation where two or more threads are waiting for each other to finish executing, but neither thread can finish executing because they are both waiting for the other.\n",
    "\n",
    "2. Race Condition - A race condition occurs when two or more threads are trying to access the same data at the same time and the outcome of the program depends on the order in which the threads access the data."
   ]
  },
  {
   "cell_type": "code",
   "execution_count": null,
   "id": "6b492075-bd92-4779-9da7-6a0f074b4545",
   "metadata": {},
   "outputs": [],
   "source": []
  }
 ],
 "metadata": {
  "kernelspec": {
   "display_name": "Python 3 (ipykernel)",
   "language": "python",
   "name": "python3"
  },
  "language_info": {
   "codemirror_mode": {
    "name": "ipython",
    "version": 3
   },
   "file_extension": ".py",
   "mimetype": "text/x-python",
   "name": "python",
   "nbconvert_exporter": "python",
   "pygments_lexer": "ipython3",
   "version": "3.10.8"
  }
 },
 "nbformat": 4,
 "nbformat_minor": 5
}
