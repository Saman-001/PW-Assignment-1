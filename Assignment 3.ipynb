{
 "cells": [
  {
   "cell_type": "code",
   "execution_count": 44,
   "id": "73762479-a0ba-4dde-a90d-c8ee55ee3809",
   "metadata": {},
   "outputs": [],
   "source": [
    "# Question 1\n",
    "\n",
    "# 'def' keyword is used to create a function in python\n",
    "\n",
    "# Function that return an odd value\n",
    "l=[1,2,3,4,5,6,7,8,9,10,11,12,13,14,15,16,17,18,19,20,21,22,23,24,25]\n",
    "odd = list(filter(lambda x : ( x % 2 !=0 ), l))"
   ]
  },
  {
   "cell_type": "code",
   "execution_count": 45,
   "id": "9a38670d-0b9e-4022-9d39-c84e64d03860",
   "metadata": {},
   "outputs": [
    {
     "data": {
      "text/plain": [
       "[1, 3, 5, 7, 9, 11, 13, 15, 17, 19, 21, 23, 25]"
      ]
     },
     "execution_count": 45,
     "metadata": {},
     "output_type": "execute_result"
    }
   ],
   "source": [
    "odd"
   ]
  },
  {
   "cell_type": "code",
   "execution_count": 46,
   "id": "538a4bdf-99c6-4c1a-aced-ee643178a145",
   "metadata": {},
   "outputs": [],
   "source": [
    "# Question 2\n",
    "\n",
    "\n",
    "# '*args' is used to pass multiple arguments in the function where as '**kwargs' \n",
    "# is used to pass multiple key arguements in which they act as dictionary and have a 'key' and 'value'\n",
    "\n",
    "# Function to return only integer data type\n",
    "\n",
    "def num(*args):\n",
    "    for i in args:\n",
    "        if type(i) == int:\n",
    "            print(i)\n"
   ]
  },
  {
   "cell_type": "code",
   "execution_count": 47,
   "id": "4dfa8628-bc5e-4da0-8446-97cc9244727e",
   "metadata": {},
   "outputs": [
    {
     "name": "stdout",
     "output_type": "stream",
     "text": [
      "1\n",
      "2\n",
      "5\n"
     ]
    }
   ],
   "source": [
    "num(1,2,5,\"pw\", \"skills\")"
   ]
  },
  {
   "cell_type": "code",
   "execution_count": 56,
   "id": "dca0c082-37bf-4df8-9f54-57712ca94438",
   "metadata": {},
   "outputs": [],
   "source": [
    "# Using **kwargs \n",
    "\n",
    "def kw(**kwargs):\n",
    "    return kwargs"
   ]
  },
  {
   "cell_type": "code",
   "execution_count": 57,
   "id": "4b6379b5-ce10-4d52-b65e-0e9cd05be04c",
   "metadata": {},
   "outputs": [
    {
     "data": {
      "text/plain": [
       "{'Name': 'Rohan', 'Batch': 'Data Science', 'pw': 'Skills'}"
      ]
     },
     "execution_count": 57,
     "metadata": {},
     "output_type": "execute_result"
    }
   ],
   "source": [
    "kw (Name  = \"Rohan\" , Batch =\"Data Science\" , pw=\"Skills\" )"
   ]
  },
  {
   "cell_type": "code",
   "execution_count": 72,
   "id": "88456ee9-8c8f-4d9c-83c4-b9ef5c8fb020",
   "metadata": {},
   "outputs": [
    {
     "name": "stdout",
     "output_type": "stream",
     "text": [
      "2\n",
      "4\n",
      "6\n",
      "8\n",
      "10\n"
     ]
    }
   ],
   "source": [
    "# Question 3\n",
    "\n",
    "# Iterator is an object that is used to iterate over iterable items such as string,tuple.\n",
    "# keyword used to intialise the iterator is 'iter()'\n",
    "# method used for iteration is next()\n",
    "\n",
    "l = [2,4,6,8,10,12,14,16,18,20]\n",
    "l1 = iter(l)\n",
    "print(next(l1))\n",
    "print(next(l1))\n",
    "print(next(l1))\n",
    "print(next(l1))\n",
    "print(next(l1))"
   ]
  },
  {
   "cell_type": "code",
   "execution_count": 77,
   "id": "71925c64-7bb5-4a5e-bdd6-e9a13bcb5c18",
   "metadata": {},
   "outputs": [],
   "source": [
    "# Question 4\n",
    "'''generator is a special type of function in a python in which it does not return the single value but multiple values.\n",
    "yield keyword is used for generator function , it main task is to temporarily suspend the execution of a function and resumes when it called'''\n",
    "\n",
    "# GENERATOR FUNCTION\n",
    "\n",
    "def test(n):\n",
    "    for i in range(n):\n",
    "        yield i"
   ]
  },
  {
   "cell_type": "code",
   "execution_count": 78,
   "id": "e7b263fc-2921-47a7-b4ab-55cebfa56f49",
   "metadata": {},
   "outputs": [],
   "source": [
    "value  =  test(5)"
   ]
  },
  {
   "cell_type": "code",
   "execution_count": 79,
   "id": "4063f62e-b159-44ce-9a89-718df4be3f3f",
   "metadata": {},
   "outputs": [
    {
     "name": "stdout",
     "output_type": "stream",
     "text": [
      "0\n",
      "1\n",
      "2\n",
      "3\n",
      "4\n"
     ]
    }
   ],
   "source": [
    "for i in value:\n",
    "    print(i)"
   ]
  },
  {
   "cell_type": "code",
   "execution_count": null,
   "id": "99ff0a34-5757-493d-83e9-6cb3a561ce63",
   "metadata": {},
   "outputs": [],
   "source": [
    "# Question 5\n",
    "def isPrime(num):\n",
    "    for i in range(2,num):\n",
    "        if(num%i) == 0:\n",
    "            return False\n",
    "    return True\n",
    "\n",
    "\n",
    "def primeGenerator(n):\n",
    "    num =2\n",
    "    \n",
    "    while n:\n",
    "        if isPrime(num):\n",
    "            yield num\n",
    "            n-=1\n",
    "        num+=1\n",
    "    return\n",
    "\n",
    "prime = primeGenerator(1000)"
   ]
  },
  {
   "cell_type": "code",
   "execution_count": null,
   "id": "3f1afb24-6a23-4d7c-8b64-61ff6b886f36",
   "metadata": {},
   "outputs": [],
   "source": [
    "for j in range(20):\n",
    "    print(next(prime))"
   ]
  },
  {
   "cell_type": "code",
   "execution_count": null,
   "id": "d914fdf5-d312-4f5c-8c04-28481e3309e9",
   "metadata": {},
   "outputs": [],
   "source": [
    "# Question 6\n",
    "\n",
    "a,b = 0,1\n",
    "i=1\n",
    "sum a+b\n",
    "while i<=10:\n",
    "    print(a)\n",
    "    a=b\n",
    "    b=sum\n",
    "    sum =a+b\n",
    "    i+=1"
   ]
  },
  {
   "cell_type": "code",
   "execution_count": null,
   "id": "333b4c65-e019-4ec7-b635-a6f078e8c676",
   "metadata": {},
   "outputs": [],
   "source": [
    "# Question 7\n",
    "\n",
    "''' It is an example of list comprehension'''\n",
    "\n",
    "l= [i for i in 'pwskills']\n",
    "print(l) "
   ]
  },
  {
   "cell_type": "code",
   "execution_count": null,
   "id": "c42f38db-283b-46be-a5d8-3c16b6c9bd1c",
   "metadata": {},
   "outputs": [],
   "source": [
    "# Question 8\n",
    "def pal(n):\n",
    "    res = str(n)\n",
    "    i=1\n",
    "    while i>0:\n",
    "        if res == res[::-1]:\n",
    "            print(\"Yes\")\n",
    "            break\n",
    "        else:\n",
    "            print(\"No\")\n",
    "            break\n",
    "pal(969)\n"
   ]
  },
  {
   "cell_type": "code",
   "execution_count": null,
   "id": "42e3415f-cbef-4ec0-bbc1-35d7b0d83cba",
   "metadata": {},
   "outputs": [],
   "source": [
    "# Question 9\n",
    "\n",
    "'''We used the list comprehension'''\n",
    "\n",
    "# l is the list of numbers from 1 to 100\n",
    "l = [n for n in range(1,101)]\n",
    "# odd variable contains the odd number of list l\n",
    "odd = [i for i in l if (i%2) != 0]\n",
    "print(odd)"
   ]
  },
  {
   "cell_type": "code",
   "execution_count": null,
   "id": "7cebf9c8-faff-41c1-a799-d15e5dd8eeba",
   "metadata": {},
   "outputs": [],
   "source": []
  }
 ],
 "metadata": {
  "kernelspec": {
   "display_name": "Python 3 (ipykernel)",
   "language": "python",
   "name": "python3"
  },
  "language_info": {
   "codemirror_mode": {
    "name": "ipython",
    "version": 3
   },
   "file_extension": ".py",
   "mimetype": "text/x-python",
   "name": "python",
   "nbconvert_exporter": "python",
   "pygments_lexer": "ipython3",
   "version": "3.10.8"
  }
 },
 "nbformat": 4,
 "nbformat_minor": 5
}
