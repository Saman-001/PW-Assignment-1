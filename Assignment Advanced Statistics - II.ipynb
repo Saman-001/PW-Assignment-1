{
 "cells": [
  {
   "cell_type": "markdown",
   "metadata": {},
   "source": [
    "### Question 1\n",
    "\n",
    "The PMF is used to describe the probability distribution of a discrete random variable. It gives the probability that a discrete random variable is exactly equal to some value.\n",
    "e.g - Consider rolling a fair six-sided die. The PMF for this scenario would assign a probability of 1/6 to each possible outcome (1, 2, 3, 4, 5, or 6), since each outcome has an equal chance of occurring.\n",
    "\n",
    "The PDF is used to describe the probability distribution of a continuous random variable. It represents the probability density over a range of values rather than the probability at specific points.\n",
    "e.g - Consider the height of adult males in a population, which is typically modeled using a normal distribution. The PDF for this scenario would be the bell-shaped curve representing the relative likelihood of different height values. For instance, the PDF might show that heights between 170 cm and 180 cm are more likely than extremely tall or short heights."
   ]
  },
  {
   "cell_type": "markdown",
   "metadata": {},
   "source": [
    "### Question 2\n",
    "\n",
    "The Cumulative Distribution Function (CDF) gives the probability that a random variable is less than or equal to a specified value. It accumulates probabilities as we move along the range of possible values.\n",
    "\n",
    "For example, in a standard normal distribution, the CDF at x=1 provides the probability that the random variable is less than or equal to 1. \n",
    "\n",
    "CDFs are useful for evaluating probabilities, understanding distribution characteristics, and comparing different distributions."
   ]
  },
  {
   "cell_type": "markdown",
   "metadata": {},
   "source": [
    "### Question 3\n",
    "\n",
    "The normal distribution is commonly used to model:\n",
    "\n",
    "1. Height: Heights of people in a population.\n",
    "2. IQ Scores: Intelligence quotient scores.\n",
    "3. Measurement Errors: Errors in scientific experiments or industrial processes.\n",
    "4. Financial Data: Stock prices, investment returns.\n",
    "5. Biological Traits: Birth weight, blood pressure, enzyme activity.\n",
    "\n",
    "The parameters of the normal distribution are the mean (μ) and the standard deviation (σ).\n",
    "\n",
    "1. Mean (μ): The mean determines the central tendency or the location of the peak of the distribution. It represents the average value around which the data are centered.\n",
    "\n",
    "2. Standard Deviation (σ): The standard deviation controls the spread or dispersion of the data points around the mean. A larger standard deviation indicates greater variability in the data, leading to a wider and flatter distribution. Conversely, a smaller standard deviation results in a narrower and taller distribution."
   ]
  },
  {
   "cell_type": "markdown",
   "metadata": {},
   "source": [
    "### Question 4 \n",
    "\n",
    "The normal distribution is crucial due to its:\n",
    "\n",
    "1. Ubiquity: Many natural phenomena conform to its shape.\n",
    "2. Central Limit Theorem: It's central to this theorem, which is fundamental in statistics.\n",
    "3. Statistical Inference: It's used in hypothesis testing and regression analysis.\n",
    "4. Predictive Modeling: It's employed in various fields for predictive modeling.\n",
    "\n",
    "\n",
    "Real-life examples include:\n",
    "\n",
    "1. Heights of people\n",
    "2. IQ scores\n",
    "3. Measurement errors\n",
    "4. Test scores\n",
    "5. Financial data"
   ]
  },
  {
   "cell_type": "markdown",
   "metadata": {},
   "source": [
    "### Question 5 \n",
    "\n",
    "The Bernoulli distribution is a discrete probability distribution that models a random variable that can take on one of two possible outcomes: success or failure.\n",
    "\n",
    "e.g - Flipping of a coin.\n",
    "\n",
    "Difference between Bernoulli and Binomial Distribution:-\n",
    "\n",
    "1. Bernoulli Distribution models a single trial with two outcomes, success or failure, characterized by a parameter p representing the probability of success.\n",
    "2. Binomial Distribution models the number of successes in a fixed number of independent Bernoulli trials, with parameters n (number of trials) and p (probability of success).\n",
    "3. Bernoulli Distribution is for one trial, while Binomial Distribution deals with multiple trials.\n",
    "4. Binomial Distribution is a generalization of Bernoulli Distribution to multiple trials."
   ]
  },
  {
   "cell_type": "markdown",
   "metadata": {},
   "source": [
    "### Question 6\n",
    "\n",
    "For this we will use z-score formula.\n",
    "\n",
    "z = (x-μ)/σ\n",
    "\n",
    "\n",
    "x = value\n",
    "μ = mean \n",
    "σ = standard deviation\n",
    "z =  60-50 / 10 \n",
    "  = 10/10\n",
    "  = 1\n",
    "\n",
    "Now, we look up the area to the right of z =1 in the standard normal distribution table.\n",
    "\n",
    "the area under the z=1 is approximately equals to 0.1587.\n",
    "\n",
    "hence, the probability is 15.87%\n"
   ]
  },
  {
   "cell_type": "markdown",
   "metadata": {},
   "source": [
    "### Question 7 \n",
    "\n",
    "The uniform distribution is a probability distribution where all outcomes within a given range are equally likely. In other words, each value within the range has an equal probability of occurring.\n",
    "\n",
    "e.g = Rolling of a fair six-sided die.\n"
   ]
  },
  {
   "cell_type": "markdown",
   "metadata": {},
   "source": [
    "### Question 8\n",
    "\n",
    "The z-score, also known as the standard score, measures the number of standard deviations a data point is from the mean of the dataset.\n",
    "It's formula is:\n",
    "z =(x-μ)/σ\n",
    "\n",
    "Importance of z-score is :\n",
    "\n",
    "1. Standardizes data for easy comparison across different datasets.\n",
    "2. Identifies outliers by measuring deviations from the mean.\n",
    "3. Facilitates probability estimation, especially in the context of the standard normal distribution.\n",
    "4. Enables quality control in fields like manufacturing by comparing measurements to standard distributions."
   ]
  },
  {
   "cell_type": "markdown",
   "metadata": {},
   "source": [
    "### Question 9\n",
    "\n",
    "It says that sampling distribution of the mean will always be normally distributed, as long as the sample size is large enough. Regardless of whether the population has a normal,Poission, binomial or any other distribution, the sampling distribution of the mean will be normal.\n",
    "\n",
    "\n",
    "The Central Limit Theorem is significant because it:\n",
    "\n",
    "1. Forms the basis for statistical inference methods.\n",
    "2. Explains why sampling distributions tend to be normal.\n",
    "3. Ensures reliability in statistical analyses, especially with large sample sizes.\n",
    "4. Widely applicable across various fields, enabling confident data analysis and decision-making."
   ]
  },
  {
   "cell_type": "markdown",
   "metadata": {},
   "source": [
    "### Question 10\n",
    "\n",
    "The assumptions of the Central Limit Theorem are:\n",
    "\n",
    "1. Independence of random variables.\n",
    "2. Identical distribution for each variable.\n",
    "3. Finite variance of the random variables.\n",
    "4. Random sampling from the population."
   ]
  },
  {
   "cell_type": "code",
   "execution_count": null,
   "metadata": {},
   "outputs": [],
   "source": []
  }
 ],
 "metadata": {
  "language_info": {
   "name": "python"
  }
 },
 "nbformat": 4,
 "nbformat_minor": 2
}
