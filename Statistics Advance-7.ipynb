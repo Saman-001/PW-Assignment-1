{
 "cells": [
  {
   "cell_type": "markdown",
   "id": "d2b8b720-dc42-403a-95f8-f7c1f8e60aee",
   "metadata": {},
   "source": [
    "### Question 1"
   ]
  },
  {
   "cell_type": "code",
   "execution_count": 2,
   "id": "a3e65cfd-caf4-4935-a597-4cd9afc34d1b",
   "metadata": {},
   "outputs": [],
   "source": [
    "import numpy as np\n",
    "from scipy.stats import f\n"
   ]
  },
  {
   "cell_type": "code",
   "execution_count": 3,
   "id": "5e5110a8-cc87-41e3-bb35-9e1655996562",
   "metadata": {},
   "outputs": [],
   "source": [
    "def var_ratio_test(arr1, arr2):\n",
    "    var1 = np.var(arr1,ddof=1)\n",
    "    var2 = np.var(arr2,ddof=1)\n",
    "    \n",
    "    F = var1/var2\n",
    "    \n",
    "    df1 = len(arr1) -1\n",
    "    df2 = len(arr2) -1\n",
    "    \n",
    "    pvalue = f.cdf(F,df1,df2)\n",
    "    \n",
    "    return F, pvalue"
   ]
  },
  {
   "cell_type": "markdown",
   "id": "e24a86a8-2bd4-4146-8331-a70c234383a8",
   "metadata": {},
   "source": [
    "### Question 2"
   ]
  },
  {
   "cell_type": "code",
   "execution_count": 4,
   "id": "fd6a0bff-b678-4b14-a442-d11763f8dcd6",
   "metadata": {},
   "outputs": [],
   "source": [
    "\n",
    "def critical_f_value(alpha, df1, df2):\n",
    "    # Calculate critical F-value\n",
    "    crit_value = f.ppf(1 - alpha/2, df1, df2)\n",
    "    \n",
    "    return crit_value\n"
   ]
  },
  {
   "cell_type": "markdown",
   "id": "7c23633b-2f73-4c53-a9c4-30fe1db9423e",
   "metadata": {},
   "source": [
    "### Question 3"
   ]
  },
  {
   "cell_type": "code",
   "execution_count": 7,
   "id": "504b580f-e674-46e0-9e85-70bd9cb3cb17",
   "metadata": {},
   "outputs": [
    {
     "name": "stdout",
     "output_type": "stream",
     "text": [
      "F-value: 0.9053\n",
      "Degrees of freedom: (29, 29)\n",
      "P-value: 0.3953\n",
      "Fail to reject the null hypothesis: Variances are equal.\n"
     ]
    }
   ],
   "source": [
    "def var_test(s1,s2,var1,var2,alpha=0.05):\n",
    "    var_s1 =  np.var(s1,ddof=1)\n",
    "    var_s2 = np.var(s2,ddof=1)\n",
    "    \n",
    "    F = var_s1/var_s2\n",
    "    \n",
    "    df1 = len(s1)-1\n",
    "    df2 = len(s2)-1\n",
    "    \n",
    "    pvalue = f.cdf(F,df1,df2)\n",
    "    \n",
    "    reject_null = pvalue<alpha\n",
    "    \n",
    "    return F,df1,df2,pvalue,reject_null\n",
    "\n",
    "if __name__ == '__main__':\n",
    "    np.random.seed(0)\n",
    "    mean1,mean2 = 0,0\n",
    "    var1,var2 = 5,8\n",
    "    n1,n2 =30,30\n",
    "    alpha = 0.05\n",
    "    \n",
    "    s1 = np.random.normal(mean1, np.sqrt(var1), n1)\n",
    "    s2 = np.random.normal(mean2, np.sqrt(var2), n2)\n",
    "    \n",
    "    # Perform variance test\n",
    "    F, df1, df2, pvalue, reject_null = var_test(s1, s2, var1, var2, alpha)\n",
    "    \n",
    "    # Output results\n",
    "    print(f\"F-value: {F:.4f}\")\n",
    "    print(f\"Degrees of freedom: ({df1}, {df2})\")\n",
    "    print(f\"P-value: {pvalue:.4f}\")\n",
    "    \n",
    "    if reject_null:\n",
    "        print(\"Reject the null hypothesis: Variances are not equal.\")\n",
    "    else:\n",
    "        print(\"Fail to reject the null hypothesis: Variances are equal.\")"
   ]
  },
  {
   "cell_type": "markdown",
   "id": "4406f797-710e-421e-a150-21e00d02b469",
   "metadata": {},
   "source": [
    "### Question 4"
   ]
  },
  {
   "cell_type": "code",
   "execution_count": 8,
   "id": "4ea6b0c6-0044-477f-b33f-b19f7e82551d",
   "metadata": {},
   "outputs": [
    {
     "name": "stdout",
     "output_type": "stream",
     "text": [
      "F-value: 0.5577\n",
      "Degrees of freedom: (11, 11)\n",
      "P-value: 0.3471\n",
      "Fail to reject the null hypothesis: Variances are not significantly different.\n"
     ]
    }
   ],
   "source": [
    "def perform_variance_test(sample1, sample2, alpha=0.05):\n",
    "    # Compute sample variances\n",
    "    var_sample1 = np.var(sample1, ddof=1)  # sample variance of sample1\n",
    "    var_sample2 = np.var(sample2, ddof=1)  # sample variance of sample2\n",
    "    \n",
    "    # Calculate F-value\n",
    "    F = var_sample1 / var_sample2\n",
    "    \n",
    "    # Degrees of freedom\n",
    "    df1 = len(sample1) - 1\n",
    "    df2 = len(sample2) - 1\n",
    "    \n",
    "    # Calculate p-value (two-tailed)\n",
    "    p_value = 2 * min(f.cdf(F, df1, df2), 1 - f.cdf(F, df1, df2))\n",
    "    \n",
    "    # Determine if we reject or fail to reject the null hypothesis\n",
    "    reject_null = p_value < alpha\n",
    "    \n",
    "    return F, df1, df2, p_value, reject_null\n",
    "\n",
    "# Example usage:\n",
    "if __name__ == \"__main__\":\n",
    "    # Parameters\n",
    "    np.random.seed(0)  # for reproducibility\n",
    "    mean1, mean2 = 0, 0\n",
    "    var1, var2 = 10, 15  # known variances\n",
    "    n1, n2 = 12, 12  # sample sizes\n",
    "    alpha = 0.05  # significance level\n",
    "    \n",
    "    # Generate random samples from normal distributions\n",
    "    sample1 = np.random.normal(mean1, np.sqrt(var1), n1)\n",
    "    sample2 = np.random.normal(mean2, np.sqrt(var2), n2)\n",
    "    \n",
    "    # Perform variance test\n",
    "    F_value, df1, df2, p_value, reject_null = perform_variance_test(sample1, sample2, alpha)\n",
    "    \n",
    "    # Output results\n",
    "    print(f\"F-value: {F_value:.4f}\")\n",
    "    print(f\"Degrees of freedom: ({df1}, {df2})\")\n",
    "    print(f\"P-value: {p_value:.4f}\")\n",
    "    \n",
    "    if reject_null:\n",
    "        print(\"Reject the null hypothesis: Variances are significantly different.\")\n",
    "    else:\n",
    "        print(\"Fail to reject the null hypothesis: Variances are not significantly different.\")\n",
    "\n"
   ]
  },
  {
   "cell_type": "markdown",
   "id": "184191d1-e270-49fc-9917-ad54012d1fa5",
   "metadata": {},
   "source": [
    "### Question 5"
   ]
  },
  {
   "cell_type": "code",
   "execution_count": 9,
   "id": "1377b481-01a9-41dc-8ac8-8ad443226f71",
   "metadata": {},
   "outputs": [
    {
     "name": "stdout",
     "output_type": "stream",
     "text": [
      "F-value: 1.2000\n",
      "Degrees of freedom: (24, 24)\n",
      "P-value: 0.6587\n",
      "Critical values: (0.3371, 2.9667)\n",
      "Fail to reject the null hypothesis: The claimed variance is justified.\n"
     ]
    }
   ],
   "source": [
    "import numpy as np\n",
    "from scipy.stats import f\n",
    "\n",
    "def perform_variance_test(claimed_variance, sample_variance, sample_size, alpha=0.01):\n",
    "    # Calculate the F-value\n",
    "    F = sample_variance / claimed_variance\n",
    "    \n",
    "    # Degrees of freedom\n",
    "    df1 = sample_size - 1\n",
    "    df2 = sample_size - 1  # same since we are comparing against a claimed variance\n",
    "    \n",
    "    # Calculate critical values for two-tailed test\n",
    "    critical_value_low = f.ppf(alpha / 2, df1, df2)\n",
    "    critical_value_high = f.ppf(1 - alpha / 2, df1, df2)\n",
    "    \n",
    "    # Calculate p-value for the test\n",
    "    if F > 1:\n",
    "        p_value = 2 * (1 - f.cdf(F, df1, df2))\n",
    "    else:\n",
    "        p_value = 2 * f.cdf(F, df1, df2)\n",
    "    \n",
    "    # Determine if we reject or fail to reject the null hypothesis\n",
    "    reject_null = p_value < alpha\n",
    "    \n",
    "    return F, df1, df2, p_value, reject_null, critical_value_low, critical_value_high\n",
    "\n",
    "# Example usage:\n",
    "if __name__ == \"__main__\":\n",
    "    # Given data\n",
    "    claimed_variance = 0.005\n",
    "    sample_variance = 0.006\n",
    "    sample_size = 25\n",
    "    alpha = 0.01  # significance level\n",
    "    \n",
    "    # Perform variance test\n",
    "    F_value, df1, df2, p_value, reject_null, crit_val_low, crit_val_high = perform_variance_test(\n",
    "        claimed_variance, sample_variance, sample_size, alpha)\n",
    "    \n",
    "    # Output results\n",
    "    print(f\"F-value: {F_value:.4f}\")\n",
    "    print(f\"Degrees of freedom: ({df1}, {df2})\")\n",
    "    print(f\"P-value: {p_value:.4f}\")\n",
    "    print(f\"Critical values: ({crit_val_low:.4f}, {crit_val_high:.4f})\")\n",
    "    \n",
    "    if reject_null:\n",
    "        print(\"Reject the null hypothesis: The claimed variance is not justified.\")\n",
    "    else:\n",
    "        print(\"Fail to reject the null hypothesis: The claimed variance is justified.\")\n"
   ]
  },
  {
   "cell_type": "markdown",
   "id": "f08cf918-8659-4d8a-9cf1-031934284ea9",
   "metadata": {},
   "source": [
    "### Question 6"
   ]
  },
  {
   "cell_type": "code",
   "execution_count": 15,
   "id": "720058a9-9cc2-4aac-8251-cc996c1f6fba",
   "metadata": {},
   "outputs": [],
   "source": [
    "def cal_mean_var(df1,df2,alpha=0.05):\n",
    "    if df2>2:\n",
    "        mean = df2/(df2-2)\n",
    "    else:\n",
    "        mean = float('inf') \n",
    "    \n",
    "    if df2>4 :\n",
    "        var = (2 * (df2 ** 2) * (df1 + df2 - 2)) / (df1 * (df2 - 2) ** 2 * (df2 - 4))\n",
    "    else:\n",
    "        var =float('inf')\n",
    "    \n",
    "    return (mean , var)"
   ]
  },
  {
   "cell_type": "code",
   "execution_count": 17,
   "id": "3ca646c3-8919-474a-8958-bec1e255881f",
   "metadata": {},
   "outputs": [
    {
     "name": "stdout",
     "output_type": "stream",
     "text": [
      "(1.25, 1.3541666666666667)\n",
      "<class 'tuple'>\n"
     ]
    }
   ],
   "source": [
    "# Example usage:\n",
    "df1 = 5\n",
    "df2 = 10\n",
    "\n",
    "ans = cal_mean_var(df1, df2)\n",
    "# print(f\"Mean: {mean}\")\n",
    "# print(f\"Variance: {var}\")\n",
    "\n",
    "print(ans)\n",
    "print(type(ans))"
   ]
  },
  {
   "cell_type": "markdown",
   "id": "7b382ec5-84cc-4472-9dc4-39cfd9d2a2da",
   "metadata": {},
   "source": [
    "### Question 7"
   ]
  },
  {
   "cell_type": "code",
   "execution_count": 18,
   "id": "9fa4b6cc-5390-4db0-b135-4c1cdd7e78d4",
   "metadata": {},
   "outputs": [
    {
     "name": "stdout",
     "output_type": "stream",
     "text": [
      "F-value: 1.2500\n",
      "Degrees of freedom: (9, 14)\n",
      "P-value: 0.6832\n",
      "Critical values: (0.3305, 2.6458)\n",
      "Fail to reject the null hypothesis: The variances are not significantly different.\n"
     ]
    }
   ],
   "source": [
    "import numpy as np\n",
    "from scipy.stats import f\n",
    "\n",
    "def perform_variance_test(s1_squared, s2_squared, n1, n2, alpha=0.10):\n",
    "    # Ensure s1_squared is the larger variance\n",
    "    if s1_squared < s2_squared:\n",
    "        s1_squared, s2_squared = s2_squared, s1_squared\n",
    "        n1, n2 = n2, n1\n",
    "    \n",
    "    # Calculate the F-value\n",
    "    F = s1_squared / s2_squared\n",
    "    \n",
    "    # Degrees of freedom\n",
    "    df1 = n1 - 1\n",
    "    df2 = n2 - 1\n",
    "    \n",
    "    # Calculate critical values for two-tailed test\n",
    "    critical_value_low = f.ppf(alpha / 2, df1, df2)\n",
    "    critical_value_high = f.ppf(1 - alpha / 2, df1, df2)\n",
    "    \n",
    "    # Calculate p-value for the test\n",
    "    p_value = 2 * min(f.cdf(F, df1, df2), 1 - f.cdf(F, df1, df2))\n",
    "    \n",
    "    # Determine if we reject or fail to reject the null hypothesis\n",
    "    reject_null = p_value < alpha\n",
    "    \n",
    "    return F, df1, df2, p_value, reject_null, critical_value_low, critical_value_high\n",
    "\n",
    "# Example usage:\n",
    "if __name__ == \"__main__\":\n",
    "    # Given data\n",
    "    s1_squared = 25\n",
    "    s2_squared = 20\n",
    "    n1 = 10\n",
    "    n2 = 15\n",
    "    alpha = 0.10  # significance level\n",
    "    \n",
    "    # Perform variance test\n",
    "    F_value, df1, df2, p_value, reject_null, crit_val_low, crit_val_high = perform_variance_test(\n",
    "        s1_squared, s2_squared, n1, n2, alpha)\n",
    "    \n",
    "    # Output results\n",
    "    print(f\"F-value: {F_value:.4f}\")\n",
    "    print(f\"Degrees of freedom: ({df1}, {df2})\")\n",
    "    print(f\"P-value: {p_value:.4f}\")\n",
    "    print(f\"Critical values: ({crit_val_low:.4f}, {crit_val_high:.4f})\")\n",
    "    \n",
    "    if reject_null:\n",
    "        print(\"Reject the null hypothesis: The variances are significantly different.\")\n",
    "    else:\n",
    "        print(\"Fail to reject the null hypothesis: The variances are not significantly different.\")\n"
   ]
  },
  {
   "cell_type": "markdown",
   "id": "d3e9c3eb-83e9-49b4-b945-341b495970a1",
   "metadata": {},
   "source": [
    "### Question 8"
   ]
  },
  {
   "cell_type": "code",
   "execution_count": 23,
   "id": "3198f8a1-25d8-45ce-bd2a-0d115463cdda",
   "metadata": {},
   "outputs": [],
   "source": [
    "resA= [24, 25, 28, 23, 22, 20, 27]\n",
    "resB=  [31, 33, 35, 30, 32, 36]"
   ]
  },
  {
   "cell_type": "code",
   "execution_count": 25,
   "id": "5b0be7b9-df38-43fc-9ec0-10acf95ef882",
   "metadata": {},
   "outputs": [],
   "source": [
    "var1 = np.var(resA,ddof=1)\n",
    "var2 = np.var(resB,ddof=1)"
   ]
  },
  {
   "cell_type": "code",
   "execution_count": 26,
   "id": "07cb0edb-e96b-4f5f-b97c-b5029a98f0a4",
   "metadata": {},
   "outputs": [],
   "source": [
    "fvalue = var1/var2\n"
   ]
  },
  {
   "cell_type": "code",
   "execution_count": 27,
   "id": "78401ede-216c-4e47-a490-ea667c35110f",
   "metadata": {},
   "outputs": [],
   "source": [
    "pvalue =  2 * min(f.cdf(fvalue, df1, df2), 1 - f.cdf(fvalue, df1, df2))"
   ]
  },
  {
   "cell_type": "code",
   "execution_count": 28,
   "id": "d3e84d28-27c8-47bf-bdd7-5f981e4c9858",
   "metadata": {},
   "outputs": [],
   "source": [
    "alpha =0.05\n"
   ]
  },
  {
   "cell_type": "code",
   "execution_count": 29,
   "id": "53c90911-3cba-4d87-b6f0-106ae7eecf1a",
   "metadata": {},
   "outputs": [],
   "source": [
    "reject_null = p_value<alpha"
   ]
  },
  {
   "cell_type": "code",
   "execution_count": 30,
   "id": "4e120f48-8911-4261-b526-f01d452397df",
   "metadata": {},
   "outputs": [
    {
     "name": "stdout",
     "output_type": "stream",
     "text": [
      "Accept the null hypothesis\n"
     ]
    }
   ],
   "source": [
    "if reject_null:\n",
    "    print(\"Reject the null hypothesis \")\n",
    "else:\n",
    "    print(\"Accept the null hypothesis\")"
   ]
  },
  {
   "cell_type": "markdown",
   "id": "47887e68-3ad7-40e6-b008-7fbc7d02eb59",
   "metadata": {},
   "source": [
    "### Question 9"
   ]
  },
  {
   "cell_type": "code",
   "execution_count": 31,
   "id": "d8f0bfc1-a44d-4c93-ac51-50d949948f14",
   "metadata": {},
   "outputs": [],
   "source": [
    "groupA = [80, 85, 90, 92, 87, 83]\n",
    "groupB = [75, 78, 82, 79, 81, 84]"
   ]
  },
  {
   "cell_type": "code",
   "execution_count": 33,
   "id": "6d59d142-ddba-4355-83b8-e75b606ea3c7",
   "metadata": {},
   "outputs": [],
   "source": [
    "varA = np.var(groupA,ddof=1)\n",
    "varB = np.var(groupB,ddof=1)\n"
   ]
  },
  {
   "cell_type": "code",
   "execution_count": 34,
   "id": "d60e96da-bfc4-421c-a3c3-47b7c9e28a2c",
   "metadata": {},
   "outputs": [],
   "source": [
    "fvalue = var1/var2"
   ]
  },
  {
   "cell_type": "code",
   "execution_count": 36,
   "id": "4edb00ef-4f10-4b4a-abbe-0cff233bd601",
   "metadata": {},
   "outputs": [],
   "source": [
    "pvalue =  2 * min(f.cdf(fvalue, df1, df2), 1 - f.cdf(fvalue, df1, df2))\n",
    "alpha = 0.01"
   ]
  },
  {
   "cell_type": "code",
   "execution_count": 37,
   "id": "b1d9bdbc-cbfb-4fc1-9f7a-92fa58bc7b00",
   "metadata": {},
   "outputs": [],
   "source": [
    "reject_null = pvalue<alpha"
   ]
  },
  {
   "cell_type": "code",
   "execution_count": 38,
   "id": "4493f95c-07c8-456f-8b55-d1780a27b5d0",
   "metadata": {},
   "outputs": [
    {
     "name": "stdout",
     "output_type": "stream",
     "text": [
      "Accept the null hypothesis\n"
     ]
    }
   ],
   "source": [
    "if reject_null:\n",
    "    print(\"Reject the null hypothesis \")\n",
    "else:\n",
    "    print(\"Accept the null hypothesis\")"
   ]
  },
  {
   "cell_type": "code",
   "execution_count": null,
   "id": "85560bd2-fbc2-44e4-853b-58b6c9b0a8a9",
   "metadata": {},
   "outputs": [],
   "source": []
  }
 ],
 "metadata": {
  "kernelspec": {
   "display_name": "Python 3 (ipykernel)",
   "language": "python",
   "name": "python3"
  },
  "language_info": {
   "codemirror_mode": {
    "name": "ipython",
    "version": 3
   },
   "file_extension": ".py",
   "mimetype": "text/x-python",
   "name": "python",
   "nbconvert_exporter": "python",
   "pygments_lexer": "ipython3",
   "version": "3.10.8"
  }
 },
 "nbformat": 4,
 "nbformat_minor": 5
}
