{
 "cells": [
  {
   "cell_type": "markdown",
   "id": "7fe13c23-584a-406e-acb6-40072f6ec06c",
   "metadata": {},
   "source": [
    "# Question 1"
   ]
  },
  {
   "cell_type": "code",
   "execution_count": 1,
   "id": "169151bb-b19a-4b7d-afd3-bce44b1600de",
   "metadata": {},
   "outputs": [],
   "source": [
    "import pandas as pd\n",
    "course_name = ['Data Science', 'Machine Learning', 'Big Data', 'Data Engineer']\n",
    "duration = [2,3,6,4]\n",
    "df = pd.DataFrame(data = {'course_name' : course_name, 'duration' : duration})"
   ]
  },
  {
   "cell_type": "code",
   "execution_count": 3,
   "id": "c104b180-5db4-414e-a1a7-421d8bff5f46",
   "metadata": {},
   "outputs": [
    {
     "data": {
      "text/html": [
       "<div>\n",
       "<style scoped>\n",
       "    .dataframe tbody tr th:only-of-type {\n",
       "        vertical-align: middle;\n",
       "    }\n",
       "\n",
       "    .dataframe tbody tr th {\n",
       "        vertical-align: top;\n",
       "    }\n",
       "\n",
       "    .dataframe thead th {\n",
       "        text-align: right;\n",
       "    }\n",
       "</style>\n",
       "<table border=\"1\" class=\"dataframe\">\n",
       "  <thead>\n",
       "    <tr style=\"text-align: right;\">\n",
       "      <th></th>\n",
       "      <th>course_name</th>\n",
       "      <th>duration</th>\n",
       "    </tr>\n",
       "  </thead>\n",
       "  <tbody>\n",
       "    <tr>\n",
       "      <th>0</th>\n",
       "      <td>Data Science</td>\n",
       "      <td>2</td>\n",
       "    </tr>\n",
       "    <tr>\n",
       "      <th>1</th>\n",
       "      <td>Machine Learning</td>\n",
       "      <td>3</td>\n",
       "    </tr>\n",
       "    <tr>\n",
       "      <th>2</th>\n",
       "      <td>Big Data</td>\n",
       "      <td>6</td>\n",
       "    </tr>\n",
       "    <tr>\n",
       "      <th>3</th>\n",
       "      <td>Data Engineer</td>\n",
       "      <td>4</td>\n",
       "    </tr>\n",
       "  </tbody>\n",
       "</table>\n",
       "</div>"
      ],
      "text/plain": [
       "        course_name  duration\n",
       "0      Data Science         2\n",
       "1  Machine Learning         3\n",
       "2          Big Data         6\n",
       "3     Data Engineer         4"
      ]
     },
     "execution_count": 3,
     "metadata": {},
     "output_type": "execute_result"
    }
   ],
   "source": [
    "df"
   ]
  },
  {
   "cell_type": "markdown",
   "id": "f6bff835-2b80-4624-ac82-54043da4e643",
   "metadata": {},
   "source": [
    "df.loc[1]"
   ]
  },
  {
   "cell_type": "markdown",
   "id": "f361ac31-64bc-448d-9064-d4b64b6a4f8e",
   "metadata": {},
   "source": [
    "# Question 2"
   ]
  },
  {
   "cell_type": "markdown",
   "id": "87fd0db7-05dc-4529-a03c-fb86b3d17088",
   "metadata": {},
   "source": [
    "The functions loc() and iloc() have the same working in pandas but there is a small difference between them. \n",
    "\n",
    "1. loc() prints the desired number of rows and columns and can take columns as column name also.\n",
    "    e.g-> loc([0:3],'course_name')\n",
    "2. iloc() function also works the same but it takes input of column as column index. It only takes integer as input.\n",
    "    e,g-> iloc([0:3, [0])"
   ]
  },
  {
   "cell_type": "markdown",
   "id": "26ba3a99-3487-4796-93d3-169388c3ed5a",
   "metadata": {},
   "source": [
    "# Question 3"
   ]
  },
  {
   "cell_type": "code",
   "execution_count": 8,
   "id": "0945b9d8-fdc7-45c8-9cb9-15db51545257",
   "metadata": {},
   "outputs": [],
   "source": [
    "new_df= df.reindex([3,0,1,2])"
   ]
  },
  {
   "cell_type": "code",
   "execution_count": 9,
   "id": "197c88a0-a04f-44a4-9e60-97d3e81230ea",
   "metadata": {},
   "outputs": [
    {
     "data": {
      "text/html": [
       "<div>\n",
       "<style scoped>\n",
       "    .dataframe tbody tr th:only-of-type {\n",
       "        vertical-align: middle;\n",
       "    }\n",
       "\n",
       "    .dataframe tbody tr th {\n",
       "        vertical-align: top;\n",
       "    }\n",
       "\n",
       "    .dataframe thead th {\n",
       "        text-align: right;\n",
       "    }\n",
       "</style>\n",
       "<table border=\"1\" class=\"dataframe\">\n",
       "  <thead>\n",
       "    <tr style=\"text-align: right;\">\n",
       "      <th></th>\n",
       "      <th>course_name</th>\n",
       "      <th>duration</th>\n",
       "    </tr>\n",
       "  </thead>\n",
       "  <tbody>\n",
       "    <tr>\n",
       "      <th>3</th>\n",
       "      <td>Data Engineer</td>\n",
       "      <td>4</td>\n",
       "    </tr>\n",
       "    <tr>\n",
       "      <th>0</th>\n",
       "      <td>Data Science</td>\n",
       "      <td>2</td>\n",
       "    </tr>\n",
       "    <tr>\n",
       "      <th>1</th>\n",
       "      <td>Machine Learning</td>\n",
       "      <td>3</td>\n",
       "    </tr>\n",
       "    <tr>\n",
       "      <th>2</th>\n",
       "      <td>Big Data</td>\n",
       "      <td>6</td>\n",
       "    </tr>\n",
       "  </tbody>\n",
       "</table>\n",
       "</div>"
      ],
      "text/plain": [
       "        course_name  duration\n",
       "3     Data Engineer         4\n",
       "0      Data Science         2\n",
       "1  Machine Learning         3\n",
       "2          Big Data         6"
      ]
     },
     "execution_count": 9,
     "metadata": {},
     "output_type": "execute_result"
    }
   ],
   "source": [
    "new_df"
   ]
  },
  {
   "cell_type": "code",
   "execution_count": 11,
   "id": "4d4c33d4-8701-42c7-90cb-7ed3bd6405ec",
   "metadata": {},
   "outputs": [
    {
     "data": {
      "text/plain": [
       "course_name    Big Data\n",
       "duration              6\n",
       "Name: 2, dtype: object"
      ]
     },
     "execution_count": 11,
     "metadata": {},
     "output_type": "execute_result"
    }
   ],
   "source": [
    "new_df.loc[2]"
   ]
  },
  {
   "cell_type": "code",
   "execution_count": 12,
   "id": "25abde58-ce65-4c7f-9f2f-36c4c8dc4b97",
   "metadata": {},
   "outputs": [
    {
     "data": {
      "text/plain": [
       "course_name    Machine Learning\n",
       "duration                      3\n",
       "Name: 1, dtype: object"
      ]
     },
     "execution_count": 12,
     "metadata": {},
     "output_type": "execute_result"
    }
   ],
   "source": [
    "new_df.iloc[2]"
   ]
  },
  {
   "cell_type": "markdown",
   "id": "d6d48540-262a-42f1-81da-07ea1e10a1d7",
   "metadata": {},
   "source": [
    "Yes there is a diffrence between two output. In new_df.loc[2] print the row having the index 2\n",
    "\n",
    "In new_df.iloc[2] prints the row with the initial indexes assigned by pandas"
   ]
  },
  {
   "cell_type": "code",
   "execution_count": 13,
   "id": "be76e81d-fe7e-47c4-be6e-cdfc4b13dffa",
   "metadata": {},
   "outputs": [],
   "source": [
    "import numpy as np\n",
    "columns = ['column_1', 'column_2', 'column_3', 'column_4', 'column_5', 'column_6']\n",
    "indices = [1,2,3,4,5,6]\n",
    "#Creating a dataframe:\n",
    "df1 = pd.DataFrame(np.random.rand(6,6), columns = columns, index = indices)"
   ]
  },
  {
   "cell_type": "markdown",
   "id": "e76f0c14-7a18-4876-bd76-f8b13767bd59",
   "metadata": {},
   "source": [
    "# Question 4"
   ]
  },
  {
   "cell_type": "code",
   "execution_count": 14,
   "id": "c0df26d2-4060-4523-997d-0f85597a2c15",
   "metadata": {},
   "outputs": [
    {
     "data": {
      "text/html": [
       "<div>\n",
       "<style scoped>\n",
       "    .dataframe tbody tr th:only-of-type {\n",
       "        vertical-align: middle;\n",
       "    }\n",
       "\n",
       "    .dataframe tbody tr th {\n",
       "        vertical-align: top;\n",
       "    }\n",
       "\n",
       "    .dataframe thead th {\n",
       "        text-align: right;\n",
       "    }\n",
       "</style>\n",
       "<table border=\"1\" class=\"dataframe\">\n",
       "  <thead>\n",
       "    <tr style=\"text-align: right;\">\n",
       "      <th></th>\n",
       "      <th>column_1</th>\n",
       "      <th>column_2</th>\n",
       "      <th>column_3</th>\n",
       "      <th>column_4</th>\n",
       "      <th>column_5</th>\n",
       "      <th>column_6</th>\n",
       "    </tr>\n",
       "  </thead>\n",
       "  <tbody>\n",
       "    <tr>\n",
       "      <th>1</th>\n",
       "      <td>0.298309</td>\n",
       "      <td>0.416363</td>\n",
       "      <td>0.758689</td>\n",
       "      <td>0.870757</td>\n",
       "      <td>0.116431</td>\n",
       "      <td>0.059289</td>\n",
       "    </tr>\n",
       "    <tr>\n",
       "      <th>2</th>\n",
       "      <td>0.301222</td>\n",
       "      <td>0.269976</td>\n",
       "      <td>0.852943</td>\n",
       "      <td>0.958475</td>\n",
       "      <td>0.158179</td>\n",
       "      <td>0.605200</td>\n",
       "    </tr>\n",
       "    <tr>\n",
       "      <th>3</th>\n",
       "      <td>0.115656</td>\n",
       "      <td>0.213171</td>\n",
       "      <td>0.785808</td>\n",
       "      <td>0.536204</td>\n",
       "      <td>0.796145</td>\n",
       "      <td>0.811691</td>\n",
       "    </tr>\n",
       "    <tr>\n",
       "      <th>4</th>\n",
       "      <td>0.470403</td>\n",
       "      <td>0.714682</td>\n",
       "      <td>0.119292</td>\n",
       "      <td>0.110974</td>\n",
       "      <td>0.163462</td>\n",
       "      <td>0.155573</td>\n",
       "    </tr>\n",
       "    <tr>\n",
       "      <th>5</th>\n",
       "      <td>0.090917</td>\n",
       "      <td>0.653854</td>\n",
       "      <td>0.559017</td>\n",
       "      <td>0.849520</td>\n",
       "      <td>0.372587</td>\n",
       "      <td>0.327086</td>\n",
       "    </tr>\n",
       "    <tr>\n",
       "      <th>6</th>\n",
       "      <td>0.766631</td>\n",
       "      <td>0.755877</td>\n",
       "      <td>0.955544</td>\n",
       "      <td>0.066042</td>\n",
       "      <td>0.837936</td>\n",
       "      <td>0.414350</td>\n",
       "    </tr>\n",
       "  </tbody>\n",
       "</table>\n",
       "</div>"
      ],
      "text/plain": [
       "   column_1  column_2  column_3  column_4  column_5  column_6\n",
       "1  0.298309  0.416363  0.758689  0.870757  0.116431  0.059289\n",
       "2  0.301222  0.269976  0.852943  0.958475  0.158179  0.605200\n",
       "3  0.115656  0.213171  0.785808  0.536204  0.796145  0.811691\n",
       "4  0.470403  0.714682  0.119292  0.110974  0.163462  0.155573\n",
       "5  0.090917  0.653854  0.559017  0.849520  0.372587  0.327086\n",
       "6  0.766631  0.755877  0.955544  0.066042  0.837936  0.414350"
      ]
     },
     "execution_count": 14,
     "metadata": {},
     "output_type": "execute_result"
    }
   ],
   "source": [
    "df1"
   ]
  },
  {
   "cell_type": "code",
   "execution_count": 17,
   "id": "05ed0039-0004-406d-abaa-b77c0d5f15ea",
   "metadata": {},
   "outputs": [
    {
     "data": {
      "text/plain": [
       "column_1    0.340523\n",
       "column_2    0.503987\n",
       "column_3    0.671882\n",
       "column_4    0.565329\n",
       "column_5    0.407457\n",
       "column_6    0.395531\n",
       "dtype: float64"
      ]
     },
     "execution_count": 17,
     "metadata": {},
     "output_type": "execute_result"
    }
   ],
   "source": [
    "df1.mean()"
   ]
  },
  {
   "cell_type": "markdown",
   "id": "36656a4f-c6c5-4f9e-b1c6-aa914267696a",
   "metadata": {},
   "source": [
    "df1['column_2'].std"
   ]
  },
  {
   "cell_type": "markdown",
   "id": "99d93486-1b9b-4a58-9d36-b845630f3b28",
   "metadata": {},
   "source": [
    "# Question 5"
   ]
  },
  {
   "cell_type": "code",
   "execution_count": 24,
   "id": "a1d9daf1-88bb-4876-8512-2cd55a1ddbc9",
   "metadata": {},
   "outputs": [
    {
     "ename": "SyntaxError",
     "evalue": "cannot assign to function call here. Maybe you meant '==' instead of '='? (1221219960.py, line 1)",
     "output_type": "error",
     "traceback": [
      "\u001b[0;36m  Cell \u001b[0;32mIn[24], line 1\u001b[0;36m\u001b[0m\n\u001b[0;31m    df1.loc('column_2') = [1,2,3,4,5,6]\u001b[0m\n\u001b[0m    ^\u001b[0m\n\u001b[0;31mSyntaxError\u001b[0m\u001b[0;31m:\u001b[0m cannot assign to function call here. Maybe you meant '==' instead of '='?\n"
     ]
    }
   ],
   "source": [
    "df1.loc('column_2') = [1,2,3,4,5,6]"
   ]
  },
  {
   "cell_type": "code",
   "execution_count": 25,
   "id": "a8a959f3-2f05-462c-830e-4821f69573e6",
   "metadata": {},
   "outputs": [
    {
     "data": {
      "text/plain": [
       "column_1    float64\n",
       "column_2    float64\n",
       "column_3    float64\n",
       "column_4    float64\n",
       "column_5    float64\n",
       "column_6    float64\n",
       "dtype: object"
      ]
     },
     "execution_count": 25,
     "metadata": {},
     "output_type": "execute_result"
    }
   ],
   "source": [
    "df1.dtypes"
   ]
  },
  {
   "cell_type": "markdown",
   "id": "1f931f5e-e7d0-4e83-a702-7c39d8da6566",
   "metadata": {},
   "source": [
    "The type of column_2 is float64 so therefore we cant assign the string value to it. That is the reason it is showing errors"
   ]
  },
  {
   "cell_type": "markdown",
   "id": "22869c7f-3f0e-4d77-bc15-664076363e92",
   "metadata": {},
   "source": [
    "# Question 6"
   ]
  },
  {
   "cell_type": "markdown",
   "id": "d45072d4-6e41-4d29-be00-4cc108de7fd1",
   "metadata": {},
   "source": [
    "In pandas, window functions are used to perform calculations on a specified window of data points. These functions are particularly useful for time series data and other ordered data where you want to compute aggregated statistics over a moving window.\n",
    "\n",
    "There are two types of window functions :-\n",
    "\n",
    "1. Rolling - It operate on a fixed-size window of consecutive data points as it moves through the data series.\n",
    "\n",
    "2. Expanding - It consider all the data points from the start of the series up to the current point."
   ]
  },
  {
   "cell_type": "markdown",
   "id": "a61c04e3-7061-4442-b5ed-6ff4a4df373a",
   "metadata": {},
   "source": [
    "# Question 7"
   ]
  },
  {
   "cell_type": "code",
   "execution_count": 28,
   "id": "9f13271d-c7ff-4fbc-a67b-b5ab41686d92",
   "metadata": {},
   "outputs": [],
   "source": [
    "df2= pd.DataFrame({'current date' : [pd.to_datetime('today')]})\n",
    "\n"
   ]
  },
  {
   "cell_type": "code",
   "execution_count": 29,
   "id": "f100ed90-c838-4f20-bff1-a69c1418d622",
   "metadata": {},
   "outputs": [],
   "source": [
    "df2['current month'] = df2['current date'].dt.month\n",
    "df2['current year'] = df2['current date'].dt.year"
   ]
  },
  {
   "cell_type": "code",
   "execution_count": 31,
   "id": "bc0e72d8-5238-4a0e-ada8-fb121ee6a4a3",
   "metadata": {},
   "outputs": [
    {
     "data": {
      "text/html": [
       "<div>\n",
       "<style scoped>\n",
       "    .dataframe tbody tr th:only-of-type {\n",
       "        vertical-align: middle;\n",
       "    }\n",
       "\n",
       "    .dataframe tbody tr th {\n",
       "        vertical-align: top;\n",
       "    }\n",
       "\n",
       "    .dataframe thead th {\n",
       "        text-align: right;\n",
       "    }\n",
       "</style>\n",
       "<table border=\"1\" class=\"dataframe\">\n",
       "  <thead>\n",
       "    <tr style=\"text-align: right;\">\n",
       "      <th></th>\n",
       "      <th>current month</th>\n",
       "      <th>current year</th>\n",
       "    </tr>\n",
       "  </thead>\n",
       "  <tbody>\n",
       "    <tr>\n",
       "      <th>0</th>\n",
       "      <td>1</td>\n",
       "      <td>2024</td>\n",
       "    </tr>\n",
       "  </tbody>\n",
       "</table>\n",
       "</div>"
      ],
      "text/plain": [
       "   current month  current year\n",
       "0              1          2024"
      ]
     },
     "execution_count": 31,
     "metadata": {},
     "output_type": "execute_result"
    }
   ],
   "source": [
    "df2[['current month','current year']]"
   ]
  },
  {
   "cell_type": "markdown",
   "id": "1898ae44-2e96-4412-9f3e-fc3b833ff800",
   "metadata": {},
   "source": [
    "# Question 8"
   ]
  },
  {
   "cell_type": "code",
   "execution_count": null,
   "id": "e3c0213a-8910-4725-8e40-39d40b88a3f5",
   "metadata": {},
   "outputs": [],
   "source": []
  },
  {
   "cell_type": "code",
   "execution_count": null,
   "id": "2ab49e2a-bc16-4811-9e18-120a091ec03a",
   "metadata": {},
   "outputs": [],
   "source": []
  },
  {
   "cell_type": "code",
   "execution_count": null,
   "id": "2595d0b7-1337-48a2-8b61-14e1e5458bd0",
   "metadata": {},
   "outputs": [],
   "source": []
  },
  {
   "cell_type": "code",
   "execution_count": null,
   "id": "a006665f-b32b-43c3-a61a-2e14e6a170eb",
   "metadata": {},
   "outputs": [],
   "source": [
    "\n"
   ]
  },
  {
   "cell_type": "code",
   "execution_count": 18,
   "id": "92e5a0ae-9214-4a9c-b05f-1cb97d96941d",
   "metadata": {},
   "outputs": [
    {
     "name": "stdin",
     "output_type": "stream",
     "text": [
      "Enter first date:  2023-01-01\n",
      "Enter second date:  2023-06-01\n"
     ]
    }
   ],
   "source": [
    "date1 = input(\"Enter first date: \")\n",
    "date2 = input(\"Enter second date: \")\n",
    "dt1 = pd.to_datetime(date1)\n",
    "dt2 = pd.to_datetime(date2)"
   ]
  },
  {
   "cell_type": "code",
   "execution_count": 19,
   "id": "3847cde7-144f-4a49-986e-3f08ce74a2cf",
   "metadata": {},
   "outputs": [],
   "source": [
    "dfr = dt2-dt1"
   ]
  },
  {
   "cell_type": "code",
   "execution_count": 20,
   "id": "b594fa85-04c1-48b1-a693-85b48fb3f468",
   "metadata": {},
   "outputs": [],
   "source": [
    "hr = dfr.days*24"
   ]
  },
  {
   "cell_type": "code",
   "execution_count": 21,
   "id": "0e878f3f-0240-41cb-b660-2fabad901013",
   "metadata": {},
   "outputs": [],
   "source": [
    "minu = hr*60"
   ]
  },
  {
   "cell_type": "code",
   "execution_count": null,
   "id": "a6ff406c-1bd1-46b2-b127-5dedea71e0b1",
   "metadata": {},
   "outputs": [],
   "source": []
  },
  {
   "cell_type": "code",
   "execution_count": 22,
   "id": "123db067-af52-4825-b483-a5df53d5f754",
   "metadata": {},
   "outputs": [
    {
     "name": "stdout",
     "output_type": "stream",
     "text": [
      "Difference in Days:  151\n",
      "Difference in hours:  3624\n",
      "Difference in seconds:  217440\n"
     ]
    }
   ],
   "source": [
    "print(\"Difference in Days: \",dfr.days)\n",
    "print(\"Difference in hours: \",hr)\n",
    "print(\"Difference in seconds: \",minu)"
   ]
  },
  {
   "cell_type": "markdown",
   "id": "91b716f4-496b-4ca2-8b22-f5fd9b4895df",
   "metadata": {},
   "source": [
    "# Question 9"
   ]
  },
  {
   "cell_type": "code",
   "execution_count": 4,
   "id": "9a4cf450-4c25-4247-9ba0-a998f295411c",
   "metadata": {},
   "outputs": [
    {
     "name": "stdin",
     "output_type": "stream",
     "text": [
      "Enter the CSV file path:  text.csv\n",
      "Enter the name of the column to convert:  cut\n",
      "Enter the desired category order (separated by commas):  Premium,Very Good,Ideal\n"
     ]
    }
   ],
   "source": [
    "import pandas as pd\n",
    "\n",
    "# Prompt for file path, column name, and category order\n",
    "file_path = input(\"Enter the CSV file path: \")\n",
    "column_name = input(\"Enter the name of the column to convert: \")\n",
    "category_order = input(\"Enter the desired category order (separated by commas): \").split(\",\")\n",
    "\n"
   ]
  },
  {
   "cell_type": "code",
   "execution_count": 5,
   "id": "7f6dbee2-9b37-4af7-a3ca-76e740adca78",
   "metadata": {},
   "outputs": [
    {
     "name": "stdout",
     "output_type": "stream",
     "text": [
      "    id  carat        cut color clarity  depth  table     x     y     z  price\n",
      "0    0   1.52    Premium     F     VS2   62.2   58.0  7.27  7.33  4.55  13619\n",
      "4    4   1.70    Premium     G     VS2   62.6   59.0  7.65  7.61  4.77  14453\n",
      "7    7   1.34    Premium     G     SI2   62.5   57.0  7.00  7.05  4.38   6224\n",
      "15  15   0.33    Premium     E     VS2   61.7   59.0  4.39  4.43  2.72    723\n",
      "16  16   1.06    Premium     E     SI2   60.9   59.0  6.61  6.56  4.01   4399\n",
      "18  18   1.01    Premium     G    VVS1   61.8   58.0  6.44  6.37  3.96   8701\n",
      "1    1   2.03  Very Good     J     SI2   62.0   58.0  8.06  8.12  5.05  13387\n",
      "5    5   1.51  Very Good     J     SI1   62.8   58.0  7.34  7.29  4.59   7506\n",
      "10  10   1.01  Very Good     G     VS2   63.1   57.0  6.40  6.34  4.03   5914\n",
      "17  17   0.26  Very Good     F    VVS2   61.7   57.0  4.10  4.13  2.53    574\n",
      "2    2   0.70      Ideal     G     VS1   61.2   57.0  5.69  5.73  3.50   2772\n",
      "3    3   0.32      Ideal     G     VS1   61.6   56.0  4.38  4.41  2.71    666\n",
      "6    6   0.74      Ideal     E     VS2   61.8   57.0  5.76  5.79  3.57   3229\n",
      "8    8   0.30      Ideal     F      IF   62.0   56.0  4.35  4.37  2.70    886\n",
      "11  11   0.23      Ideal     E    VVS2   62.0   57.0  3.96  3.98  2.46    505\n",
      "13  13   0.31      Ideal     G    VVS1   61.8   56.0  4.37  4.39  2.71    789\n",
      "9    9   0.30        NaN     J     VS1   63.6   57.0  4.26  4.28  2.72    421\n",
      "12  12   1.01        NaN     D     SI1   63.1   56.0  6.41  6.35  4.03   5703\n",
      "14  14   1.01        NaN     H     SI1   62.6   59.0  6.34  6.40  3.99   4612\n"
     ]
    },
    {
     "name": "stderr",
     "output_type": "stream",
     "text": [
      "/tmp/ipykernel_168/3278473571.py:8: FutureWarning: The `inplace` parameter in pandas.Categorical.set_categories is deprecated and will be removed in a future version. Removing unused categories will always return a new Categorical object.\n",
      "  df[column_name].cat.set_categories(category_order, inplace=True)\n"
     ]
    }
   ],
   "source": [
    "# Read the CSV file into a DataFrame\n",
    "df = pd.read_csv(file_path)\n",
    "\n",
    "# Convert the specified column to categorical data type\n",
    "df[column_name] = df[column_name].astype(\"category\")\n",
    "\n",
    "# Set the category order based on user input\n",
    "df[column_name].cat.set_categories(category_order, inplace=True)\n",
    "\n",
    "# Sort the DataFrame by the categorical column\n",
    "df = df.sort_values(by=column_name)\n",
    "\n",
    "# Display the sorted data\n",
    "print(df.to_string())\n"
   ]
  },
  {
   "cell_type": "code",
   "execution_count": null,
   "id": "bebcffa4-8f31-4c9e-808d-f44a6ae8da77",
   "metadata": {},
   "outputs": [],
   "source": []
  },
  {
   "cell_type": "code",
   "execution_count": null,
   "id": "923d452e-f541-4c79-874b-06c1d13b4aa6",
   "metadata": {},
   "outputs": [],
   "source": []
  },
  {
   "cell_type": "code",
   "execution_count": null,
   "id": "b7978618-c216-473f-9ecd-da5b2341fe70",
   "metadata": {},
   "outputs": [],
   "source": []
  },
  {
   "cell_type": "code",
   "execution_count": null,
   "id": "7d31eb18-02a2-487c-b0e4-1739e677fafa",
   "metadata": {},
   "outputs": [],
   "source": []
  },
  {
   "cell_type": "code",
   "execution_count": null,
   "id": "11c44d8a-7400-415a-9b7a-130fc359b03a",
   "metadata": {},
   "outputs": [],
   "source": []
  },
  {
   "cell_type": "code",
   "execution_count": null,
   "id": "8754d3a1-b1ec-4cbb-8914-c129d483b876",
   "metadata": {},
   "outputs": [],
   "source": []
  },
  {
   "cell_type": "code",
   "execution_count": null,
   "id": "3c44b846-8a1f-4148-81cd-8ff1492507ec",
   "metadata": {},
   "outputs": [],
   "source": []
  },
  {
   "cell_type": "code",
   "execution_count": null,
   "id": "1272fd1a-6216-4f38-84a7-9a61c7f91e84",
   "metadata": {},
   "outputs": [],
   "source": []
  },
  {
   "cell_type": "code",
   "execution_count": null,
   "id": "f101b0c8-b8b0-4acc-8cfb-fb289602dd49",
   "metadata": {},
   "outputs": [],
   "source": []
  },
  {
   "cell_type": "markdown",
   "id": "b42e009c-a48b-42c2-840a-df243e603910",
   "metadata": {},
   "source": [
    "# Question 10"
   ]
  },
  {
   "cell_type": "code",
   "execution_count": 2,
   "id": "5f15f6cc-5b40-4c07-990d-1258ad14c35e",
   "metadata": {},
   "outputs": [],
   "source": [
    "# df3 = pd.DataFrame({'Laptop': [5,1,12,7,5],\n",
    "#                     'Phone' : [4,2,6,7,6],\n",
    "#                     'Drone' : [6,7,2,9,5]\n",
    "                    \n",
    "#                    })"
   ]
  },
  {
   "cell_type": "code",
   "execution_count": 12,
   "id": "4cadd4fe-953f-49b9-bd13-77240d2f3e0d",
   "metadata": {},
   "outputs": [
    {
     "name": "stdin",
     "output_type": "stream",
     "text": [
      "Enter file path work/Sales.csv\n"
     ]
    }
   ],
   "source": [
    "file = input(\"Enter file path\")"
   ]
  },
  {
   "cell_type": "code",
   "execution_count": 13,
   "id": "e7fae80a-8220-42b0-aa1b-9b26b7d98dd9",
   "metadata": {},
   "outputs": [],
   "source": [
    "file_n = file.split('/')"
   ]
  },
  {
   "cell_type": "code",
   "execution_count": 14,
   "id": "331c87af-1dc1-4400-88f5-5b53141f50d1",
   "metadata": {},
   "outputs": [],
   "source": [
    "df3 = pd.read_csv(file_n[-1])  "
   ]
  },
  {
   "cell_type": "code",
   "execution_count": 15,
   "id": "da31bfc4-6f7f-4ed6-a021-097ac6bbbbff",
   "metadata": {},
   "outputs": [
    {
     "data": {
      "text/plain": [
       "<AxesSubplot: >"
      ]
     },
     "execution_count": 15,
     "metadata": {},
     "output_type": "execute_result"
    },
    {
     "data": {
      "image/png": "[encoded data removed]",
      "text/plain": [
       "<Figure size 640x480 with 1 Axes>"
      ]
     },
     "metadata": {},
     "output_type": "display_data"
    }
   ],
   "source": [
    "df3.plot.bar()"
   ]
  },
  {
   "cell_type": "markdown",
   "id": "998d7d78-034b-4e52-8857-dccf49ea0a5a",
   "metadata": {},
   "source": [
    "# Question 11"
   ]
  },
  {
   "cell_type": "code",
   "execution_count": 16,
   "id": "9d6c834b-450d-4e52-a041-5bab0a7519ee",
   "metadata": {},
   "outputs": [
    {
     "name": "stdin",
     "output_type": "stream",
     "text": [
      "Enter file path:  work/data.csv\n"
     ]
    }
   ],
   "source": [
    "file = input(\"Enter file path: \")"
   ]
  },
  {
   "cell_type": "code",
   "execution_count": 17,
   "id": "e9b2cad9-8b6d-4ec8-9e0a-e5822bd08207",
   "metadata": {},
   "outputs": [],
   "source": [
    "file_n = file.split('/')"
   ]
  },
  {
   "cell_type": "code",
   "execution_count": 18,
   "id": "8067d3f7-0d27-4af7-94a9-3e81b02331b1",
   "metadata": {},
   "outputs": [],
   "source": [
    "df3 = pd.read_csv(file_n[-1]) "
   ]
  },
  {
   "cell_type": "code",
   "execution_count": 19,
   "id": "f1bd1655-d731-46b5-9500-a958f2ac7e1d",
   "metadata": {},
   "outputs": [
    {
     "data": {
      "text/html": [
       "<div>\n",
       "<style scoped>\n",
       "    .dataframe tbody tr th:only-of-type {\n",
       "        vertical-align: middle;\n",
       "    }\n",
       "\n",
       "    .dataframe tbody tr th {\n",
       "        vertical-align: top;\n",
       "    }\n",
       "\n",
       "    .dataframe thead th {\n",
       "        text-align: right;\n",
       "    }\n",
       "</style>\n",
       "<table border=\"1\" class=\"dataframe\">\n",
       "  <thead>\n",
       "    <tr style=\"text-align: right;\">\n",
       "      <th></th>\n",
       "      <th>Student ID</th>\n",
       "      <th>Test Score</th>\n",
       "    </tr>\n",
       "  </thead>\n",
       "  <tbody>\n",
       "    <tr>\n",
       "      <th>0</th>\n",
       "      <td>1</td>\n",
       "      <td>85</td>\n",
       "    </tr>\n",
       "    <tr>\n",
       "      <th>1</th>\n",
       "      <td>2</td>\n",
       "      <td>90</td>\n",
       "    </tr>\n",
       "    <tr>\n",
       "      <th>2</th>\n",
       "      <td>3</td>\n",
       "      <td>80</td>\n",
       "    </tr>\n",
       "    <tr>\n",
       "      <th>3</th>\n",
       "      <td>4</td>\n",
       "      <td>75</td>\n",
       "    </tr>\n",
       "    <tr>\n",
       "      <th>4</th>\n",
       "      <td>5</td>\n",
       "      <td>85</td>\n",
       "    </tr>\n",
       "    <tr>\n",
       "      <th>5</th>\n",
       "      <td>6</td>\n",
       "      <td>82</td>\n",
       "    </tr>\n",
       "    <tr>\n",
       "      <th>6</th>\n",
       "      <td>7</td>\n",
       "      <td>78</td>\n",
       "    </tr>\n",
       "    <tr>\n",
       "      <th>7</th>\n",
       "      <td>8</td>\n",
       "      <td>85</td>\n",
       "    </tr>\n",
       "    <tr>\n",
       "      <th>8</th>\n",
       "      <td>9</td>\n",
       "      <td>90</td>\n",
       "    </tr>\n",
       "    <tr>\n",
       "      <th>9</th>\n",
       "      <td>10</td>\n",
       "      <td>85</td>\n",
       "    </tr>\n",
       "  </tbody>\n",
       "</table>\n",
       "</div>"
      ],
      "text/plain": [
       "   Student ID  Test Score\n",
       "0           1          85\n",
       "1           2          90\n",
       "2           3          80\n",
       "3           4          75\n",
       "4           5          85\n",
       "5           6          82\n",
       "6           7          78\n",
       "7           8          85\n",
       "8           9          90\n",
       "9          10          85"
      ]
     },
     "execution_count": 19,
     "metadata": {},
     "output_type": "execute_result"
    }
   ],
   "source": [
    "df3"
   ]
  },
  {
   "cell_type": "code",
   "execution_count": 24,
   "id": "0d402d7e-273a-465f-a11a-a485c234d387",
   "metadata": {},
   "outputs": [],
   "source": [
    "# calculating the mean\n",
    "\n",
    "mean= df3['Test Score'].mean()"
   ]
  },
  {
   "cell_type": "code",
   "execution_count": 25,
   "id": "4740b6a7-00ef-419e-95b0-d90de6d9a99c",
   "metadata": {},
   "outputs": [
    {
     "data": {
      "text/plain": [
       "83.5"
      ]
     },
     "execution_count": 25,
     "metadata": {},
     "output_type": "execute_result"
    }
   ],
   "source": [
    "mean"
   ]
  },
  {
   "cell_type": "code",
   "execution_count": 26,
   "id": "b7c3d740-8ffe-4c54-88f8-b4d04a09544a",
   "metadata": {},
   "outputs": [],
   "source": [
    "median = df3['Test Score'].median()"
   ]
  },
  {
   "cell_type": "code",
   "execution_count": 27,
   "id": "b4fba922-8e4f-42d9-b72a-04a17b3c2d9b",
   "metadata": {},
   "outputs": [
    {
     "data": {
      "text/plain": [
       "85.0"
      ]
     },
     "execution_count": 27,
     "metadata": {},
     "output_type": "execute_result"
    }
   ],
   "source": [
    "median"
   ]
  },
  {
   "cell_type": "code",
   "execution_count": 28,
   "id": "48b1a364-ccaa-458a-8880-1dec81859c59",
   "metadata": {},
   "outputs": [],
   "source": [
    "mode = df3['Test Score'].mode()"
   ]
  },
  {
   "cell_type": "code",
   "execution_count": 31,
   "id": "83e0e47a-9682-4206-8b9d-39eef9ab9300",
   "metadata": {},
   "outputs": [],
   "source": [
    "mode_n = list(mode)[0]"
   ]
  },
  {
   "cell_type": "code",
   "execution_count": 32,
   "id": "0cad8eab-161c-4b88-9f48-ab83801ae707",
   "metadata": {},
   "outputs": [
    {
     "data": {
      "text/plain": [
       "85"
      ]
     },
     "execution_count": 32,
     "metadata": {},
     "output_type": "execute_result"
    }
   ],
   "source": [
    "mode_n"
   ]
  },
  {
   "cell_type": "code",
   "execution_count": 33,
   "id": "f319fe1a-2044-45f8-a578-2ba987015928",
   "metadata": {},
   "outputs": [],
   "source": [
    "table = {'Mean': mean,\n",
    "         'Median':median,\n",
    "         'Mode': mode_n\n",
    "        }"
   ]
  },
  {
   "cell_type": "code",
   "execution_count": 35,
   "id": "80a001ed-8f09-477f-b00f-45efe07132d7",
   "metadata": {},
   "outputs": [],
   "source": [
    "df4 = pd.DataFrame([table])"
   ]
  },
  {
   "cell_type": "code",
   "execution_count": 36,
   "id": "7a0c860f-072d-4874-929f-6888f6b1cbef",
   "metadata": {},
   "outputs": [
    {
     "data": {
      "text/html": [
       "<div>\n",
       "<style scoped>\n",
       "    .dataframe tbody tr th:only-of-type {\n",
       "        vertical-align: middle;\n",
       "    }\n",
       "\n",
       "    .dataframe tbody tr th {\n",
       "        vertical-align: top;\n",
       "    }\n",
       "\n",
       "    .dataframe thead th {\n",
       "        text-align: right;\n",
       "    }\n",
       "</style>\n",
       "<table border=\"1\" class=\"dataframe\">\n",
       "  <thead>\n",
       "    <tr style=\"text-align: right;\">\n",
       "      <th></th>\n",
       "      <th>Mean</th>\n",
       "      <th>Median</th>\n",
       "      <th>Mode</th>\n",
       "    </tr>\n",
       "  </thead>\n",
       "  <tbody>\n",
       "    <tr>\n",
       "      <th>0</th>\n",
       "      <td>83.5</td>\n",
       "      <td>85.0</td>\n",
       "      <td>85</td>\n",
       "    </tr>\n",
       "  </tbody>\n",
       "</table>\n",
       "</div>"
      ],
      "text/plain": [
       "   Mean  Median  Mode\n",
       "0  83.5    85.0    85"
      ]
     },
     "execution_count": 36,
     "metadata": {},
     "output_type": "execute_result"
    }
   ],
   "source": [
    "df4"
   ]
  },
  {
   "cell_type": "code",
   "execution_count": null,
   "id": "ff7e281d-72aa-403b-aa3a-7bbb673a074c",
   "metadata": {},
   "outputs": [],
   "source": []
  }
 ],
 "metadata": {
  "kernelspec": {
   "display_name": "Python 3 (ipykernel)",
   "language": "python",
   "name": "python3"
  },
  "language_info": {
   "codemirror_mode": {
    "name": "ipython",
    "version": 3
   },
   "file_extension": ".py",
   "mimetype": "text/x-python",
   "name": "python",
   "nbconvert_exporter": "python",
   "pygments_lexer": "ipython3",
   "version": "3.10.8"
  }
 },
 "nbformat": 4,
 "nbformat_minor": 5
}
