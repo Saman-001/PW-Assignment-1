{
 "cells": [
  {
   "cell_type": "markdown",
   "id": "0951cb57-f3e9-405e-8f4f-637bae86eecf",
   "metadata": {},
   "source": [
    "### Question 1"
   ]
  },
  {
   "cell_type": "markdown",
   "id": "7b087730-9a14-41c5-9ab1-08050c89cc40",
   "metadata": {},
   "source": [
    "In statistics, measures of central tendency represent the middle or center of a set of data values. The three most common measures of central tendency are:\n",
    "\n",
    "1. Mean: The sum of all values divided by the total number of values.\n",
    "2. Median: The middle number in an ordered data set.\n",
    "3. Mode: The most frequent value."
   ]
  },
  {
   "cell_type": "markdown",
   "id": "53434009-65e5-4bca-be4a-6db48fc46794",
   "metadata": {},
   "source": [
    "### Question 2"
   ]
  },
  {
   "cell_type": "markdown",
   "id": "800140b7-960f-48d3-9590-042b694a2b41",
   "metadata": {},
   "source": [
    "The difference between mean, median and mode are: Mean is the average value of the given observations. Median is the middle value of the given observations. Mode is the most repeated value in the given observation.\n",
    "\n",
    "how are they calculated :-\n",
    "\n",
    "1. Mean -  It's calculated by adding all the numbers in the set and dividing by the number of values.\n",
    "2. Median - The middle value in a data set when it's ordered from least to greatest.\n",
    "3. Mode - The number that appears most often in a data set. "
   ]
  },
  {
   "cell_type": "markdown",
   "id": "d83b0840-fcb7-452c-9aaa-7761a3b2e39d",
   "metadata": {},
   "source": [
    "### Question 3"
   ]
  },
  {
   "cell_type": "markdown",
   "id": "1fd13b55-27d2-44a4-9e74-8b6487ed7be1",
   "metadata": {},
   "source": [
    "Height data: [178, 177, 176, 177, 178.2, 178, 175, 179, 180, 175, 178.9, 176.2, 177, 172.5, 178, 176.5]\n",
    "\n",
    "1. Mean of the data:-\n",
    "\n",
    "    total sum/total numbers\n",
    "2646.3/16 = 177.01\n",
    "mean = 177.01\n",
    "\n",
    "2. Median of the data :-\n",
    "    To find the median, we first need to arrange the data in ascending order.\n",
    "since the number of values is even,\n",
    "median = (177+177)/2 = 177\n",
    "median = 177\n",
    "\n",
    "3. Mode of the data :-\n",
    "    There are 2 modes for the given dataset, it is also known as bimodal.\n",
    "mode = 177,178"
   ]
  },
  {
   "cell_type": "markdown",
   "id": "b29f0d0a-65e3-4952-bfbc-d259eaa7b85f",
   "metadata": {},
   "source": [
    "### Question 4"
   ]
  },
  {
   "cell_type": "code",
   "execution_count": 1,
   "id": "7adce137-e5af-400f-be7b-ac6b6229a114",
   "metadata": {},
   "outputs": [],
   "source": [
    "import numpy as np\n"
   ]
  },
  {
   "cell_type": "code",
   "execution_count": 2,
   "id": "6b48f12e-f66d-4408-bbfb-d12506e480f8",
   "metadata": {},
   "outputs": [],
   "source": [
    "data  = [178,177,176,177,178.2,178,175,179,180,175,178.9,176.2,177,172.5,178,176.5] \n"
   ]
  },
  {
   "cell_type": "code",
   "execution_count": 5,
   "id": "8c9caedb-dc56-47d1-96ab-cf05a75a1c45",
   "metadata": {},
   "outputs": [
    {
     "data": {
      "text/plain": [
       "1.7885814036548633"
      ]
     },
     "execution_count": 5,
     "metadata": {},
     "output_type": "execute_result"
    }
   ],
   "source": [
    "np.std(data)"
   ]
  },
  {
   "cell_type": "markdown",
   "id": "d5331966-cf0e-43f9-aecd-e1f4d73f88f3",
   "metadata": {},
   "source": [
    "Standard Deviation = 1.7885814036548633"
   ]
  },
  {
   "cell_type": "markdown",
   "id": "dc1a3354-20a0-44e0-8f69-bacdd43556ec",
   "metadata": {},
   "source": [
    "### Question 5"
   ]
  },
  {
   "cell_type": "markdown",
   "id": "bb87ca4c-8205-48a1-905c-2635d7299bc9",
   "metadata": {},
   "source": [
    "1. Range\n",
    "    The range is the difference between the largest and smallest data points in a set. For example, if a dataset has values of 1, 2, 3, 4, and 5, the range would be 5 - 1 = 4. The range is a simple measure of dispersion, but it can be misleading if the dataset has a few outliers.\n",
    "    \n",
    "2. Variance\n",
    "    The variance is a more sophisticated measure of dispersion that takes into account all of the data points in a set. To calculate the variance, you first need to find the mean of the dataset. Then, you subtract the mean from each data point and square the difference. Finally, you add up all of the squared differences and divide by the number of data points. The variance is a measure of how much the data points deviate from the mean.\n",
    "\n",
    "3. Standard Deviation\n",
    "    The standard deviation is the square root of the variance. The standard deviation is a measure of how spread out the data points are around the mean. A small standard deviation indicates that the data points are clustered close to the mean, while a large standard deviation indicates that the data points are more spread out"
   ]
  },
  {
   "cell_type": "markdown",
   "id": "2eff394a-e099-4bdf-a96f-dc7f1ea37d44",
   "metadata": {},
   "source": [
    "### Question 6\n"
   ]
  },
  {
   "cell_type": "markdown",
   "id": "57890d0e-32ef-4987-b351-2c2e489ca7e6",
   "metadata": {},
   "source": [
    "A Venn diagram is a diagram that uses overlapping circles or other shapes to show the logical relationships between two or more sets of items."
   ]
  },
  {
   "cell_type": "markdown",
   "id": "bc20e700-f917-400c-a47b-e61735c61af6",
   "metadata": {},
   "source": [
    "### Question 7"
   ]
  },
  {
   "cell_type": "markdown",
   "id": "0ed03e6d-e26b-4630-bcdd-5eae265e55aa",
   "metadata": {},
   "source": [
    "(i)  i cannot understand A B. So, i did not tried this. Please mention in the results what i have to do.\n",
    "\n",
    "(ii)\n",
    "A = (2,3,4,5,6,7) \n",
    "B = (0,2,6,8,10)\n",
    " A U B = (2,3,4,5,6,7,0,8,10)"
   ]
  },
  {
   "cell_type": "markdown",
   "id": "fc386070-0f22-4957-ae60-f1a5e3558297",
   "metadata": {},
   "source": [
    "### Question 8"
   ]
  },
  {
   "cell_type": "markdown",
   "id": "0377cce8-dea3-4ee2-87c9-1378f7836642",
   "metadata": {},
   "source": [
    "Skewness is a statistical measure of the asymmetry or distortion of a data set. It's a measure of the deviation of a random variable's given distribution from a symmetric distribution, such as a normal distribution."
   ]
  },
  {
   "cell_type": "markdown",
   "id": "822662f7-17b9-4741-9015-a741871cbb15",
   "metadata": {},
   "source": [
    "### Question 9 "
   ]
  },
  {
   "cell_type": "markdown",
   "id": "bdc93d0f-4fef-4945-938b-8e7859d777c4",
   "metadata": {},
   "source": [
    "If the data is right skewed i.e +ve skewed then:\n",
    "mean>median"
   ]
  },
  {
   "cell_type": "markdown",
   "id": "16afab68-048f-4e4f-aace-4eab5d18ae5b",
   "metadata": {},
   "source": [
    "### Question 10"
   ]
  },
  {
   "cell_type": "markdown",
   "id": "ad402b0f-df81-430a-a642-a5de44578786",
   "metadata": {},
   "source": [
    "Both covariance and correlation measure the relationship and the dependency between two variables. Covariance indicates the direction of the linear relationship between variables. Correlation measures both the strength and direction of the linear relationship between two variables. Correlation values are standardized."
   ]
  },
  {
   "cell_type": "markdown",
   "id": "eba1a2ca-60e1-43f3-886a-bdd96ff3fa54",
   "metadata": {},
   "source": [
    "### Question 11"
   ]
  },
  {
   "cell_type": "markdown",
   "id": "6e39f273-cea4-4472-b7be-21ee893b74e2",
   "metadata": {},
   "source": [
    "The general formula for calculating the sample mean is given by x̄ = ( Σ xi ) / n. Here, x̄ represents the sample mean, xi refers all X sample values and n stands for the number of sample terms in the data set. \n",
    "\n",
    "Example dataset:-\n",
    "data = [1,2,4,7,6]\n",
    "x̄ = (1+2+4+7+6)/5\n",
    "x̄ = 4"
   ]
  },
  {
   "cell_type": "markdown",
   "id": "4d85db0f-1c82-45a1-b084-784665817a00",
   "metadata": {},
   "source": [
    "### Question 12"
   ]
  },
  {
   "cell_type": "markdown",
   "id": "10fd0a32-cc22-410a-b060-6f4e5de3100c",
   "metadata": {},
   "source": [
    "In a normal distribution, data is symmetrically distributed with no skew. Most values cluster around a central region, with values tapering off as they go further away from the center. The mean, mode and median are exactly the same in a normal distribution.\n",
    "\n",
    "[i.e. mean = median = mode]"
   ]
  },
  {
   "cell_type": "markdown",
   "id": "99898d92-bebe-493f-a2cf-2975afa8ea6b",
   "metadata": {},
   "source": [
    "### Question 13"
   ]
  },
  {
   "cell_type": "markdown",
   "id": "a61c6f0b-2025-45ef-a2b9-763f1d66d58a",
   "metadata": {},
   "source": [
    " Covariance indicates the direction of the linear relationship between variables. Correlation measures both the strength and direction of the linear relationship between two variables"
   ]
  },
  {
   "cell_type": "markdown",
   "id": "b78531c3-be01-4fdf-ad52-9d2ab804940a",
   "metadata": {},
   "source": [
    "### Question 14"
   ]
  },
  {
   "cell_type": "markdown",
   "id": "e80c8703-9999-422e-9ae2-edf11be9b630",
   "metadata": {},
   "source": [
    "Outliers can significantly impact measures of central tendency and dispersion.\n",
    "\n",
    "Outliers are numbers in a data set that are vastly larger or smaller than the other values in the set. Mean is the only measure of central tendency that is always affected by an outlier.\n",
    "\n",
    "e.g - dataset = [0.1,0.12,0.45,0.78,0.015,1000]\n",
    "Now here 1000 is outlier for the dataset."
   ]
  },
  {
   "cell_type": "code",
   "execution_count": null,
   "id": "287fc226-76d3-488b-8a07-cc7bc09158f3",
   "metadata": {},
   "outputs": [],
   "source": []
  }
 ],
 "metadata": {
  "kernelspec": {
   "display_name": "Python 3 (ipykernel)",
   "language": "python",
   "name": "python3"
  },
  "language_info": {
   "codemirror_mode": {
    "name": "ipython",
    "version": 3
   },
   "file_extension": ".py",
   "mimetype": "text/x-python",
   "name": "python",
   "nbconvert_exporter": "python",
   "pygments_lexer": "ipython3",
   "version": "3.10.8"
  }
 },
 "nbformat": 4,
 "nbformat_minor": 5
}
