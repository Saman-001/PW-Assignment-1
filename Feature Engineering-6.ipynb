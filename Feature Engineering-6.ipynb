{
 "cells": [
  {
   "cell_type": "markdown",
   "id": "ef52c3c4-6ae8-4e6c-9717-85575c9ced7c",
   "metadata": {},
   "source": [
    "## Question 1\n",
    "\n",
    "Pearson Correlation coefficient is used to find the relation between two variables.\n",
    "\n",
    "It ranges between `-1 to +1` \n",
    "\n",
    "There can be 5 possibilities :-\n",
    "1. r = 1, perfect positive correlation.\n",
    "2. r = -1, perfect negative correlation.\n",
    "3. r = 0 , No relation\n",
    "4. 0<r<1, Positive relation(closer to +1 stronger the positive relation)\n",
    "5. -1<r<0, Negative relation (colser to -1 stronger the negative relation).\n",
    "\n",
    "#### Let's take an example:- \n"
   ]
  },
  {
   "cell_type": "code",
   "execution_count": 1,
   "id": "606e09de-c4e5-4a3e-aa80-63ddc3b0ec9e",
   "metadata": {},
   "outputs": [],
   "source": [
    "import pandas as pd"
   ]
  },
  {
   "cell_type": "code",
   "execution_count": 6,
   "id": "495cb6b0-68e0-4ed1-b193-c809fe2b49bf",
   "metadata": {},
   "outputs": [],
   "source": [
    "df = pd.DataFrame({\n",
    "    'Student' : ['A','B','C','D'],\n",
    "    'Study Time(in hrs)' : [2,3,4,5],\n",
    "    'Exam Scores' : [75,80,85,90]\n",
    "})"
   ]
  },
  {
   "cell_type": "code",
   "execution_count": 7,
   "id": "711507e8-4dd7-4633-b8e2-ff98be28c221",
   "metadata": {},
   "outputs": [
    {
     "data": {
      "text/html": [
       "<div>\n",
       "<style scoped>\n",
       "    .dataframe tbody tr th:only-of-type {\n",
       "        vertical-align: middle;\n",
       "    }\n",
       "\n",
       "    .dataframe tbody tr th {\n",
       "        vertical-align: top;\n",
       "    }\n",
       "\n",
       "    .dataframe thead th {\n",
       "        text-align: right;\n",
       "    }\n",
       "</style>\n",
       "<table border=\"1\" class=\"dataframe\">\n",
       "  <thead>\n",
       "    <tr style=\"text-align: right;\">\n",
       "      <th></th>\n",
       "      <th>Student</th>\n",
       "      <th>Study Time(in hrs)</th>\n",
       "      <th>Exam Scores</th>\n",
       "    </tr>\n",
       "  </thead>\n",
       "  <tbody>\n",
       "    <tr>\n",
       "      <th>0</th>\n",
       "      <td>A</td>\n",
       "      <td>2</td>\n",
       "      <td>75</td>\n",
       "    </tr>\n",
       "    <tr>\n",
       "      <th>1</th>\n",
       "      <td>B</td>\n",
       "      <td>3</td>\n",
       "      <td>80</td>\n",
       "    </tr>\n",
       "    <tr>\n",
       "      <th>2</th>\n",
       "      <td>C</td>\n",
       "      <td>4</td>\n",
       "      <td>85</td>\n",
       "    </tr>\n",
       "    <tr>\n",
       "      <th>3</th>\n",
       "      <td>D</td>\n",
       "      <td>5</td>\n",
       "      <td>90</td>\n",
       "    </tr>\n",
       "  </tbody>\n",
       "</table>\n",
       "</div>"
      ],
      "text/plain": [
       "  Student  Study Time(in hrs)  Exam Scores\n",
       "0       A                   2           75\n",
       "1       B                   3           80\n",
       "2       C                   4           85\n",
       "3       D                   5           90"
      ]
     },
     "execution_count": 7,
     "metadata": {},
     "output_type": "execute_result"
    }
   ],
   "source": [
    "df"
   ]
  },
  {
   "cell_type": "code",
   "execution_count": 8,
   "id": "fccd70d4-4449-43ec-9f5d-cafad0ec5778",
   "metadata": {},
   "outputs": [
    {
     "name": "stderr",
     "output_type": "stream",
     "text": [
      "/tmp/ipykernel_77/1928163937.py:1: FutureWarning: The default value of numeric_only in DataFrame.corr is deprecated. In a future version, it will default to False. Select only valid columns or specify the value of numeric_only to silence this warning.\n",
      "  df.corr(method='pearson')\n"
     ]
    },
    {
     "data": {
      "text/html": [
       "<div>\n",
       "<style scoped>\n",
       "    .dataframe tbody tr th:only-of-type {\n",
       "        vertical-align: middle;\n",
       "    }\n",
       "\n",
       "    .dataframe tbody tr th {\n",
       "        vertical-align: top;\n",
       "    }\n",
       "\n",
       "    .dataframe thead th {\n",
       "        text-align: right;\n",
       "    }\n",
       "</style>\n",
       "<table border=\"1\" class=\"dataframe\">\n",
       "  <thead>\n",
       "    <tr style=\"text-align: right;\">\n",
       "      <th></th>\n",
       "      <th>Study Time(in hrs)</th>\n",
       "      <th>Exam Scores</th>\n",
       "    </tr>\n",
       "  </thead>\n",
       "  <tbody>\n",
       "    <tr>\n",
       "      <th>Study Time(in hrs)</th>\n",
       "      <td>1.0</td>\n",
       "      <td>1.0</td>\n",
       "    </tr>\n",
       "    <tr>\n",
       "      <th>Exam Scores</th>\n",
       "      <td>1.0</td>\n",
       "      <td>1.0</td>\n",
       "    </tr>\n",
       "  </tbody>\n",
       "</table>\n",
       "</div>"
      ],
      "text/plain": [
       "                    Study Time(in hrs)  Exam Scores\n",
       "Study Time(in hrs)                 1.0          1.0\n",
       "Exam Scores                        1.0          1.0"
      ]
     },
     "execution_count": 8,
     "metadata": {},
     "output_type": "execute_result"
    }
   ],
   "source": [
    "df.corr(method='pearson')"
   ]
  },
  {
   "cell_type": "markdown",
   "id": "f1e68afa-c80f-43fc-a5ac-fdbdba8a60a2",
   "metadata": {},
   "source": [
    "## Question 2\n",
    "\n",
    "Spearman's rank correlation coefficient, often denoted by 𝜌(rho) or 𝑟𝑠, is a non-parametric measure of the strength and direction of the association between two ranked variables. Unlike Pearson's correlation, which assesses linear relationships, Spearman's correlation evaluates monotonic relationships, which can be either linear or non-linear.\n",
    "\n",
    "#### Let's take an example:-"
   ]
  },
  {
   "cell_type": "code",
   "execution_count": 16,
   "id": "cafb311c-c170-4423-acd0-268edc707c60",
   "metadata": {},
   "outputs": [],
   "source": [
    "df1 = pd.DataFrame({\n",
    "    'sleep' : [5,4,8,9],\n",
    "    'satisfaction level' : [7,8,4,10]\n",
    "})"
   ]
  },
  {
   "cell_type": "code",
   "execution_count": 17,
   "id": "22360d94-3ae7-4811-9aad-63fa632669b3",
   "metadata": {},
   "outputs": [
    {
     "data": {
      "text/html": [
       "<div>\n",
       "<style scoped>\n",
       "    .dataframe tbody tr th:only-of-type {\n",
       "        vertical-align: middle;\n",
       "    }\n",
       "\n",
       "    .dataframe tbody tr th {\n",
       "        vertical-align: top;\n",
       "    }\n",
       "\n",
       "    .dataframe thead th {\n",
       "        text-align: right;\n",
       "    }\n",
       "</style>\n",
       "<table border=\"1\" class=\"dataframe\">\n",
       "  <thead>\n",
       "    <tr style=\"text-align: right;\">\n",
       "      <th></th>\n",
       "      <th>sleep</th>\n",
       "      <th>satisfaction level</th>\n",
       "    </tr>\n",
       "  </thead>\n",
       "  <tbody>\n",
       "    <tr>\n",
       "      <th>0</th>\n",
       "      <td>5</td>\n",
       "      <td>7</td>\n",
       "    </tr>\n",
       "    <tr>\n",
       "      <th>1</th>\n",
       "      <td>4</td>\n",
       "      <td>8</td>\n",
       "    </tr>\n",
       "    <tr>\n",
       "      <th>2</th>\n",
       "      <td>8</td>\n",
       "      <td>4</td>\n",
       "    </tr>\n",
       "    <tr>\n",
       "      <th>3</th>\n",
       "      <td>9</td>\n",
       "      <td>10</td>\n",
       "    </tr>\n",
       "  </tbody>\n",
       "</table>\n",
       "</div>"
      ],
      "text/plain": [
       "   sleep  satisfaction level\n",
       "0      5                   7\n",
       "1      4                   8\n",
       "2      8                   4\n",
       "3      9                  10"
      ]
     },
     "execution_count": 17,
     "metadata": {},
     "output_type": "execute_result"
    }
   ],
   "source": [
    "df1"
   ]
  },
  {
   "cell_type": "code",
   "execution_count": 18,
   "id": "cb745ced-09b4-4e79-aed7-d298f08ef42b",
   "metadata": {},
   "outputs": [
    {
     "data": {
      "text/html": [
       "<div>\n",
       "<style scoped>\n",
       "    .dataframe tbody tr th:only-of-type {\n",
       "        vertical-align: middle;\n",
       "    }\n",
       "\n",
       "    .dataframe tbody tr th {\n",
       "        vertical-align: top;\n",
       "    }\n",
       "\n",
       "    .dataframe thead th {\n",
       "        text-align: right;\n",
       "    }\n",
       "</style>\n",
       "<table border=\"1\" class=\"dataframe\">\n",
       "  <thead>\n",
       "    <tr style=\"text-align: right;\">\n",
       "      <th></th>\n",
       "      <th>sleep</th>\n",
       "      <th>satisfaction level</th>\n",
       "    </tr>\n",
       "  </thead>\n",
       "  <tbody>\n",
       "    <tr>\n",
       "      <th>sleep</th>\n",
       "      <td>1.000000</td>\n",
       "      <td>0.028006</td>\n",
       "    </tr>\n",
       "    <tr>\n",
       "      <th>satisfaction level</th>\n",
       "      <td>0.028006</td>\n",
       "      <td>1.000000</td>\n",
       "    </tr>\n",
       "  </tbody>\n",
       "</table>\n",
       "</div>"
      ],
      "text/plain": [
       "                       sleep  satisfaction level\n",
       "sleep               1.000000            0.028006\n",
       "satisfaction level  0.028006            1.000000"
      ]
     },
     "execution_count": 18,
     "metadata": {},
     "output_type": "execute_result"
    }
   ],
   "source": [
    "df1.corr(method='pearson')"
   ]
  },
  {
   "cell_type": "markdown",
   "id": "59b2f7bc-13c5-4392-be0a-d77760d36ec7",
   "metadata": {},
   "source": [
    "## Question 3"
   ]
  },
  {
   "cell_type": "code",
   "execution_count": 20,
   "id": "8d1afad2-cf04-4202-95bf-d47445eeef04",
   "metadata": {},
   "outputs": [],
   "source": [
    "# HERE IS THE RANDOM DATA FOR THE GIVEN QUESTION.\n",
    "\n",
    "import numpy as np\n",
    "from scipy.stats import pearsonr, spearmanr\n",
    "\n",
    "# Simulate data: 50 participants\n",
    "np.random.seed(0)  # For reproducibility\n",
    "exercise_hours = np.random.normal(5, 2, 50)  # Average 5 hours/week, std dev 2 hours\n",
    "bmi = 25 - 0.5 * exercise_hours + np.random.normal(0, 1, 50)  # Linear relationship with noise\n",
    "\n",
    "# Calculate Pearson and Spearman correlation coefficients\n",
    "pearson_corr, _ = pearsonr(exercise_hours, bmi)\n",
    "spearman_corr, _ = spearmanr(exercise_hours, bmi)"
   ]
  },
  {
   "cell_type": "code",
   "execution_count": 21,
   "id": "e6c54dad-de08-453d-9c40-06eb4e648cc1",
   "metadata": {},
   "outputs": [
    {
     "data": {
      "text/plain": [
       "(-0.8055762139770374, -0.7924609843937575)"
      ]
     },
     "execution_count": 21,
     "metadata": {},
     "output_type": "execute_result"
    }
   ],
   "source": [
    "pearson_corr,spearman_corr"
   ]
  },
  {
   "cell_type": "markdown",
   "id": "a21da6b6-1633-46b1-ad27-0a74b4ae787e",
   "metadata": {},
   "source": [
    "## Question 4"
   ]
  },
  {
   "cell_type": "code",
   "execution_count": 28,
   "id": "5c920edc-dda9-4f91-add4-f6fd3be0c2cc",
   "metadata": {},
   "outputs": [
    {
     "name": "stdout",
     "output_type": "stream",
     "text": [
      "-0.22893221385362966   -0.20458890193150167\n"
     ]
    }
   ],
   "source": [
    "# Take random data of 50 participants\n",
    "np.random.seed(0)\n",
    "watching_time = np.random.randint(12,size=50)\n",
    "physical_level = np.random.randint(10,size=50)\n",
    "\n",
    "# calculate \n",
    "spr_cof = spearmanr(watching_time,physical_level)[0]\n",
    "pear_cof = pearsonr(watching_time,physical_level)[0]\n",
    "\n",
    "print(spr_cof,\" \",pear_cof)"
   ]
  },
  {
   "cell_type": "code",
   "execution_count": 29,
   "id": "b15efaa2-04f0-4596-a591-a27aca4a7418",
   "metadata": {},
   "outputs": [
    {
     "data": {
      "text/plain": [
       "-0.22893221385362966"
      ]
     },
     "execution_count": 29,
     "metadata": {},
     "output_type": "execute_result"
    }
   ],
   "source": [
    "spr_cof"
   ]
  },
  {
   "cell_type": "markdown",
   "id": "6b31fe31-9182-472d-b1df-2e67e9239c19",
   "metadata": {},
   "source": [
    "## Question 5\n"
   ]
  },
  {
   "cell_type": "code",
   "execution_count": 31,
   "id": "a6e1317e-f755-45a5-9711-e8bc1951ff6b",
   "metadata": {},
   "outputs": [],
   "source": [
    "from sklearn.preprocessing import LabelEncoder"
   ]
  },
  {
   "cell_type": "code",
   "execution_count": 30,
   "id": "44e479b2-dee1-4c14-91d2-49ccb3ccaa87",
   "metadata": {},
   "outputs": [],
   "source": [
    "df= pd.DataFrame({\n",
    "'age' : [25,42,37,19,31,28],\n",
    "    'soft drink prefrence' : ['Coke','pepsi','MD','Coke','pepsi','Coke']\n",
    "\n",
    "})"
   ]
  },
  {
   "cell_type": "code",
   "execution_count": 32,
   "id": "901a5648-d20b-4872-89f8-efa808054f3c",
   "metadata": {},
   "outputs": [],
   "source": [
    "# first we will convert the categorical value to numerical value\n",
    "\n",
    "# we Target guided label encoding\n",
    "encoder = LabelEncoder()"
   ]
  },
  {
   "cell_type": "code",
   "execution_count": 33,
   "id": "8e9bcc23-de07-4014-9568-d80a5ed298f9",
   "metadata": {},
   "outputs": [],
   "source": [
    "encoded_value = encoder.fit_transform(df['soft drink prefrence'])"
   ]
  },
  {
   "cell_type": "code",
   "execution_count": 34,
   "id": "e6398be7-529d-4db0-b926-b8cfacdb0562",
   "metadata": {},
   "outputs": [
    {
     "data": {
      "text/plain": [
       "array([0, 2, 1, 0, 2, 0])"
      ]
     },
     "execution_count": 34,
     "metadata": {},
     "output_type": "execute_result"
    }
   ],
   "source": [
    "encoded_value"
   ]
  },
  {
   "cell_type": "code",
   "execution_count": 35,
   "id": "5718f2ec-7f55-4307-93f9-14dbc792ffb7",
   "metadata": {},
   "outputs": [],
   "source": [
    "# encoded_df = pd.DataFrame(encoded_value)\n",
    "df['encoded cat'] = encoded_value"
   ]
  },
  {
   "cell_type": "code",
   "execution_count": 36,
   "id": "b03ab6fc-0d38-42be-b2be-602408d06e8c",
   "metadata": {},
   "outputs": [
    {
     "data": {
      "text/html": [
       "<div>\n",
       "<style scoped>\n",
       "    .dataframe tbody tr th:only-of-type {\n",
       "        vertical-align: middle;\n",
       "    }\n",
       "\n",
       "    .dataframe tbody tr th {\n",
       "        vertical-align: top;\n",
       "    }\n",
       "\n",
       "    .dataframe thead th {\n",
       "        text-align: right;\n",
       "    }\n",
       "</style>\n",
       "<table border=\"1\" class=\"dataframe\">\n",
       "  <thead>\n",
       "    <tr style=\"text-align: right;\">\n",
       "      <th></th>\n",
       "      <th>age</th>\n",
       "      <th>soft drink prefrence</th>\n",
       "      <th>encoded cat</th>\n",
       "    </tr>\n",
       "  </thead>\n",
       "  <tbody>\n",
       "    <tr>\n",
       "      <th>0</th>\n",
       "      <td>25</td>\n",
       "      <td>Coke</td>\n",
       "      <td>0</td>\n",
       "    </tr>\n",
       "    <tr>\n",
       "      <th>1</th>\n",
       "      <td>42</td>\n",
       "      <td>pepsi</td>\n",
       "      <td>2</td>\n",
       "    </tr>\n",
       "    <tr>\n",
       "      <th>2</th>\n",
       "      <td>37</td>\n",
       "      <td>MD</td>\n",
       "      <td>1</td>\n",
       "    </tr>\n",
       "    <tr>\n",
       "      <th>3</th>\n",
       "      <td>19</td>\n",
       "      <td>Coke</td>\n",
       "      <td>0</td>\n",
       "    </tr>\n",
       "    <tr>\n",
       "      <th>4</th>\n",
       "      <td>31</td>\n",
       "      <td>pepsi</td>\n",
       "      <td>2</td>\n",
       "    </tr>\n",
       "    <tr>\n",
       "      <th>5</th>\n",
       "      <td>28</td>\n",
       "      <td>Coke</td>\n",
       "      <td>0</td>\n",
       "    </tr>\n",
       "  </tbody>\n",
       "</table>\n",
       "</div>"
      ],
      "text/plain": [
       "   age soft drink prefrence  encoded cat\n",
       "0   25                 Coke            0\n",
       "1   42                pepsi            2\n",
       "2   37                   MD            1\n",
       "3   19                 Coke            0\n",
       "4   31                pepsi            2\n",
       "5   28                 Coke            0"
      ]
     },
     "execution_count": 36,
     "metadata": {},
     "output_type": "execute_result"
    }
   ],
   "source": [
    "df"
   ]
  },
  {
   "cell_type": "code",
   "execution_count": 39,
   "id": "2c74b07f-ec42-42b8-9db8-e0eb2fce7352",
   "metadata": {},
   "outputs": [
    {
     "data": {
      "text/plain": [
       "pandas.core.series.Series"
      ]
     },
     "execution_count": 39,
     "metadata": {},
     "output_type": "execute_result"
    }
   ],
   "source": [
    "type(df['age'])"
   ]
  },
  {
   "cell_type": "code",
   "execution_count": 40,
   "id": "a3111263-91dc-4d40-bc60-b541a35684cc",
   "metadata": {},
   "outputs": [
    {
     "data": {
      "text/plain": [
       "pandas.core.series.Series"
      ]
     },
     "execution_count": 40,
     "metadata": {},
     "output_type": "execute_result"
    }
   ],
   "source": [
    "type(df['encoded cat'])"
   ]
  },
  {
   "cell_type": "code",
   "execution_count": null,
   "id": "90986318-f384-48f6-aa5c-ab08822fbf6b",
   "metadata": {},
   "outputs": [],
   "source": []
  },
  {
   "cell_type": "code",
   "execution_count": null,
   "id": "76555c25-bb0b-4aeb-b62a-4462a3fa6e2e",
   "metadata": {},
   "outputs": [],
   "source": []
  },
  {
   "cell_type": "code",
   "execution_count": null,
   "id": "5eaa17a8-d19f-4ad8-8421-798df980ba1c",
   "metadata": {},
   "outputs": [],
   "source": []
  },
  {
   "cell_type": "code",
   "execution_count": 41,
   "id": "041aeb99-3cbb-4866-a34e-688868bf9d33",
   "metadata": {},
   "outputs": [],
   "source": [
    "correlation  = df['age'].corr(df['encoded cat'],method = 'pearson')"
   ]
  },
  {
   "cell_type": "code",
   "execution_count": 42,
   "id": "4b8ddcec-feb1-42ba-a405-6830020d0f0e",
   "metadata": {},
   "outputs": [
    {
     "data": {
      "text/plain": [
       "0.7691751415594736"
      ]
     },
     "execution_count": 42,
     "metadata": {},
     "output_type": "execute_result"
    }
   ],
   "source": [
    "correlation"
   ]
  },
  {
   "cell_type": "markdown",
   "id": "1be36b3c-8878-41e1-97cc-318911782a27",
   "metadata": {},
   "source": [
    "## Question 6"
   ]
  },
  {
   "cell_type": "code",
   "execution_count": 43,
   "id": "bcbe657e-6065-4e7e-a223-6412e60fb7ef",
   "metadata": {},
   "outputs": [],
   "source": [
    "# Let's consider a random data\n",
    "sales_per_day = np.random.randint(100,size=30)\n",
    "sales_per_week = np.random.randint(1000,size=30)\n"
   ]
  },
  {
   "cell_type": "code",
   "execution_count": 44,
   "id": "8ff47c47-d1fb-4268-a7e8-da5d7ac48baa",
   "metadata": {},
   "outputs": [],
   "source": [
    "df = pd.DataFrame({\n",
    "    'Sales per day' : sales_per_day,\n",
    "'Sales per week' : sales_per_week\n",
    "})"
   ]
  },
  {
   "cell_type": "code",
   "execution_count": 45,
   "id": "f50c3ef0-24c2-4a7e-aafb-d991e4d664bb",
   "metadata": {},
   "outputs": [
    {
     "data": {
      "text/html": [
       "<div>\n",
       "<style scoped>\n",
       "    .dataframe tbody tr th:only-of-type {\n",
       "        vertical-align: middle;\n",
       "    }\n",
       "\n",
       "    .dataframe tbody tr th {\n",
       "        vertical-align: top;\n",
       "    }\n",
       "\n",
       "    .dataframe thead th {\n",
       "        text-align: right;\n",
       "    }\n",
       "</style>\n",
       "<table border=\"1\" class=\"dataframe\">\n",
       "  <thead>\n",
       "    <tr style=\"text-align: right;\">\n",
       "      <th></th>\n",
       "      <th>Sales per day</th>\n",
       "      <th>Sales per week</th>\n",
       "    </tr>\n",
       "  </thead>\n",
       "  <tbody>\n",
       "    <tr>\n",
       "      <th>0</th>\n",
       "      <td>50</td>\n",
       "      <td>782</td>\n",
       "    </tr>\n",
       "    <tr>\n",
       "      <th>1</th>\n",
       "      <td>36</td>\n",
       "      <td>41</td>\n",
       "    </tr>\n",
       "    <tr>\n",
       "      <th>2</th>\n",
       "      <td>34</td>\n",
       "      <td>58</td>\n",
       "    </tr>\n",
       "    <tr>\n",
       "      <th>3</th>\n",
       "      <td>48</td>\n",
       "      <td>705</td>\n",
       "    </tr>\n",
       "    <tr>\n",
       "      <th>4</th>\n",
       "      <td>93</td>\n",
       "      <td>36</td>\n",
       "    </tr>\n",
       "    <tr>\n",
       "      <th>5</th>\n",
       "      <td>3</td>\n",
       "      <td>778</td>\n",
       "    </tr>\n",
       "    <tr>\n",
       "      <th>6</th>\n",
       "      <td>98</td>\n",
       "      <td>86</td>\n",
       "    </tr>\n",
       "    <tr>\n",
       "      <th>7</th>\n",
       "      <td>42</td>\n",
       "      <td>43</td>\n",
       "    </tr>\n",
       "    <tr>\n",
       "      <th>8</th>\n",
       "      <td>77</td>\n",
       "      <td>872</td>\n",
       "    </tr>\n",
       "    <tr>\n",
       "      <th>9</th>\n",
       "      <td>21</td>\n",
       "      <td>11</td>\n",
       "    </tr>\n",
       "    <tr>\n",
       "      <th>10</th>\n",
       "      <td>73</td>\n",
       "      <td>770</td>\n",
       "    </tr>\n",
       "    <tr>\n",
       "      <th>11</th>\n",
       "      <td>0</td>\n",
       "      <td>307</td>\n",
       "    </tr>\n",
       "    <tr>\n",
       "      <th>12</th>\n",
       "      <td>10</td>\n",
       "      <td>80</td>\n",
       "    </tr>\n",
       "    <tr>\n",
       "      <th>13</th>\n",
       "      <td>43</td>\n",
       "      <td>32</td>\n",
       "    </tr>\n",
       "    <tr>\n",
       "      <th>14</th>\n",
       "      <td>58</td>\n",
       "      <td>182</td>\n",
       "    </tr>\n",
       "    <tr>\n",
       "      <th>15</th>\n",
       "      <td>23</td>\n",
       "      <td>128</td>\n",
       "    </tr>\n",
       "    <tr>\n",
       "      <th>16</th>\n",
       "      <td>59</td>\n",
       "      <td>806</td>\n",
       "    </tr>\n",
       "    <tr>\n",
       "      <th>17</th>\n",
       "      <td>2</td>\n",
       "      <td>275</td>\n",
       "    </tr>\n",
       "    <tr>\n",
       "      <th>18</th>\n",
       "      <td>98</td>\n",
       "      <td>174</td>\n",
       "    </tr>\n",
       "    <tr>\n",
       "      <th>19</th>\n",
       "      <td>62</td>\n",
       "      <td>554</td>\n",
       "    </tr>\n",
       "    <tr>\n",
       "      <th>20</th>\n",
       "      <td>35</td>\n",
       "      <td>371</td>\n",
       "    </tr>\n",
       "    <tr>\n",
       "      <th>21</th>\n",
       "      <td>94</td>\n",
       "      <td>184</td>\n",
       "    </tr>\n",
       "    <tr>\n",
       "      <th>22</th>\n",
       "      <td>67</td>\n",
       "      <td>444</td>\n",
       "    </tr>\n",
       "    <tr>\n",
       "      <th>23</th>\n",
       "      <td>82</td>\n",
       "      <td>488</td>\n",
       "    </tr>\n",
       "    <tr>\n",
       "      <th>24</th>\n",
       "      <td>46</td>\n",
       "      <td>589</td>\n",
       "    </tr>\n",
       "    <tr>\n",
       "      <th>25</th>\n",
       "      <td>99</td>\n",
       "      <td>286</td>\n",
       "    </tr>\n",
       "    <tr>\n",
       "      <th>26</th>\n",
       "      <td>20</td>\n",
       "      <td>280</td>\n",
       "    </tr>\n",
       "    <tr>\n",
       "      <th>27</th>\n",
       "      <td>81</td>\n",
       "      <td>637</td>\n",
       "    </tr>\n",
       "    <tr>\n",
       "      <th>28</th>\n",
       "      <td>50</td>\n",
       "      <td>770</td>\n",
       "    </tr>\n",
       "    <tr>\n",
       "      <th>29</th>\n",
       "      <td>27</td>\n",
       "      <td>515</td>\n",
       "    </tr>\n",
       "  </tbody>\n",
       "</table>\n",
       "</div>"
      ],
      "text/plain": [
       "    Sales per day  Sales per week\n",
       "0              50             782\n",
       "1              36              41\n",
       "2              34              58\n",
       "3              48             705\n",
       "4              93              36\n",
       "5               3             778\n",
       "6              98              86\n",
       "7              42              43\n",
       "8              77             872\n",
       "9              21              11\n",
       "10             73             770\n",
       "11              0             307\n",
       "12             10              80\n",
       "13             43              32\n",
       "14             58             182\n",
       "15             23             128\n",
       "16             59             806\n",
       "17              2             275\n",
       "18             98             174\n",
       "19             62             554\n",
       "20             35             371\n",
       "21             94             184\n",
       "22             67             444\n",
       "23             82             488\n",
       "24             46             589\n",
       "25             99             286\n",
       "26             20             280\n",
       "27             81             637\n",
       "28             50             770\n",
       "29             27             515"
      ]
     },
     "execution_count": 45,
     "metadata": {},
     "output_type": "execute_result"
    }
   ],
   "source": [
    "df"
   ]
  },
  {
   "cell_type": "code",
   "execution_count": 47,
   "id": "f64d4b09-c7ba-442a-9bbe-5f05fd8d06dd",
   "metadata": {},
   "outputs": [],
   "source": [
    "correlation_calls = df['Sales per day'].corr(df['Sales per week'],method='pearson')"
   ]
  },
  {
   "cell_type": "code",
   "execution_count": 48,
   "id": "bc0c5952-e06c-4285-9cc8-2ad577bc6194",
   "metadata": {},
   "outputs": [
    {
     "data": {
      "text/plain": [
       "0.0791044946565105"
      ]
     },
     "execution_count": 48,
     "metadata": {},
     "output_type": "execute_result"
    }
   ],
   "source": [
    "correlation_calls"
   ]
  },
  {
   "cell_type": "code",
   "execution_count": null,
   "id": "fd9173b4-b60e-479a-ac5e-fb751d01e0fa",
   "metadata": {},
   "outputs": [],
   "source": []
  }
 ],
 "metadata": {
  "kernelspec": {
   "display_name": "Python 3 (ipykernel)",
   "language": "python",
   "name": "python3"
  },
  "language_info": {
   "codemirror_mode": {
    "name": "ipython",
    "version": 3
   },
   "file_extension": ".py",
   "mimetype": "text/x-python",
   "name": "python",
   "nbconvert_exporter": "python",
   "pygments_lexer": "ipython3",
   "version": "3.10.8"
  }
 },
 "nbformat": 4,
 "nbformat_minor": 5
}
