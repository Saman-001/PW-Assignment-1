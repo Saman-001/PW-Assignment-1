{
 "cells": [
  {
   "cell_type": "code",
   "execution_count": 1,
   "id": "0356a9c1-831f-4562-a50a-d439566c5de4",
   "metadata": {},
   "outputs": [
    {
     "name": "stdout",
     "output_type": "stream",
     "text": [
      "Requirement already satisfied: pandas in /opt/conda/lib/python3.10/site-packages (1.5.2)\n",
      "Requirement already satisfied: python-dateutil>=2.8.1 in /opt/conda/lib/python3.10/site-packages (from pandas) (2.8.2)\n",
      "Requirement already satisfied: pytz>=2020.1 in /opt/conda/lib/python3.10/site-packages (from pandas) (2022.6)\n",
      "Requirement already satisfied: numpy>=1.21.0 in /opt/conda/lib/python3.10/site-packages (from pandas) (1.23.5)\n",
      "Requirement already satisfied: six>=1.5 in /opt/conda/lib/python3.10/site-packages (from python-dateutil>=2.8.1->pandas) (1.16.0)\n",
      "Note: you may need to restart the kernel to use updated packages.\n"
     ]
    }
   ],
   "source": [
    "pip install pandas\n"
   ]
  },
  {
   "cell_type": "code",
   "execution_count": 2,
   "id": "7feeee9a-f031-48fb-8bb2-724752275084",
   "metadata": {},
   "outputs": [],
   "source": [
    "import pandas as pd\n"
   ]
  },
  {
   "cell_type": "markdown",
   "id": "1044dcf7-5529-4bef-a0aa-92f80429513b",
   "metadata": {
    "tags": []
   },
   "source": [
    "### Question 1"
   ]
  },
  {
   "cell_type": "code",
   "execution_count": 4,
   "id": "c4c4d057-b446-4223-8b2b-0a9e0e4cb63f",
   "metadata": {},
   "outputs": [
    {
     "name": "stdout",
     "output_type": "stream",
     "text": [
      "0     4\n",
      "1     8\n",
      "2    15\n",
      "3    16\n",
      "4    23\n",
      "5    42\n",
      "dtype: int64\n"
     ]
    }
   ],
   "source": [
    "data = [4, 8, 15, 16, 23, 42]\n",
    "\n",
    "ser = pd.Series(data)\n",
    "print(ser)"
   ]
  },
  {
   "cell_type": "markdown",
   "id": "aa5ce1ed-98c4-4b82-a1d7-10096994565c",
   "metadata": {},
   "source": [
    "### Question 2"
   ]
  },
  {
   "cell_type": "code",
   "execution_count": 5,
   "id": "aa316348-521f-4b02-adb4-e8c9becfe8bf",
   "metadata": {},
   "outputs": [
    {
     "name": "stdout",
     "output_type": "stream",
     "text": [
      "0     1\n",
      "1     2\n",
      "2     3\n",
      "3     4\n",
      "4     5\n",
      "5     6\n",
      "6     7\n",
      "7     8\n",
      "8     9\n",
      "9    10\n",
      "dtype: int64\n"
     ]
    }
   ],
   "source": [
    "data1 =[1,2,3,4,5,6,7,8,9,10]\n",
    "print(pd.Series(data1))"
   ]
  },
  {
   "cell_type": "markdown",
   "id": "71655025-0ed2-4a4c-96c7-6afe86b84c0c",
   "metadata": {},
   "source": [
    "### Question 3"
   ]
  },
  {
   "cell_type": "code",
   "execution_count": 6,
   "id": "7e6803d1-10db-442b-87ab-e6e223a5110c",
   "metadata": {},
   "outputs": [
    {
     "name": "stdout",
     "output_type": "stream",
     "text": [
      "      Name  Age  Gender\n",
      "0    Alice   25  Female\n",
      "1      Bob   30    Male\n",
      "2  Charlie   27  Female\n"
     ]
    }
   ],
   "source": [
    "data2 = {\n",
    "    \"Name\":[\"Alice\",\"Bob\",\"Charlie\"],\n",
    "    \"Age\":[25,30,27],\n",
    "    \"Gender\":[\"Female\",\"Male\",\"Female\"]\n",
    "}\n",
    "\n",
    "df = pd.DataFrame(data2)\n",
    "print(df)"
   ]
  },
  {
   "cell_type": "markdown",
   "id": "f3808bc9-9a0a-4686-81aa-b7bfb05eaa35",
   "metadata": {},
   "source": [
    "### Question 4\n",
    "\n",
    "A Pandas DataFrame is a two-dimensional labeled data structure with columns of different types. It is often used for data analysis and manipulation.\n",
    "\n",
    "\n",
    "A Pandas Series is a one-dimensional labeled array, similar to a NumPy array. It is often used to represent a single column of data within a DataFrame, or as a standalone data structure.\n",
    "\n",
    "[Main Difference is that Series has only 1 column and Dataframe has multiple columns]"
   ]
  },
  {
   "cell_type": "markdown",
   "id": "273c51d6-f256-401f-84f1-23fc398fceb6",
   "metadata": {},
   "source": [
    "### Question 5\n",
    "\n",
    "There are different types of functions available to manipulate the data in Pandas, some of them are as follows:-\n",
    "\n",
    "1. read_csv()-> This func. is used to read the csv file. We can use it when we have to read a csv file for analysis\n",
    "\n",
    "2. read_excel() -> This func. is used to read the excel sheets and we can use it when we have to do analysis in a excel sheets.\n",
    "\n",
    "3. .head() -> This func. is used to show the first 5 rows from the dataframe. This gives quick access to the data present on top 5\n",
    "\n",
    "4. .tail() -> This func. gives the last 5 rows from the dataframe. It also gives quick acess to the last data. It can also take parameters\n",
    "\n",
    "5. columns() -> This will give all the names of the column and we can use it when we have to know the column names of our dataframe\n",
    "\n",
    "6. to_csv(\"filename\") -> This will helps to create a csv file in our local directory and store all the data available in a dataframe. It is useful when we have to save the data in our local system.\n"
   ]
  },
  {
   "cell_type": "markdown",
   "id": "d77e8d5a-423b-4745-8e00-dd01428e89c2",
   "metadata": {},
   "source": [
    "### Question 6\n",
    "\n",
    "Dataframe and panel are fully mutable and we can change whatever we want to but Series are Immutable in case of Size change, Series is mutable in case of value. "
   ]
  },
  {
   "cell_type": "markdown",
   "id": "913b2d1d-d2a3-4645-a87b-de41147221f0",
   "metadata": {},
   "source": [
    "### Question 7\n"
   ]
  },
  {
   "cell_type": "code",
   "execution_count": 10,
   "id": "f72bf9f2-f109-4576-b283-3b6d78cbaa9d",
   "metadata": {},
   "outputs": [
    {
     "name": "stdout",
     "output_type": "stream",
     "text": [
      "      Name  Age  Gender\n",
      "0    Alice   25  Female\n",
      "1      Bob   30    Male\n",
      "2  Charlie   27  Female\n"
     ]
    }
   ],
   "source": [
    "# First converted into series\n",
    "names = pd.Series([\"Alice\",\"Bob\",\"Charlie\"])\n",
    "age =pd.Series([25,30,27])\n",
    "sex= pd.Series([\"Female\",\"Male\",\"Female\"])\n",
    "\n",
    "#stored data in Dictionary format\n",
    "data_df = {'Name':names,'Age':age,'Gender':sex}\n",
    "\n",
    "#converted series into DataFrame\n",
    "df2 = pd.DataFrame(data_df)\n",
    "print(df2)"
   ]
  },
  {
   "cell_type": "code",
   "execution_count": null,
   "id": "b84db7af-d62a-4574-8e73-faf0863275b0",
   "metadata": {},
   "outputs": [],
   "source": []
  }
 ],
 "metadata": {
  "kernelspec": {
   "display_name": "Python 3 (ipykernel)",
   "language": "python",
   "name": "python3"
  },
  "language_info": {
   "codemirror_mode": {
    "name": "ipython",
    "version": 3
   },
   "file_extension": ".py",
   "mimetype": "text/x-python",
   "name": "python",
   "nbconvert_exporter": "python",
   "pygments_lexer": "ipython3",
   "version": "3.10.8"
  }
 },
 "nbformat": 4,
 "nbformat_minor": 5
}
