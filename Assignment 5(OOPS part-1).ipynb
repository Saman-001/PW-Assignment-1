{
 "cells": [
  {
   "cell_type": "markdown",
   "id": "3f33f33c-8f4d-47d3-b10b-588fa9ce8dd6",
   "metadata": {
    "tags": []
   },
   "source": [
    "##### Question 1"
   ]
  },
  {
   "cell_type": "code",
   "execution_count": 12,
   "id": "f457f665-527f-4aec-b0e2-d51a63e9c5c3",
   "metadata": {},
   "outputs": [],
   "source": [
    "class vehicle:\n",
    "    \n",
    "    def __init__(self,name_of_vehicle, max_speed,average_of_vehicle):\n",
    "        self.name = name_of_vehicle\n",
    "        self.speed = max_speed\n",
    "        self.average = average_of_vehicle\n"
   ]
  },
  {
   "cell_type": "markdown",
   "id": "c8b4bf49-a9b6-4114-905c-75840d4320ee",
   "metadata": {
    "tags": []
   },
   "source": [
    "##### Question 2"
   ]
  },
  {
   "cell_type": "code",
   "execution_count": 11,
   "id": "bd60290a-7d04-40e3-b8d5-c703444bb616",
   "metadata": {},
   "outputs": [],
   "source": [
    "class car(vehicle):\n",
    "    \n",
    "    def seating_capacity(self,capacity):\n",
    "        self.capacity = capacity\n",
    "        return self.name , self.capacity"
   ]
  },
  {
   "cell_type": "code",
   "execution_count": 15,
   "id": "e597a92a-c09b-4e8f-8e9d-a008702e6463",
   "metadata": {},
   "outputs": [],
   "source": [
    "obj_car = car(\"Toyota\", 200 , 15)"
   ]
  },
  {
   "cell_type": "code",
   "execution_count": 16,
   "id": "10fcc6b5-ccaa-49c3-8503-766da91aea39",
   "metadata": {},
   "outputs": [
    {
     "data": {
      "text/plain": [
       "('Toyota', 5)"
      ]
     },
     "execution_count": 16,
     "metadata": {},
     "output_type": "execute_result"
    }
   ],
   "source": [
    "obj_car.seating_capacity(5)"
   ]
  },
  {
   "cell_type": "markdown",
   "id": "40d97503-d4ec-4b54-9edf-d9791c84fd0b",
   "metadata": {
    "tags": []
   },
   "source": [
    "##### Question 3"
   ]
  },
  {
   "cell_type": "code",
   "execution_count": 17,
   "id": "3e21f869-fe04-4231-be71-3060c2f95ea2",
   "metadata": {},
   "outputs": [],
   "source": [
    "'''Multiple Inheritance = It is a type of inheritance in which the child class is inherited from 2 or more parent classes'''\n",
    "\n",
    "# Code to demonstrate the multiple inheritance\n",
    "\n",
    "class A :\n",
    "    \n",
    "    def func1(self):\n",
    "        return \"This is class A\"\n",
    "    \n",
    "class B:\n",
    "    def func2(self):\n",
    "        return \"This is a class B\"\n",
    "class C(A,B):\n",
    "    pass\n"
   ]
  },
  {
   "cell_type": "code",
   "execution_count": 18,
   "id": "2e71db8e-3f17-4c11-89bb-5c7dd6af05ef",
   "metadata": {},
   "outputs": [],
   "source": [
    "obj_c = C()"
   ]
  },
  {
   "cell_type": "code",
   "execution_count": 20,
   "id": "e9e4e32c-a581-4379-9f3a-18f617420350",
   "metadata": {},
   "outputs": [
    {
     "data": {
      "text/plain": [
       "'This is class A'"
      ]
     },
     "execution_count": 20,
     "metadata": {},
     "output_type": "execute_result"
    }
   ],
   "source": [
    "obj_c.func1()"
   ]
  },
  {
   "cell_type": "code",
   "execution_count": 21,
   "id": "09b25e95-0408-466a-8579-9645827a2e4f",
   "metadata": {},
   "outputs": [
    {
     "data": {
      "text/plain": [
       "'This is a class B'"
      ]
     },
     "execution_count": 21,
     "metadata": {},
     "output_type": "execute_result"
    }
   ],
   "source": [
    "obj_c.func2()"
   ]
  },
  {
   "cell_type": "markdown",
   "id": "e8646da5-1ad0-4868-a40c-f115622d1d66",
   "metadata": {
    "tags": []
   },
   "source": [
    "##### Question 4"
   ]
  },
  {
   "cell_type": "code",
   "execution_count": 40,
   "id": "c2b62d32-dcf0-48b7-8ce0-46df94e27023",
   "metadata": {},
   "outputs": [],
   "source": [
    "# Getter and setter is used to hide the attributes of the object of a class so that no modification can be done outside the class\n",
    "\n",
    "class pass_year_of_graduation:\n",
    "    \n",
    "    def __init__(self , year=0):\n",
    "        self.__year = year #attribute year cannot be accessed directly outside the class\n",
    "        \n",
    "    def get_year(self):\n",
    "        return self.__year\n",
    "    def set_year(self, x):\n",
    "        self.__year = x"
   ]
  },
  {
   "cell_type": "code",
   "execution_count": 46,
   "id": "f2654183-a5c8-44cf-89ff-26fb129a3c60",
   "metadata": {},
   "outputs": [],
   "source": [
    "obj_class = pass_year_of_graduation()"
   ]
  },
  {
   "cell_type": "code",
   "execution_count": 49,
   "id": "56ca5df0-1707-4f2f-9027-d44992a255b6",
   "metadata": {},
   "outputs": [],
   "source": [
    "obj_class.set_year(2025)"
   ]
  },
  {
   "cell_type": "code",
   "execution_count": 50,
   "id": "08faa9e4-9dd3-421e-9bff-e70884744209",
   "metadata": {},
   "outputs": [
    {
     "data": {
      "text/plain": [
       "2025"
      ]
     },
     "execution_count": 50,
     "metadata": {},
     "output_type": "execute_result"
    }
   ],
   "source": [
    "obj_class.get_year()"
   ]
  },
  {
   "cell_type": "markdown",
   "id": "f5e70c2e-5284-44d1-9c16-f2a98ee818e9",
   "metadata": {},
   "source": [
    "##### Question 5"
   ]
  },
  {
   "cell_type": "code",
   "execution_count": null,
   "id": "4a32241f-1beb-48d2-ad68-dd7cd0598f3a",
   "metadata": {},
   "outputs": [],
   "source": [
    "'''In Method overriding the method name of the parent class and the child class has the same name in other words we overide the method of parent class in child class'''"
   ]
  },
  {
   "cell_type": "code",
   "execution_count": 59,
   "id": "2ae86bd2-f08a-49d2-a547-cc82553627d6",
   "metadata": {},
   "outputs": [],
   "source": [
    "class parent:\n",
    "    \n",
    "    def __init__(self):\n",
    "        self.value =  \"Parent class\"\n",
    "    \n",
    "    def show(self):\n",
    "        return self.value\n",
    "\n",
    "class child(parent):\n",
    "    \n",
    "    def __init__(self):\n",
    "        self.value = \"Child class\"\n",
    "    \n",
    "    def show(self): #it has the same name of method as defined in parent class. it will override(overwrite) the method of parent class\n",
    "        return self.value"
   ]
  },
  {
   "cell_type": "code",
   "execution_count": 57,
   "id": "c0b02f2a-2073-4c54-a85e-75934228cef5",
   "metadata": {},
   "outputs": [],
   "source": [
    "obj = child()"
   ]
  },
  {
   "cell_type": "code",
   "execution_count": 58,
   "id": "1f2084c4-3f64-4282-b217-a1ce3ee37a15",
   "metadata": {},
   "outputs": [
    {
     "data": {
      "text/plain": [
       "'Child class'"
      ]
     },
     "execution_count": 58,
     "metadata": {},
     "output_type": "execute_result"
    }
   ],
   "source": [
    "obj.show()"
   ]
  },
  {
   "cell_type": "code",
   "execution_count": null,
   "id": "814e9f4f-6b40-47a7-bbe7-dfd42a617c85",
   "metadata": {},
   "outputs": [],
   "source": []
  }
 ],
 "metadata": {
  "kernelspec": {
   "display_name": "Python 3 (ipykernel)",
   "language": "python",
   "name": "python3"
  },
  "language_info": {
   "codemirror_mode": {
    "name": "ipython",
    "version": 3
   },
   "file_extension": ".py",
   "mimetype": "text/x-python",
   "name": "python",
   "nbconvert_exporter": "python",
   "pygments_lexer": "ipython3",
   "version": "3.10.8"
  }
 },
 "nbformat": 4,
 "nbformat_minor": 5
}
