{
 "cells": [
  {
   "cell_type": "code",
   "execution_count": 1,
   "id": "dfd8f533-ec47-4f9a-b110-de8e3e1d0d15",
   "metadata": {},
   "outputs": [],
   "source": [
    "#Question 1\n"
   ]
  },
  {
   "cell_type": "code",
   "execution_count": 2,
   "id": "18b56496-3f10-4585-a348-b894e25ed892",
   "metadata": {},
   "outputs": [],
   "source": [
    "str = \"PW Skills\"\n",
    "list = [4,6,8, 32.6,'apple', True]\n",
    "f = 21.4\n",
    "tuple = [\"Banana\", 4 , 1.2, False]"
   ]
  },
  {
   "cell_type": "code",
   "execution_count": 3,
   "id": "e474eb96-9b67-4d90-871a-0d75d8c03cd1",
   "metadata": {},
   "outputs": [],
   "source": [
    "# Question 2\n"
   ]
  },
  {
   "cell_type": "code",
   "execution_count": 4,
   "id": "30ebe6c0-4dad-4736-972c-c29cb1faeaab",
   "metadata": {},
   "outputs": [],
   "source": [
    "var1 = ''"
   ]
  },
  {
   "cell_type": "code",
   "execution_count": 5,
   "id": "3f344bd9-5793-470e-b24c-31abe75a195c",
   "metadata": {},
   "outputs": [
    {
     "data": {
      "text/plain": [
       "str"
      ]
     },
     "execution_count": 5,
     "metadata": {},
     "output_type": "execute_result"
    }
   ],
   "source": [
    "type(var1)"
   ]
  },
  {
   "cell_type": "code",
   "execution_count": 6,
   "id": "934fc48f-93d2-4dee-9577-79801c975f7c",
   "metadata": {},
   "outputs": [],
   "source": [
    "var2 = '[DS,ML,Python]'"
   ]
  },
  {
   "cell_type": "code",
   "execution_count": 7,
   "id": "7d8a8c3f-e074-423a-bf06-835033877aae",
   "metadata": {},
   "outputs": [
    {
     "data": {
      "text/plain": [
       "str"
      ]
     },
     "execution_count": 7,
     "metadata": {},
     "output_type": "execute_result"
    }
   ],
   "source": [
    "type (var2)"
   ]
  },
  {
   "cell_type": "code",
   "execution_count": 8,
   "id": "2994a333-891d-4eed-8bfd-3fc883ab9b10",
   "metadata": {},
   "outputs": [],
   "source": [
    "var3 = ['DS','ML','Python']"
   ]
  },
  {
   "cell_type": "code",
   "execution_count": 9,
   "id": "5050e50d-7035-4b42-a01b-65de81930a0f",
   "metadata": {},
   "outputs": [
    {
     "data": {
      "text/plain": [
       "list"
      ]
     },
     "execution_count": 9,
     "metadata": {},
     "output_type": "execute_result"
    }
   ],
   "source": [
    "type(var3)"
   ]
  },
  {
   "cell_type": "code",
   "execution_count": 10,
   "id": "e6ac0edb-cc31-47d8-80f5-60296c9678fc",
   "metadata": {},
   "outputs": [
    {
     "data": {
      "text/plain": [
       "int"
      ]
     },
     "execution_count": 10,
     "metadata": {},
     "output_type": "execute_result"
    }
   ],
   "source": [
    "var4 = 1\n",
    "type (var4)"
   ]
  },
  {
   "cell_type": "code",
   "execution_count": 11,
   "id": "31b56e64-a140-4b1c-940c-ac7ea153d3be",
   "metadata": {},
   "outputs": [],
   "source": [
    "# Question 3 "
   ]
  },
  {
   "cell_type": "code",
   "execution_count": 12,
   "id": "4a669964-fe9a-49d2-a720-5b39039e57be",
   "metadata": {},
   "outputs": [],
   "source": [
    "# (i)"
   ]
  },
  {
   "cell_type": "code",
   "execution_count": null,
   "id": "f50558c4-740c-4e87-9e67-1dbf0f2a19fe",
   "metadata": {},
   "outputs": [],
   "source": [
    "# using / = It is used to divide the two numbers"
   ]
  },
  {
   "cell_type": "code",
   "execution_count": 13,
   "id": "83e7290b-3b29-4833-8b62-042474af86d1",
   "metadata": {},
   "outputs": [
    {
     "data": {
      "text/plain": [
       "2.0"
      ]
     },
     "execution_count": 13,
     "metadata": {},
     "output_type": "execute_result"
    }
   ],
   "source": [
    "a= 12\n",
    "b = 6\n",
    "a/b"
   ]
  },
  {
   "cell_type": "code",
   "execution_count": 14,
   "id": "f088aa84-6940-4bd9-9486-80d832d0859a",
   "metadata": {},
   "outputs": [],
   "source": [
    "# (ii)"
   ]
  },
  {
   "cell_type": "code",
   "execution_count": 15,
   "id": "3c441109-9311-4426-9501-1cd866a81f6e",
   "metadata": {},
   "outputs": [],
   "source": [
    "# % = This operator is used to find the remainder/modulus of 2 numbers"
   ]
  },
  {
   "cell_type": "code",
   "execution_count": 16,
   "id": "ce50c9a6-f9fd-403e-ad6f-8a201265dc70",
   "metadata": {},
   "outputs": [
    {
     "data": {
      "text/plain": [
       "0"
      ]
     },
     "execution_count": 16,
     "metadata": {},
     "output_type": "execute_result"
    }
   ],
   "source": [
    "a%b"
   ]
  },
  {
   "cell_type": "code",
   "execution_count": 17,
   "id": "247ee4ae-19a5-4c9b-913e-6464a866b711",
   "metadata": {},
   "outputs": [],
   "source": [
    "#(iii)"
   ]
  },
  {
   "cell_type": "code",
   "execution_count": 18,
   "id": "324041fe-7687-4c39-ab7e-dcbc874e909d",
   "metadata": {},
   "outputs": [],
   "source": [
    "# // =  This operator is used to find the floor value."
   ]
  },
  {
   "cell_type": "code",
   "execution_count": 20,
   "id": "0e54197d-4981-4d72-8142-d36cc2302399",
   "metadata": {},
   "outputs": [
    {
     "data": {
      "text/plain": [
       "2"
      ]
     },
     "execution_count": 20,
     "metadata": {},
     "output_type": "execute_result"
    }
   ],
   "source": [
    "a//5"
   ]
  },
  {
   "cell_type": "code",
   "execution_count": 21,
   "id": "6d1713d1-16e0-4197-89c7-0cbe95afc0e3",
   "metadata": {},
   "outputs": [],
   "source": [
    "# (iv)"
   ]
  },
  {
   "cell_type": "code",
   "execution_count": 22,
   "id": "1296ed4a-cc3c-4162-8255-18076e016215",
   "metadata": {},
   "outputs": [],
   "source": [
    "# ** = This oprator is used to calculate the power of a number"
   ]
  },
  {
   "cell_type": "code",
   "execution_count": 23,
   "id": "a870e798-5fc3-4559-b5dd-952797bb7d93",
   "metadata": {},
   "outputs": [
    {
     "data": {
      "text/plain": [
       "8"
      ]
     },
     "execution_count": 23,
     "metadata": {},
     "output_type": "execute_result"
    }
   ],
   "source": [
    "2**3"
   ]
  },
  {
   "cell_type": "code",
   "execution_count": 24,
   "id": "9be42085-b2b1-4997-91b0-0a84868ea708",
   "metadata": {},
   "outputs": [
    {
     "name": "stdout",
     "output_type": "stream",
     "text": [
      "4\n",
      "<class 'int'>\n",
      "6\n",
      "<class 'int'>\n",
      "8\n",
      "<class 'int'>\n",
      "32.6\n",
      "<class 'float'>\n",
      "apple\n",
      "<class 'str'>\n",
      "True\n",
      "<class 'bool'>\n"
     ]
    }
   ],
   "source": [
    "for i in list:\n",
    "    print(i)\n",
    "    print(type(i))\n",
    "    "
   ]
  },
  {
   "cell_type": "code",
   "execution_count": null,
   "id": "a990f9d6-52be-4859-8928-1fd5646ff456",
   "metadata": {},
   "outputs": [],
   "source": [
    "a = 20\n",
    "b =2\n",
    "count =0\n",
    "\n",
    "while a%b==0:\n",
    "    a/=b\n",
    "    count+=1\n",
    "if count>0:\n",
    "    print(\"A can be divided by B\" ,count,\"times\")\n",
    "else:\n",
    "    print(\"A cannot be divided by B\")"
   ]
  },
  {
   "cell_type": "code",
   "execution_count": null,
   "id": "780c62e4-7a86-495d-b30b-b8c64467112c",
   "metadata": {},
   "outputs": [],
   "source": [
    "numbers = [11, 20, 36, 45, 51, 64, 72, 80, 93, 102, 115, 120, 133, 145, 150, 165, 171, 183, 190, 202, 211, 220, 232, 240, 253]\n",
    "for num in numbers:\n",
    "    if(num%3==0):\n",
    "    print(\"It is divisible by 3\")\n",
    "    else:\n",
    "    print(\"It is not divisible by 3\")"
   ]
  },
  {
   "cell_type": "code",
   "execution_count": null,
   "id": "7f64457d-1646-429f-8717-df6d6a22d2ed",
   "metadata": {},
   "outputs": [],
   "source": [
    "#Question 7"
   ]
  },
  {
   "cell_type": "code",
   "execution_count": null,
   "id": "bce55682-60bd-4fcd-80a2-9dce8d9dad0b",
   "metadata": {},
   "outputs": [],
   "source": [
    "#  Mutubale are those data types which can be changed after declaration whereas non-mutuable data-types cannot be changed after once they are declared or thier value is being set\n",
    "# e.g of mutuable - lists,int, etc.\n",
    "#e.g of imutable - tuple,string, etc."
   ]
  },
  {
   "cell_type": "code",
   "execution_count": null,
   "id": "c8acf05d-32cd-4fc0-b04c-0bfbdfc06084",
   "metadata": {},
   "outputs": [],
   "source": []
  }
 ],
 "metadata": {
  "kernelspec": {
   "display_name": "Python 3 (ipykernel)",
   "language": "python",
   "name": "python3"
  },
  "language_info": {
   "codemirror_mode": {
    "name": "ipython",
    "version": 3
   },
   "file_extension": ".py",
   "mimetype": "text/x-python",
   "name": "python",
   "nbconvert_exporter": "python",
   "pygments_lexer": "ipython3",
   "version": "3.10.8"
  }
 },
 "nbformat": 4,
 "nbformat_minor": 5
}
