{
 "cells": [
  {
   "cell_type": "markdown",
   "id": "b4ed478d-ebbc-4239-82cd-451953373ba6",
   "metadata": {
    "jp-MarkdownHeadingCollapsed": true,
    "tags": []
   },
   "source": [
    "##### Question 1"
   ]
  },
  {
   "cell_type": "code",
   "execution_count": 1,
   "id": "af158cf8-2459-4c55-8d68-c662369b7f1e",
   "metadata": {},
   "outputs": [],
   "source": [
    "'''Abstraction - It is a process in which unnecessary information is hidden from the user.'''\n",
    "\n",
    "#we will create a abstract class\n",
    "\n",
    "import abc\n",
    "\n",
    "class details:\n",
    "    @abc.abstractmethod\n",
    "    def stu_details(self):\n",
    "        pass\n",
    "    @abc.abstractmethod\n",
    "    def marks(self):\n",
    "        pass"
   ]
  },
  {
   "cell_type": "code",
   "execution_count": 2,
   "id": "10e3ae9d-3da3-4538-b906-655c627ac250",
   "metadata": {},
   "outputs": [],
   "source": [
    "# now inherit the above class\n",
    "\n",
    "class child(details):\n",
    "    def stu_details(self):\n",
    "        return \"method inherited from the abstract class\"\n",
    "    \n",
    "    def marks(self):\n",
    "        return \"Method inherited from the abstract class\""
   ]
  },
  {
   "cell_type": "code",
   "execution_count": 3,
   "id": "6f151968-8f0e-4b10-a5ce-f02954d904a8",
   "metadata": {},
   "outputs": [],
   "source": [
    "c = child()"
   ]
  },
  {
   "cell_type": "code",
   "execution_count": 4,
   "id": "399ce81f-88d4-4298-9c52-05fccc7a2aec",
   "metadata": {},
   "outputs": [
    {
     "data": {
      "text/plain": [
       "'Method inherited from the abstract class'"
      ]
     },
     "execution_count": 4,
     "metadata": {},
     "output_type": "execute_result"
    }
   ],
   "source": [
    "c.marks()"
   ]
  },
  {
   "cell_type": "markdown",
   "id": "02a56e98-295b-44f3-834f-28e9ee7d76df",
   "metadata": {
    "jp-MarkdownHeadingCollapsed": true,
    "tags": []
   },
   "source": [
    "##### Question 2"
   ]
  },
  {
   "cell_type": "code",
   "execution_count": 5,
   "id": "feb0ba32-929d-4ccd-a608-6299cfda07b4",
   "metadata": {},
   "outputs": [],
   "source": [
    "''' Abstraction is the method to hide the unwanted data from the user whereas in encapsulation data is hide in the single entity.'''\n",
    "\n",
    "# Example \n",
    "import abc\n",
    "class demo:\n",
    "    def __init__(self , var):\n",
    "        self.__var = var #this is the example of encapsulation. This variable cannot be accessed outside the class.\n",
    "\n",
    "    # This is the abstract method.  \n",
    "    abc.abstractmethod\n",
    "    def details(self):\n",
    "        pass\n",
    "    "
   ]
  },
  {
   "cell_type": "markdown",
   "id": "81ea85a5-0f27-42a7-b3c1-d2b663d6cffa",
   "metadata": {
    "jp-MarkdownHeadingCollapsed": true,
    "tags": []
   },
   "source": [
    "##### Question 3"
   ]
  },
  {
   "cell_type": "code",
   "execution_count": 6,
   "id": "b9fd4790-90cd-416c-ab5d-a34d2336a36f",
   "metadata": {},
   "outputs": [],
   "source": [
    "''' The 'abc' module in the Python library provides the infrastructure for defining custom abstract base classes.\n",
    "    It is used to crate the abstract classes or methods'''\n",
    "# Example \n",
    "import abc\n",
    "class demo :\n",
    "    abc.abstractmethod\n",
    "    def display(self):\n",
    "        return \"This is the abstract method\""
   ]
  },
  {
   "cell_type": "markdown",
   "id": "76e493e5-8071-41f6-a28a-59190e54b058",
   "metadata": {
    "jp-MarkdownHeadingCollapsed": true,
    "tags": []
   },
   "source": [
    "##### Question 4"
   ]
  },
  {
   "cell_type": "code",
   "execution_count": 1,
   "id": "077b1b97-e065-46ae-871d-ca936a6e0263",
   "metadata": {},
   "outputs": [],
   "source": [
    "'''Abstraction can be achieved by creating abstract classes which then be inherited later. '''\n",
    "\n",
    "# Example\n",
    "import abc \n",
    "class demo:\n",
    "    @abc.abstractmethod\n",
    "    def d(self):\n",
    "        pass\n",
    "    "
   ]
  },
  {
   "cell_type": "markdown",
   "id": "6a689be1-a37a-4248-bdb0-f4300cb1cd31",
   "metadata": {
    "jp-MarkdownHeadingCollapsed": true,
    "tags": []
   },
   "source": [
    "##### Question 5"
   ]
  },
  {
   "cell_type": "code",
   "execution_count": 2,
   "id": "1db3fee2-65d4-40e1-9d22-54b8a7a0be6e",
   "metadata": {},
   "outputs": [
    {
     "data": {
      "text/plain": [
       "' No we cannot create an instance of an abstract class because the abstract class has the incomplete methods. \\nAbstract class acts as a base class to the inherited class.'"
      ]
     },
     "execution_count": 2,
     "metadata": {},
     "output_type": "execute_result"
    }
   ],
   "source": [
    "''' No we cannot create an instance of an abstract class because the abstract class has the incomplete methods. \n",
    "Abstract class acts as a base class to the inherited class.''' "
   ]
  },
  {
   "cell_type": "code",
   "execution_count": null,
   "id": "37e4c4e8-7c73-49e6-8aee-4c04cdc9ab39",
   "metadata": {},
   "outputs": [],
   "source": []
  }
 ],
 "metadata": {
  "kernelspec": {
   "display_name": "Python 3 (ipykernel)",
   "language": "python",
   "name": "python3"
  },
  "language_info": {
   "codemirror_mode": {
    "name": "ipython",
    "version": 3
   },
   "file_extension": ".py",
   "mimetype": "text/x-python",
   "name": "python",
   "nbconvert_exporter": "python",
   "pygments_lexer": "ipython3",
   "version": "3.10.8"
  }
 },
 "nbformat": 4,
 "nbformat_minor": 5
}
