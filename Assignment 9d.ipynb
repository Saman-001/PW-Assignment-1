{
 "cells": [
  {
   "cell_type": "markdown",
   "id": "d05e03f8-7c60-4a72-9627-0948d8067c02",
   "metadata": {
    "tags": []
   },
   "source": [
    "##### Question 1"
   ]
  },
  {
   "cell_type": "markdown",
   "id": "45cc2790-9e32-40e6-bc46-228d41db41e3",
   "metadata": {
    "tags": []
   },
   "source": [
    "Flask is a lightweight web framework for Python. It is designed to be simple and easy to use, allowing developers to build web applications quickly and with minimal boilerplate code.\n",
    "\n",
    "# Advantages of flask\n",
    "- Easy to understand and use.\n",
    "- Allows developers to choose tools based on preferences.\n",
    "- Easily add extensions for added functionality.\n",
    "- Enables dynamic generation of HTML content.\n",
    "- Built on a solid foundation for handling HTTP requests.\n",
    "- Active community support and extensive documentation.\n",
    "- Suitable for small to medium-sized applications.\n",
    "- Low learning curve, good for beginners and rapid development."
   ]
  },
  {
   "cell_type": "markdown",
   "id": "645f0b26-1ee1-4f3e-bc66-65299da15406",
   "metadata": {},
   "source": [
    "##### Question 2"
   ]
  },
  {
   "cell_type": "markdown",
   "id": "6eba6d39-112b-43a8-b598-bd7a2a1117d5",
   "metadata": {},
   "source": [
    "##### Question 3"
   ]
  },
  {
   "cell_type": "markdown",
   "id": "bf7fabbe-6987-42c2-93fe-17cea239a010",
   "metadata": {},
   "source": [
    "App routing in Flask refers to the process of defining URL patterns (routes) in your web application and associating them with specific functions (view functions) that should be executed when a user accesses those URLs.\n",
    "\n",
    "uses of app routes:-\n",
    "\n",
    "- Define a clear and organized URL structure.\n",
    "- Encourage modularity by associating functionality with routes.\n",
    "- Specify how different types of requests to different URLs should be handled.\n",
    "- Improve code readability by grouping related functionality under specific routes.\n",
    "- Promote the separation of concerns by assigning tasks to different view functions.\n",
    "- Facilitate easy maintenance and updates.\n",
    "- Provide meaningful names to endpoints for clarity.\n",
    "- Essential for defining API endpoints and associated actions in RESTful APIs."
   ]
  },
  {
   "cell_type": "markdown",
   "id": "3d810fd8-c948-4886-8c1f-da049107dc56",
   "metadata": {},
   "source": [
    "##### Question 4"
   ]
  },
  {
   "cell_type": "markdown",
   "id": "c77420ef-52f0-49b1-a76d-7f547cc72f36",
   "metadata": {},
   "source": [
    "##### Question 5"
   ]
  },
  {
   "cell_type": "markdown",
   "id": "5e34a4df-2efa-4578-abee-06e3bfe5fec2",
   "metadata": {},
   "source": [
    "The url_for() function is used in Flask for URL building. It generates a URL for the specified endpoint and can include values for any parameters defined in the route.\n",
    "\n",
    "\n",
    "# Python code for function url_for()\n",
    "\n",
    "from flask import Flask, url_for\n",
    "\n",
    "app = Flask(__name__)\n",
    "\n",
    "@app.route('/user/<username>')\n",
    "def profile(username):\n",
    "    return f'Hello, {username}!'\n",
    "\n",
    "if __name__ == '__main__':\n",
    "    with app.test_request_context():\n",
    "        # Example usage of url_for() to build URLs\n",
    "        print(\"URL for home():\", url_for('home'))\n",
    "        print(\"URL for profile(username='john'):\", url_for('profile', username='john'))\n",
    "        print(\"URL for show_post(post_id=123):\", url_for('show_post', post_id=123))\n",
    "\n",
    "if __name__==\"__main__\":\n",
    "    app.run(host=\"0.0.0.0\")\n"
   ]
  },
  {
   "cell_type": "code",
   "execution_count": null,
   "id": "5ee9a793-30f8-4a48-a7ac-ede93abeaaa0",
   "metadata": {},
   "outputs": [],
   "source": []
  }
 ],
 "metadata": {
  "kernelspec": {
   "display_name": "Python 3 (ipykernel)",
   "language": "python",
   "name": "python3"
  },
  "language_info": {
   "codemirror_mode": {
    "name": "ipython",
    "version": 3
   },
   "file_extension": ".py",
   "mimetype": "text/x-python",
   "name": "python",
   "nbconvert_exporter": "python",
   "pygments_lexer": "ipython3",
   "version": "3.10.8"
  }
 },
 "nbformat": 4,
 "nbformat_minor": 5
}
