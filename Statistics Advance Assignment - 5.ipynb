{
 "cells": [
  {
   "cell_type": "markdown",
   "id": "0b547ace-4e5d-41ce-8489-9a312ea6b393",
   "metadata": {},
   "source": [
    "###  Question 1"
   ]
  },
  {
   "cell_type": "code",
   "execution_count": 2,
   "id": "98aa8ed6-cccd-4899-ab37-06b2dee93afb",
   "metadata": {},
   "outputs": [
    {
     "data": {
      "text/plain": [
       "(48.210805856282846, 51.789194143717154)"
      ]
     },
     "execution_count": 2,
     "metadata": {},
     "output_type": "execute_result"
    }
   ],
   "source": [
    "\n",
    "\n",
    "import scipy.stats as stats\n",
    "import math\n",
    "\n",
    "# Given data\n",
    "sample_mean = 50\n",
    "sample_std_dev = 5\n",
    "sample_size = 30\n",
    "confidence_level = 0.95\n",
    "\n",
    "# Calculate the z-score for 95% confidence level\n",
    "z_score = stats.norm.ppf((1 + confidence_level) / 2)\n",
    "\n",
    "# Calculate the margin of error\n",
    "margin_of_error = z_score * (sample_std_dev / math.sqrt(sample_size))\n",
    "\n",
    "# Calculate the confidence interval\n",
    "confidence_interval = (sample_mean - margin_of_error, sample_mean + margin_of_error)\n",
    "confidence_interval\n"
   ]
  },
  {
   "cell_type": "code",
   "execution_count": null,
   "id": "b06c7540-e95f-4e89-b5d7-a8bb13ce8320",
   "metadata": {},
   "outputs": [],
   "source": []
  },
  {
   "cell_type": "markdown",
   "id": "7d448a5f-3acf-4821-b82a-28d2e6e56caa",
   "metadata": {},
   "source": [
    "Interpretation:\n",
    "This means that we are 95% confident that the true population mean lies within the interval from 48.21 to 51.79. In other words, if we were to take many samples and compute the confidence interval for each sample, 95% of those intervals would contain the true population mean."
   ]
  },
  {
   "cell_type": "markdown",
   "id": "2414740f-65fb-4a93-ae58-6c508dec081f",
   "metadata": {},
   "source": [
    "### Question 2\n",
    "\n"
   ]
  },
  {
   "cell_type": "code",
   "execution_count": 3,
   "id": "bdab9079-fcf4-493c-a7af-4be7e8743aca",
   "metadata": {},
   "outputs": [],
   "source": [
    "o_freq = [25,20,15,10,10,20]\n",
    "\n",
    "total_mms = sum(o_freq)\n",
    "e_freq = [\n",
    "    0.20 *total_mms,\n",
    "    0.20 * total_mms,  # Orange\n",
    "    0.20 * total_mms,  # Green\n",
    "    0.10 * total_mms,  # Yellow\n",
    "    0.10 * total_mms,  # Red\n",
    "    0.20 * total_mms   # Brown\n",
    "]\n",
    "\n",
    "chi_stat,pvalue = stats.chisquare(f_obs=o_freq,f_exp=e_freq)"
   ]
  },
  {
   "cell_type": "code",
   "execution_count": 4,
   "id": "f11410eb-911a-45ac-b715-6f04a09bd295",
   "metadata": {},
   "outputs": [
    {
     "data": {
      "text/plain": [
       "(2.5, 0.7764950711233227)"
      ]
     },
     "execution_count": 4,
     "metadata": {},
     "output_type": "execute_result"
    }
   ],
   "source": [
    "chi_stat,pvalue"
   ]
  },
  {
   "cell_type": "code",
   "execution_count": 5,
   "id": "8d52ef6e-833f-41f2-b7cf-90a88aa18b2e",
   "metadata": {},
   "outputs": [],
   "source": [
    "# We will find critical value \n",
    "significance_value = 0.05\n",
    "dof = len(o_freq)-1\n",
    "critical_value = stats.chi2.ppf(1-significance_value,dof)"
   ]
  },
  {
   "cell_type": "code",
   "execution_count": 6,
   "id": "c262bf2d-0f2d-4303-a8f0-33ea87790d4d",
   "metadata": {},
   "outputs": [
    {
     "name": "stdout",
     "output_type": "stream",
     "text": [
      "Null hypothesis is accepted\n"
     ]
    }
   ],
   "source": [
    "if critical_value > chi_stat:\n",
    "    print(\"Null hypothesis is accepted\")\n",
    "else:\n",
    "    print(\"Null hypotheisi is rejected\")"
   ]
  },
  {
   "cell_type": "markdown",
   "id": "5838517c-24bb-4946-b2c0-bc045af0f333",
   "metadata": {},
   "source": [
    "### Question 3"
   ]
  },
  {
   "cell_type": "code",
   "execution_count": 7,
   "id": "0bb31847-c814-4930-863e-2f0a7cd23b63",
   "metadata": {},
   "outputs": [],
   "source": [
    "import numpy as np \n"
   ]
  },
  {
   "cell_type": "code",
   "execution_count": 8,
   "id": "f8499b2c-7b9a-4198-b788-cd8c940697c0",
   "metadata": {},
   "outputs": [],
   "source": [
    "data = np.array([[20,15],\n",
    "                [10,25],\n",
    "                [15,20]])\n",
    "\n",
    "chi_stat,pvalue,dof,expected = stats.chi2_contingency(data)"
   ]
  },
  {
   "cell_type": "code",
   "execution_count": 9,
   "id": "05e7cdac-da63-474c-9378-c09a2d87995b",
   "metadata": {},
   "outputs": [
    {
     "data": {
      "text/plain": [
       "(5.833333333333334,\n",
       " 0.05411376622282158,\n",
       " 2,\n",
       " array([[15., 20.],\n",
       "        [15., 20.],\n",
       "        [15., 20.]]))"
      ]
     },
     "execution_count": 9,
     "metadata": {},
     "output_type": "execute_result"
    }
   ],
   "source": [
    "chi_stat,pvalue,dof,expected"
   ]
  },
  {
   "cell_type": "markdown",
   "id": "903da887-7dcc-494d-be71-18ba186b9e12",
   "metadata": {},
   "source": [
    "With a significance level of 0.05, we compare the p-value to this threshold:\n",
    "    The p-value (0.054) is slightly greater than 0.05.\n",
    "\n",
    "This means we fail to reject the null hypothesis. There is not enough evidence to conclude that there is a significant association between the groups (Group A and Group B) and the outcomes. Thus, the distribution of outcomes between the two groups is not significantly different at the 0.05 significance level."
   ]
  },
  {
   "cell_type": "markdown",
   "id": "e0ec86c5-8ef8-44ed-8912-278956cbc05f",
   "metadata": {},
   "source": [
    "### Question 4"
   ]
  },
  {
   "cell_type": "code",
   "execution_count": 6,
   "id": "238d13d5-89f1-4917-bad2-20e837f3bff2",
   "metadata": {},
   "outputs": [],
   "source": [
    "n = 500 # Total number of people\n",
    "x= 60 # Smokers\n",
    "\n",
    "p_hat = x/n\n"
   ]
  },
  {
   "cell_type": "code",
   "execution_count": 7,
   "id": "0dfa82e5-88ee-4720-b2b2-f2a609e04633",
   "metadata": {},
   "outputs": [],
   "source": [
    "# z value at 95% confidence interval\n",
    "z= 1.96\n",
    "\n",
    "# calculating standard Error\n",
    "se = math.sqrt((p_hat * (1-p_hat))/n)"
   ]
  },
  {
   "cell_type": "code",
   "execution_count": 8,
   "id": "7b850fb8-d4e3-48aa-b5ed-9cde1c4da7dc",
   "metadata": {},
   "outputs": [],
   "source": [
    "#calculating margin error\n",
    "me = z*se"
   ]
  },
  {
   "cell_type": "code",
   "execution_count": 9,
   "id": "4a04a922-8bc7-49d2-85a1-a2e488a2b505",
   "metadata": {},
   "outputs": [],
   "source": [
    "CI_lower = p_hat - me\n",
    "CI_upper = p_hat + me"
   ]
  },
  {
   "cell_type": "code",
   "execution_count": 10,
   "id": "f7bec557-62bb-47d8-a863-ecf573589992",
   "metadata": {},
   "outputs": [
    {
     "data": {
      "text/plain": [
       "(0.09151586546865079, 0.1484841345313492)"
      ]
     },
     "execution_count": 10,
     "metadata": {},
     "output_type": "execute_result"
    }
   ],
   "source": [
    "CI_lower , CI_upper"
   ]
  },
  {
   "cell_type": "markdown",
   "id": "1b8c1ec2-0e50-4301-9474-ce6fed5c1e2b",
   "metadata": {},
   "source": [
    "The 95% confidence interval for the true proportion of individuals in the population who smoke is approximately(0.0922,0.1478)(0.0922,0.1478). This means that we are 95% confident that the true proportion of smokers in the entire population falls within this range."
   ]
  },
  {
   "cell_type": "markdown",
   "id": "1710c6ba-54dd-41b8-b2e9-c8dd43c8e86a",
   "metadata": {},
   "source": [
    "### Question 5"
   ]
  },
  {
   "cell_type": "code",
   "execution_count": 11,
   "id": "d7705506-c1e3-4c20-938a-b1ee348e29c0",
   "metadata": {},
   "outputs": [],
   "source": [
    "mean = 75\n",
    "std = 12\n",
    "n= 100\n",
    "\n",
    "z = 1.645\n",
    "\n",
    "SE = std/math.sqrt(n)\n"
   ]
  },
  {
   "cell_type": "code",
   "execution_count": 12,
   "id": "50bb172c-fc8c-45d9-a8e4-8cc839f755ea",
   "metadata": {},
   "outputs": [],
   "source": [
    "ME = z*SE\n"
   ]
  },
  {
   "cell_type": "code",
   "execution_count": 13,
   "id": "6214af7e-048e-4607-adad-5951452fe206",
   "metadata": {},
   "outputs": [],
   "source": [
    "ci_lower = mean - ME\n",
    "ci_upper = mean + ME\n"
   ]
  },
  {
   "cell_type": "code",
   "execution_count": 14,
   "id": "5ba75f45-5043-4693-a279-f25278c8d85d",
   "metadata": {},
   "outputs": [
    {
     "data": {
      "text/plain": [
       "(73.026, 76.974)"
      ]
     },
     "execution_count": 14,
     "metadata": {},
     "output_type": "execute_result"
    }
   ],
   "source": [
    "ci_lower,ci_upper"
   ]
  },
  {
   "cell_type": "markdown",
   "id": "9c92bfae-c1a5-4e14-8a02-03641f87f614",
   "metadata": {},
   "source": [
    "### Question 6"
   ]
  },
  {
   "cell_type": "code",
   "execution_count": 20,
   "id": "88e75f6c-5b17-4392-989a-139f0464904d",
   "metadata": {},
   "outputs": [
    {
     "data": {
      "image/png": "[encoded data removed]",
      "text/plain": [
       "<Figure size 1000x600 with 1 Axes>"
      ]
     },
     "metadata": {},
     "output_type": "display_data"
    }
   ],
   "source": [
    "import numpy as np\n",
    "import matplotlib.pyplot as plt\n",
    "from scipy.stats import chi2\n",
    "\n",
    "\n",
    "df = 10 \n",
    "\n",
    "chi2_stat = 15\n",
    "\n",
    "x = np.linspace(0,30,1000) # x co-ordinates\n",
    "y= chi2.pdf(x,df) # y co-ordinates\n",
    "\n",
    "plt.figure(figsize=(10, 6))\n",
    "plt.plot(x, y, label=f'Chi-square distribution (df={df})')\n",
    "plt.fill_between(x, 0, y, where=(x <= chi2_stat), color='skyblue', alpha=0.5, label=f'P(X ≤ {chi2_stat})')\n",
    "\n",
    "# Adding labels and title\n",
    "plt.title('Chi-square Distribution with 10 Degrees of Freedom')\n",
    "plt.xlabel('Chi-square statistic')\n",
    "plt.ylabel('Probability density')\n",
    "plt.legend()\n",
    "\n",
    "# Display the plot\n",
    "plt.grid(True)\n",
    "plt.show()"
   ]
  },
  {
   "cell_type": "markdown",
   "id": "aa7571e0-2d6d-4b35-b8a0-9aa60a7f934c",
   "metadata": {
    "tags": []
   },
   "source": [
    "### Question 7"
   ]
  },
  {
   "cell_type": "code",
   "execution_count": 21,
   "id": "c3655692-6bf5-4ce3-b6f0-d646e0e3777b",
   "metadata": {},
   "outputs": [],
   "source": [
    "n = 1000\n",
    "x = 520\n",
    "\n",
    "p_hat = x/n"
   ]
  },
  {
   "cell_type": "code",
   "execution_count": 22,
   "id": "f302b3ba-db44-4126-85c0-a7d1bc04bc3b",
   "metadata": {},
   "outputs": [],
   "source": [
    "z = 2.576 # at 99% CI"
   ]
  },
  {
   "cell_type": "code",
   "execution_count": 23,
   "id": "2e72aa80-feec-4877-a317-445fed7af072",
   "metadata": {},
   "outputs": [],
   "source": [
    "se = math.sqrt((p_hat * (1-p_hat))/n)"
   ]
  },
  {
   "cell_type": "code",
   "execution_count": 24,
   "id": "da6c4b60-622d-4abe-a97e-4df2753a447a",
   "metadata": {},
   "outputs": [],
   "source": [
    "me = z*se"
   ]
  },
  {
   "cell_type": "code",
   "execution_count": 25,
   "id": "ca8d09c2-d18a-47dc-bbe0-e8d4c5d29a24",
   "metadata": {},
   "outputs": [],
   "source": [
    "ci_lower = p_hat - me\n",
    "ci_upper = p_hat +me"
   ]
  },
  {
   "cell_type": "code",
   "execution_count": 26,
   "id": "f28643a6-9cad-4dd3-9cb0-d3a066d922e2",
   "metadata": {},
   "outputs": [
    {
     "data": {
      "text/plain": [
       "(0.47930246089012263, 0.5606975391098774)"
      ]
     },
     "execution_count": 26,
     "metadata": {},
     "output_type": "execute_result"
    }
   ],
   "source": [
    "ci_lower,ci_upper"
   ]
  },
  {
   "cell_type": "markdown",
   "id": "beef8d01-9751-4b2c-ac0c-15d08ad1f61f",
   "metadata": {},
   "source": [
    "### Question 8\n",
    "\n",
    "Null hypothesis (𝐻0): The coin is fair, so the probability of getting tails is 0.5.\n",
    "\n",
    "\n",
    "Alternative hypothesis (𝐻𝑎): The coin is biased towards tails."
   ]
  },
  {
   "cell_type": "code",
   "execution_count": 27,
   "id": "9feaef8e-5d25-43e8-883b-0633cd748479",
   "metadata": {},
   "outputs": [],
   "source": [
    "from scipy.stats import chi2"
   ]
  },
  {
   "cell_type": "code",
   "execution_count": 28,
   "id": "6c514c18-5e66-4687-ad58-ce3181ebcb99",
   "metadata": {},
   "outputs": [],
   "source": [
    "o_tails = 45\n",
    "o_head = 100 - o_tails\n",
    "\n",
    "# Expected frequencies\n",
    "e_tails = 50\n",
    "e_heads = 50\n",
    "\n",
    "# Calculate the chi-square stat:\n",
    "\n",
    "chi_sq = ((o_tails - e_tails)**2 /e_tails) + ((o_head - e_heads)**2 / e_heads)\n",
    "\n",
    "df =1\n",
    "\n",
    "# calculate the critical value\n",
    "alpha = 0.05\n",
    "critical_value = chi2.ppf(1-alpha,df)\n"
   ]
  },
  {
   "cell_type": "code",
   "execution_count": 29,
   "id": "cd74462a-7d00-4c4f-bd30-dfdcc8ef7083",
   "metadata": {},
   "outputs": [
    {
     "data": {
      "text/plain": [
       "(1.0, 3.841458820694124)"
      ]
     },
     "execution_count": 29,
     "metadata": {},
     "output_type": "execute_result"
    }
   ],
   "source": [
    "chi_sq,critical_value"
   ]
  },
  {
   "cell_type": "code",
   "execution_count": 30,
   "id": "21af4269-fcec-40a5-8ebc-9802efc92cb3",
   "metadata": {},
   "outputs": [
    {
     "name": "stdout",
     "output_type": "stream",
     "text": [
      "Fail to reject null hypothesis: The coin is fair.\n"
     ]
    }
   ],
   "source": [
    "if chi_sq > critical_value:\n",
    "    print(\"Reject null hypothesis: The coin is biased.\")\n",
    "else:\n",
    "    print(\"Fail to reject null hypothesis: The coin is fair.\")"
   ]
  },
  {
   "cell_type": "markdown",
   "id": "8c9cf1c5-9e48-4716-af1d-835cd453f06c",
   "metadata": {},
   "source": [
    "### Question 9\n",
    "\n",
    "Null hypothesis (𝐻0): There is no association between smoking status and lung cancer diagnosis (they are independent).\n",
    "Alternative hypothesis (𝐻1): There is an association between smoking status and lung cancer diagnosis (they are not independent)."
   ]
  },
  {
   "cell_type": "code",
   "execution_count": 31,
   "id": "52f97c7d-0246-4f6c-aedb-2b01871de9fc",
   "metadata": {},
   "outputs": [],
   "source": [
    "observed = np.array([[60,140],\n",
    "                    [30,170]])\n",
    "\n",
    "chi_stat,pvalue,dof,expected = stats.chi2_contingency(observed)"
   ]
  },
  {
   "cell_type": "code",
   "execution_count": 32,
   "id": "7c0bd7bd-aef0-4a18-a663-0f64e18da252",
   "metadata": {},
   "outputs": [
    {
     "data": {
      "text/plain": [
       "(12.057347670250895, 0.0005158863863703744)"
      ]
     },
     "execution_count": 32,
     "metadata": {},
     "output_type": "execute_result"
    }
   ],
   "source": [
    "chi_stat,pvalue"
   ]
  },
  {
   "cell_type": "markdown",
   "id": "556c4b42-dcdc-47dc-aa85-7fe409b1c649",
   "metadata": {},
   "source": [
    "Since the p-value (0.000516) is less than the significance level of 0.05, we reject the null hypothesis. This indicates that there is a significant association between smoking status and lung cancer diagnosis."
   ]
  },
  {
   "cell_type": "markdown",
   "id": "0bd24b13-fe17-4c17-8655-1c63057f9921",
   "metadata": {},
   "source": [
    "### Question 10\n",
    "\n",
    "Null hypothesis (𝐻0): There is no association between chocolate preference and country of origin (they are independent).\n",
    "Alternative hypothesis (𝐻1): There is an association between chocolate preference and country of origin (they are not independent)."
   ]
  },
  {
   "cell_type": "code",
   "execution_count": 33,
   "id": "9ed46313-92a9-47af-bc54-c85e83538d13",
   "metadata": {},
   "outputs": [],
   "source": [
    "data  = np.array([[200,150,150],\n",
    "                 [225,175,100]])\n",
    "\n",
    "chi_stat,pvalue,dof,expected = stats.chi2_contingency(data)"
   ]
  },
  {
   "cell_type": "code",
   "execution_count": 34,
   "id": "81172e15-f391-49aa-8d50-fc973fc9c1fa",
   "metadata": {},
   "outputs": [
    {
     "data": {
      "text/plain": [
       "(13.393665158371041, 0.0012348168997745918)"
      ]
     },
     "execution_count": 34,
     "metadata": {},
     "output_type": "execute_result"
    }
   ],
   "source": [
    "chi_stat,pvalue"
   ]
  },
  {
   "cell_type": "markdown",
   "id": "d07cb47d-927f-49fd-a834-ccc4e66b1f64",
   "metadata": {},
   "source": [
    "Since pvalue is less than the significance value i.e. 0.0012 < 0.01, we will reject the null hypothesis and accept the alternate hypothesis.\n",
    "\n",
    "Therefore, there is an association between chocolate preference and country of origin (they are not independent)."
   ]
  },
  {
   "cell_type": "markdown",
   "id": "b20a94ce-cd38-4ad3-8c55-4339804ad49d",
   "metadata": {},
   "source": [
    "### Question 11\n",
    "\n",
    "Null Hypothesis (H0): The population mean is equal to 70.\n",
    "\n",
    "Alternative Hypothesis (H1): The population mean is not equal to 70."
   ]
  },
  {
   "cell_type": "code",
   "execution_count": 38,
   "id": "19201f97-97d3-46cc-be5e-f7667de3a4dd",
   "metadata": {},
   "outputs": [],
   "source": [
    "from scipy.stats import t\n",
    "s_mean = 72\n",
    "p_mean = 70\n",
    "s_std = 10\n",
    "s_size = 30"
   ]
  },
  {
   "cell_type": "code",
   "execution_count": 39,
   "id": "0111b408-ef42-4bd8-b7be-ac000b9cf314",
   "metadata": {},
   "outputs": [],
   "source": [
    "t_stat = ((s_mean - p_mean)/(s_std/math.sqrt(s_size)))"
   ]
  },
  {
   "cell_type": "code",
   "execution_count": 40,
   "id": "e56e9d6f-1b06-4f56-8237-7df4012d9376",
   "metadata": {},
   "outputs": [],
   "source": [
    "df = s_size-1\n"
   ]
  },
  {
   "cell_type": "code",
   "execution_count": 41,
   "id": "e724386e-ee3b-43a9-8826-0a618c903161",
   "metadata": {},
   "outputs": [],
   "source": [
    "#calculate the critical value\n",
    "alpha = 0.05\n",
    "critical_value = t.ppf(1-alpha,df)"
   ]
  },
  {
   "cell_type": "code",
   "execution_count": 45,
   "id": "33478642-fc8c-4bae-8853-edc50443fed4",
   "metadata": {},
   "outputs": [
    {
     "name": "stdout",
     "output_type": "stream",
     "text": [
      "Accept the null hypothesis\n"
     ]
    }
   ],
   "source": [
    "if np.abs( t_stat) > critical_value:\n",
    "    print(\"Reject the null hypothesis\")\n",
    "else:\n",
    "    print(\"Accept the null hypothesis\")"
   ]
  },
  {
   "cell_type": "code",
   "execution_count": null,
   "id": "6de0ee85-11ae-4b69-a304-d7636a03863c",
   "metadata": {},
   "outputs": [],
   "source": []
  }
 ],
 "metadata": {
  "kernelspec": {
   "display_name": "Python 3 (ipykernel)",
   "language": "python",
   "name": "python3"
  },
  "language_info": {
   "codemirror_mode": {
    "name": "ipython",
    "version": 3
   },
   "file_extension": ".py",
   "mimetype": "text/x-python",
   "name": "python",
   "nbconvert_exporter": "python",
   "pygments_lexer": "ipython3",
   "version": "3.10.8"
  }
 },
 "nbformat": 4,
 "nbformat_minor": 5
}
