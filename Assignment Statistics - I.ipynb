{
 "cells": [
  {
   "cell_type": "markdown",
   "metadata": {},
   "source": [
    "### Question 1\n",
    "\n",
    "A probability density function (PDF) is a function that describes the likelihood of a continuous random variable taking on a specific value within a given range. The PDF represents the probability density rather than the probability itself. This means that the area under the curve of the PDF within a certain interval represents the probability that the random variable falls within that interval."
   ]
  },
  {
   "cell_type": "markdown",
   "metadata": {},
   "source": [
    "### Question 2\n",
    "\n",
    "There are different types of probability distributions :-\n",
    "1. Normal/Gaussian Distribution\n",
    "2. Bernoulli Distribution \n",
    "3. Uniform Distribution\n",
    "4. Poission Dsitribution\n",
    "5. Log Normal Distribution\n",
    "6. Binomial Distribution\n"
   ]
  },
  {
   "cell_type": "markdown",
   "metadata": {},
   "source": [
    "### Question 3\n",
    "\n",
    "\n"
   ]
  },
  {
   "cell_type": "code",
   "execution_count": 4,
   "metadata": {},
   "outputs": [
    {
     "data": {
      "text/plain": [
       "0.17603266338214976"
      ]
     },
     "execution_count": 4,
     "metadata": {},
     "output_type": "execute_result"
    }
   ],
   "source": [
    "from scipy.stats import norm\n",
    "def cal(x,mean,std):\n",
    "    pdf_value = norm.pdf(x,loc=mean , scale =std)\n",
    "    return pdf_value\n",
    "\n",
    "cal(1,0,2)\n"
   ]
  },
  {
   "cell_type": "markdown",
   "metadata": {},
   "source": [
    "### Question 4\n",
    "\n",
    "Properties of binomial distribution are:-\n",
    "\n",
    "1. Fixed Number of Trials\n",
    "2. Independent trials\n",
    "3. Two possible outcomes\n",
    "4. Constant probability of success\n",
    "5. Discrete distribution\n",
    "\n",
    "e.g. -> Flipping of a coin, Medical Trials etc."
   ]
  },
  {
   "cell_type": "markdown",
   "metadata": {},
   "source": [
    "### Question 5"
   ]
  },
  {
   "cell_type": "code",
   "execution_count": 7,
   "metadata": {},
   "outputs": [
    {
     "data": {
      "image/png": "[encoded data removed]",
      "text/plain": [
       "<Figure size 640x480 with 1 Axes>"
      ]
     },
     "metadata": {},
     "output_type": "display_data"
    }
   ],
   "source": [
    "import numpy as np\n",
    "import matplotlib.pyplot as plt\n",
    "\n",
    "# Parameters\n",
    "n = 1000  # Sample size\n",
    "p = 0.4   # Probability of success\n",
    "\n",
    "# Generate random sample from binomial distribution\n",
    "sample = np.random.binomial(n=1, p=p, size=n)\n",
    "\n",
    "# Plot histogram\n",
    "plt.hist(sample, bins=2, edgecolor='black')\n",
    "plt.title('Histogram of Binomial Distribution')\n",
    "plt.xlabel('Outcome (0: Failure, 1: Success)')\n",
    "plt.ylabel('Frequency')\n",
    "plt.xticks([0, 1])\n",
    "plt.show()\n"
   ]
  },
  {
   "cell_type": "markdown",
   "metadata": {},
   "source": [
    "### Question 6"
   ]
  },
  {
   "cell_type": "code",
   "execution_count": 8,
   "metadata": {},
   "outputs": [
    {
     "data": {
      "text/plain": [
       "0.42319008112684364"
      ]
     },
     "execution_count": 8,
     "metadata": {},
     "output_type": "execute_result"
    }
   ],
   "source": [
    "from scipy.stats import poisson\n",
    "\n",
    "def poission_cdf(x,mean):\n",
    "    cdf_value = poisson.cdf(x,mean)\n",
    "    return cdf_value\n",
    "\n",
    "poission_cdf(2,3)"
   ]
  },
  {
   "cell_type": "markdown",
   "metadata": {},
   "source": [
    "### Question 7\n",
    "\n",
    "1. The binomial distribution models the number of successes in a fixed number of trials with binary outcomes, while the Poisson distribution describes the number of rare events occurring in a fixed interval with a constant rate.\n",
    "2. Binomial distribution requires a fixed number of trials and a probability of success, while Poisson distribution assumes events occur independently and at a constant rate.\n",
    "3. Binomial distribution becomes symmetric with increasing trials, resembling a normal distribution, while Poisson distribution is skewed to the right with a longer tail.\n",
    "4. Binomial distribution is suited for fixed trials, while Poisson distribution models rare events in fixed intervals."
   ]
  },
  {
   "cell_type": "markdown",
   "metadata": {},
   "source": [
    "### Question 8"
   ]
  },
  {
   "cell_type": "code",
   "execution_count": 9,
   "metadata": {},
   "outputs": [
    {
     "name": "stdout",
     "output_type": "stream",
     "text": [
      "5.014   5.333804\n"
     ]
    }
   ],
   "source": [
    "import numpy as np\n",
    "\n",
    "n = 1000\n",
    "mean =5\n",
    "\n",
    "sample  = np.random.poisson(mean,size=n)\n",
    "\n",
    "sample_mean = np.mean(sample)\n",
    "sample_variance = np.var(sample)\n",
    "\n",
    "print(sample_mean, \" \", sample_variance)"
   ]
  },
  {
   "cell_type": "markdown",
   "metadata": {},
   "source": [
    "### Question 9\n",
    "\n",
    "\n",
    "In the binomial distribution, the variance  increases with the number of trials and the probability of success. Meanwhile, in the Poisson distribution, the variance is equal to the mean and remains constant regardless of additional parameters. Thus, in the binomial distribution, variance depends on n and p,  while in the Poisson distribution, it is solely determined by the mean parameter lambda."
   ]
  },
  {
   "cell_type": "markdown",
   "metadata": {},
   "source": [
    "### Question 10\n",
    "\n",
    "\n",
    "In a normal distribution, the least frequent data appears at the extremes, farthest from the mean position. This is because the normal distribution is symmetric about its mean, with the highest frequency of data clustered around the mean and decreasing frequencies as you move away from the mean in both directions. Therefore, the least frequent data appears in the tails of the distribution, which are the regions furthest from the mean."
   ]
  }
 ],
 "metadata": {
  "kernelspec": {
   "display_name": "base",
   "language": "python",
   "name": "python3"
  },
  "language_info": {
   "codemirror_mode": {
    "name": "ipython",
    "version": 3
   },
   "file_extension": ".py",
   "mimetype": "text/x-python",
   "name": "python",
   "nbconvert_exporter": "python",
   "pygments_lexer": "ipython3",
   "version": "3.11.5"
  }
 },
 "nbformat": 4,
 "nbformat_minor": 2
}
