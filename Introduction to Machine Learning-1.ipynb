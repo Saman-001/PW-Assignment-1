{
 "cells": [
  {
   "cell_type": "markdown",
   "id": "5006d47e-4aa4-45cb-894c-72d3416da0a0",
   "metadata": {},
   "source": [
    "## Question 1\n",
    "\n",
    "1. Artificial Intelligence (AI)\n",
    "#### Definition:\n",
    "Artificial Intelligence is a broad field of computer science focused on creating systems capable of performing tasks that typically require human intelligence. These tasks include reasoning, learning, problem-solving, perception, language understanding, and more.\n",
    "\n",
    "#### Example:\n",
    "An AI example is a virtual assistant like Siri or Alexa. These assistants can understand and respond to voice commands, set reminders, play music, provide weather updates, and even control smart home devices. They utilize various AI techniques to process natural language and provide relevant responses.\n",
    "\n",
    "2. Machine Learning (ML)\n",
    "#### Definition:\n",
    "Machine Learning is a subset of AI that involves the development of algorithms that allow computers to learn from and make decisions based on data. Instead of being explicitly programmed to perform a task, ML systems are trained on large datasets to recognize patterns and make predictions or decisions.\n",
    "\n",
    "#### Example:\n",
    "An example of Machine Learning is a spam email filter. This system is trained on a dataset of emails labeled as \"spam\" or \"not spam.\" By analyzing the features of these emails, such as keywords, sender information, and frequency of certain phrases, the filter learns to identify and classify new incoming emails as either spam or not spam.\n",
    "\n",
    "3. Deep Learning (DL)\n",
    "#### Definition:\n",
    "Deep Learning is a subset of Machine Learning that uses neural networks with many layers (hence \"deep\") to model complex patterns in large datasets. Deep learning algorithms are particularly effective for tasks like image and speech recognition, where they can automatically learn hierarchical representations of data.\n",
    "\n",
    "#### Example:\n",
    "A common example of Deep Learning is image recognition in self-driving cars. Deep learning models, like convolutional neural networks (CNNs), are trained on thousands or millions of images labeled with information about what they contain (e.g., pedestrians, stop signs, other vehicles). The trained model can then accurately identify objects in new, unseen images captured by the car's cameras, allowing the vehicle to navigate safely."
   ]
  },
  {
   "cell_type": "markdown",
   "id": "cca3c1d4-b90b-4dd9-8b2c-edd236a391d3",
   "metadata": {},
   "source": [
    "## Question 2\n",
    "\n",
    "Supervised Learning is a type of machine learning where the model is trained on a labeled dataset, meaning each example has an input-output pair. The algorithm learns from these examples to predict the output for new data.\n",
    "\n",
    "#### Examples of Supervised Learning\n",
    "1. Classification:\n",
    "\n",
    "Email Spam Detection: Classify emails as \"spam\" or \"not spam.\"\n",
    "Image Recognition: Identify objects in images (e.g., cat, dog).\n",
    "Sentiment Analysis: Determine if text sentiment is positive, negative, or neutral.\n",
    "\n",
    "2. Regression:\n",
    "\n",
    "1. House Price Prediction: Predict house prices based on features like size and location.\n",
    "2. Stock Price Prediction: Predict future stock prices using historical data.\n",
    "3. Medical Diagnosis: Predict diseases based on patient data."
   ]
  },
  {
   "cell_type": "markdown",
   "id": "91dac00d-760d-4a78-8b1c-5b4f4b9b2328",
   "metadata": {},
   "source": [
    "## Question 3\n",
    "\n",
    "Unsupervised Learning is a type of machine learning where the model is trained on data that does not have labeled responses. The algorithm tries to learn the underlying structure or distribution in the data without explicit instructions on what to predict.\n",
    "\n",
    "#### Examples of Unsupervised Learning\n",
    "Clustering:\n",
    "\n",
    "1. Customer Segmentation: Group customers based on purchasing behavior for targeted marketing.\n",
    "2. Image Segmentation: Segment images into different regions based on color and texture patterns.\n",
    "3. Anomaly Detection: Identify unusual data points or outliers, such as fraud detection in financial transactions."
   ]
  },
  {
   "cell_type": "markdown",
   "id": "985c93b2-df9f-4d5e-8544-99dcca7ed04e",
   "metadata": {},
   "source": [
    "## Question 4\n",
    "\n",
    "#### Artificial Intelligence (AI)\n",
    "\n",
    "1. Broad Field: Encompasses any technique enabling computers to mimic human behavior and intelligence.\n",
    "2. Tasks: Involves reasoning, problem-solving, natural language understanding, and perception.\n",
    "3. Techniques: Includes rule-based systems, expert systems, robotics, and neural networks.\n",
    "\n",
    "#### Machine Learning (ML)\n",
    "1. Subset of AI: Focuses on creating algorithms that learn from data.\n",
    "2. Data-Driven: Identifies patterns and improves decision-making from large datasets.\n",
    "3. Techniques: Includes supervised learning, unsupervised learning, and reinforcement learning.\n",
    "\n",
    "#### Deep Learning (DL)\n",
    "1. Subset of ML: Uses neural networks with many layers to model complex patterns.\n",
    "2. High Complexity: Effective for tasks requiring large data and intricate pattern recognition, like image and speech recognition.\n",
    "3. Neural Networks: Leverages deep neural networks, such as convolutional and recurrent networks.\n",
    "\n",
    "#### Data Science (DS)\n",
    "1. Interdisciplinary Field: Combines statistics, data analysis, and machine learning to extract insights from data.\n",
    "2. Focus on Insights: Aims to understand data, derive insights, and inform decision-making through analysis and visualization.\n",
    "3. Tools and Techniques: Uses statistics, ML, computer science tools, and domain-specific knowledge."
   ]
  },
  {
   "cell_type": "markdown",
   "id": "030e2355-b809-4ee9-a591-eedd0b090158",
   "metadata": {},
   "source": [
    "## Question 5\n",
    "\n",
    "#### Supervised Learning\n",
    "1. Labeled Data: Uses a dataset with labeled examples, where each input is paired with the correct output.\n",
    "2. Goal: The model learns to map inputs to outputs accurately and predict the output for new, unseen data.\n",
    "3. Common Tasks: Includes classification (e.g., spam detection) and regression (e.g., house price prediction).\n",
    "\n",
    "#### Unsupervised Learning\n",
    "1. Unlabeled Data: Uses a dataset without any labels, meaning the data does not have predefined outputs.\n",
    "2. Goal: The model tries to find the underlying structure or patterns in the data.\n",
    "3. Common Tasks: Includes clustering (e.g., customer segmentation) and dimensionality reduction (e.g., PCA).\n",
    "\n",
    "#### Semi-Supervised Learning\n",
    "1. Combination of Labeled and Unlabeled Data: Uses a small amount of labeled data and a large amount of unlabeled data.\n",
    "2. Goal: The model leverages the labeled data to improve learning from the unlabeled data, often improving performance compared to using only labeled data.\n",
    "3. Common Tasks: Applies to both classification and regression tasks where labeling data is expensive or time-consuming (e.g., image recognition with few labeled images)."
   ]
  },
  {
   "cell_type": "markdown",
   "id": "243e6a5e-bf92-423c-b1a4-9c4dcc15cfe2",
   "metadata": {},
   "source": [
    "## Question 6\n",
    "\n",
    "#### Training Set\n",
    "1. Definition: Data used to train the model.\n",
    "2. Importance: Enables the model to learn patterns.\n",
    "\n",
    "#### Validation Set\n",
    "1. Definition: Data used to tune hyperparameters and evaluate the model during training.\n",
    "2. Importance: Helps prevent overfitting and select the best model configuration.\n",
    "\n",
    "#### Test Set\n",
    "1. Definition: Data used to evaluate the final model's performance.\n",
    "2. Importance: Provides an unbiased evaluation of the model on unseen data.\n",
    "\n",
    "#### Typical Split Ratios\n",
    "1. Training Set: 60-80%\n",
    "2. Validation Set: 10-20%\n",
    "3. Test Set: 10-20%"
   ]
  },
  {
   "cell_type": "markdown",
   "id": "1e7ea275-0371-4a6e-a370-7047b0f50f1d",
   "metadata": {},
   "source": [
    "## Question 7\n",
    "\n",
    "Unsupervised learning is effective in anomaly detection because it doesn't require labeled data. Here’s how it can be used:\n",
    "\n",
    "Clustering:\n",
    "\n",
    "1. Approach: Cluster the data into groups based on similarity.\n",
    "2. Anomaly Detection: Data points that do not fit well into any cluster or are in small, sparse clusters are considered anomalies.\n",
    "3. Algorithms: k-Means, DBSCAN, Hierarchical Clustering.\n"
   ]
  },
  {
   "cell_type": "markdown",
   "id": "eba370d6-0ba1-433b-b0e3-91f8ca80fdad",
   "metadata": {},
   "source": [
    "## Question 8\n",
    "\n",
    "#### Supervised Learning algorithm:\n",
    "1. Linear Regression: Predicts a continuous output based on input variables.\n",
    "2. Logistic Regression: Classifies data into discrete categories based on input features.\n",
    "3. Decision Trees: Builds a tree-like structure to make decisions based on input variables.\n",
    "4. Random Forest: Ensemble method using multiple decision trees to improve accuracy and prevent overfitting.\n",
    "5. Support Vector Machines (SVM): Finds the optimal hyperplane to separate data into classes.\n",
    "\n",
    "#### Unsupervised Learning Algorithms\n",
    "1. k-Means Clustering: Divides data into k clusters based on similarity.\n",
    "2. Hierarchical Clustering: Forms clusters in a tree-like hierarchical structure.\n",
    "3. Principal Component Analysis (PCA): Reduces the dimensionality of data while preserving variance.\n",
    "4. Gaussian Mixture Models (GMM): Models data points as a mixture of several Gaussian distributions.\n",
    "5. DBSCAN (Density-Based Spatial Clustering of Applications with Noise): Clusters data based on density and identifies outliers."
   ]
  },
  {
   "cell_type": "code",
   "execution_count": null,
   "id": "6f7b29b0-2afd-499c-9caa-7113fb87788d",
   "metadata": {},
   "outputs": [],
   "source": []
  }
 ],
 "metadata": {
  "kernelspec": {
   "display_name": "Python 3 (ipykernel)",
   "language": "python",
   "name": "python3"
  },
  "language_info": {
   "codemirror_mode": {
    "name": "ipython",
    "version": 3
   },
   "file_extension": ".py",
   "mimetype": "text/x-python",
   "name": "python",
   "nbconvert_exporter": "python",
   "pygments_lexer": "ipython3",
   "version": "3.10.8"
  }
 },
 "nbformat": 4,
 "nbformat_minor": 5
}
