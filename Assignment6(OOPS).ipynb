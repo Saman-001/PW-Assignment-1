{
 "cells": [
  {
   "cell_type": "markdown",
   "id": "d6cfabf2-d786-411a-9098-0b3b0d3cb6dc",
   "metadata": {},
   "source": [
    "##### Question 1"
   ]
  },
  {
   "cell_type": "code",
   "execution_count": 1,
   "id": "2b4bf13c-286f-479f-af2c-8463c2f4995a",
   "metadata": {},
   "outputs": [],
   "source": [
    "# Class - It is a blueprint of the object. The memory is allocated to the class only when the object is made\n",
    "# Object- It is the instance of a class and it helps to access the data members and member function of the class. It allocates memory to the class"
   ]
  },
  {
   "cell_type": "code",
   "execution_count": 17,
   "id": "3dadbd24-986f-42c4-b5d2-27afa4c05561",
   "metadata": {},
   "outputs": [],
   "source": [
    "# EXAMPLE \n",
    "\n",
    "class stu_details: #class name \n",
    "    #function\n",
    "    def __init__(self,name,age):\n",
    "        self.name = name \n",
    "        self.age = 0"
   ]
  },
  {
   "cell_type": "code",
   "execution_count": 19,
   "id": "8c3327b9-b9f3-43bd-aaba-f7abb57eaff1",
   "metadata": {},
   "outputs": [],
   "source": [
    "#obj_class is the name of the object of the class\n",
    "obj_class = stu_details(\"mohan\" , 20)"
   ]
  },
  {
   "cell_type": "code",
   "execution_count": 20,
   "id": "37f44582-f1b3-4a80-a022-a17d8865a5e1",
   "metadata": {},
   "outputs": [
    {
     "data": {
      "text/plain": [
       "'mohan'"
      ]
     },
     "execution_count": 20,
     "metadata": {},
     "output_type": "execute_result"
    }
   ],
   "source": [
    "obj_class.name"
   ]
  },
  {
   "cell_type": "markdown",
   "id": "f0cf8f5d-0818-4f47-9b38-b17ce2007496",
   "metadata": {},
   "source": [
    "##### Question 2"
   ]
  },
  {
   "cell_type": "code",
   "execution_count": 21,
   "id": "38741e64-603e-4b21-a782-5c3e2ad2ee74",
   "metadata": {},
   "outputs": [
    {
     "data": {
      "text/plain": [
       "'Four pillar of OOPS are defined as folows:'"
      ]
     },
     "execution_count": 21,
     "metadata": {},
     "output_type": "execute_result"
    }
   ],
   "source": [
    "'''Four pillar of OOPS are defined as folows:'''\n",
    "\n",
    "# Inheritance-  In this the properties of parent class are derived in the child class(derived class).\n",
    "# Encapsulation - In this the data is encapsulated properly with the help of the access specifiers such as private,protected,public\n",
    "#Polymorphism - In this the two or more function can have the same name but different parameters.\n",
    "# Abstraction - It is a process of handling the complexity by hiding the unnecessary information from the user and show only the desired information"
   ]
  },
  {
   "cell_type": "markdown",
   "id": "5f0f0dea-b50a-47b7-917d-6c7506520a6e",
   "metadata": {},
   "source": [
    "##### Question 3"
   ]
  },
  {
   "cell_type": "code",
   "execution_count": 22,
   "id": "fdb07c6b-a4db-4cb3-ad32-05762fabf449",
   "metadata": {},
   "outputs": [
    {
     "data": {
      "text/plain": [
       "'__init__ function is a constructor in python.\\nIt is used to assign the values to data members when object of that class is created.\\n__init__ function is automatically called when the object of the class is created'"
      ]
     },
     "execution_count": 22,
     "metadata": {},
     "output_type": "execute_result"
    }
   ],
   "source": [
    "'''__init__ function is a constructor in python.\n",
    "It is used to assign the values to data members when object of that class is created.\n",
    "__init__ function is automatically called when the object of the class is created'''"
   ]
  },
  {
   "cell_type": "markdown",
   "id": "0dd13215-f350-46b4-8b1a-28c61ed73027",
   "metadata": {},
   "source": [
    "##### Question 4"
   ]
  },
  {
   "cell_type": "code",
   "execution_count": 23,
   "id": "4d8ee53d-9774-489d-b0bf-799fe797b536",
   "metadata": {},
   "outputs": [],
   "source": [
    "# self is a convention. It is a type of a pointer which points to the class\n",
    "# By using self we can access the attributes and method of the class.  It binds the attributes with the arguements."
   ]
  },
  {
   "cell_type": "markdown",
   "id": "dbd39ef2-c4cd-4506-bb02-a71f9554a185",
   "metadata": {},
   "source": [
    "##### Question 5"
   ]
  },
  {
   "cell_type": "code",
   "execution_count": 27,
   "id": "22a490c8-1df5-4e56-8330-804a5d858c71",
   "metadata": {},
   "outputs": [],
   "source": [
    "# Inheritance - In this the the properties of a parent class are derived in the child class\n",
    "\n",
    "'''Types of Inheritance:-'''\n",
    "\n",
    "# Multiple Inheritance\n",
    "\n",
    "class A :\n",
    "    def show(self):\n",
    "        print(\"This is class A\")\n",
    "        \n",
    "class B:\n",
    "    def show1(self):\n",
    "        print(\"This is class B\")\n",
    "class C(A,B):\n",
    "    pass"
   ]
  },
  {
   "cell_type": "code",
   "execution_count": 28,
   "id": "3e0b7e43-8c56-4030-a7a7-100c54ec6f78",
   "metadata": {},
   "outputs": [],
   "source": [
    "obj_c =C()"
   ]
  },
  {
   "cell_type": "code",
   "execution_count": 29,
   "id": "c68b13d1-89ec-464c-9fd4-7a99320c6823",
   "metadata": {},
   "outputs": [
    {
     "name": "stdout",
     "output_type": "stream",
     "text": [
      "This is class A\n"
     ]
    }
   ],
   "source": [
    "obj_c.show()"
   ]
  },
  {
   "cell_type": "code",
   "execution_count": 30,
   "id": "09131d79-51f4-4232-9b31-1623fb65639e",
   "metadata": {},
   "outputs": [
    {
     "name": "stdout",
     "output_type": "stream",
     "text": [
      "This is class B\n"
     ]
    }
   ],
   "source": [
    "obj_c.show1()"
   ]
  },
  {
   "cell_type": "code",
   "execution_count": 31,
   "id": "92d05c93-1450-4a05-9eba-636f38207552",
   "metadata": {},
   "outputs": [],
   "source": [
    "# Multilevel Inheritance"
   ]
  },
  {
   "cell_type": "code",
   "execution_count": 32,
   "id": "80fe9247-7507-4577-9633-57a363bf5760",
   "metadata": {},
   "outputs": [],
   "source": [
    "class A :\n",
    "    def show(self):\n",
    "        print(\"This is class A\")\n",
    "        \n",
    "class B(A):\n",
    "    def show1(self):\n",
    "        print(\"This is class B\")\n",
    "class C(B):\n",
    "    pass"
   ]
  },
  {
   "cell_type": "code",
   "execution_count": 33,
   "id": "f2ba0c33-e74a-422a-b6cb-e90cc24dfd9a",
   "metadata": {},
   "outputs": [],
   "source": [
    "objc = C()"
   ]
  },
  {
   "cell_type": "code",
   "execution_count": 36,
   "id": "3a6adbb0-5e06-478f-8fd6-afc55bba74db",
   "metadata": {},
   "outputs": [
    {
     "name": "stdout",
     "output_type": "stream",
     "text": [
      "This is class A\n",
      "This is class B\n"
     ]
    }
   ],
   "source": [
    "objc.show()\n",
    "objc.show1()"
   ]
  },
  {
   "cell_type": "code",
   "execution_count": 37,
   "id": "69328580-8c3e-4c68-9e18-67b3fa6209c3",
   "metadata": {},
   "outputs": [],
   "source": [
    "# Hierarchical Inheritance"
   ]
  },
  {
   "cell_type": "code",
   "execution_count": 38,
   "id": "1ef19091-592a-46ec-8ff1-382ca679c6e1",
   "metadata": {},
   "outputs": [],
   "source": [
    "class A :\n",
    "    def show(self):\n",
    "        print(\"This is class A\")\n",
    "        \n",
    "class B(A):\n",
    "    pass\n",
    "class C(A):\n",
    "    pass"
   ]
  },
  {
   "cell_type": "code",
   "execution_count": 39,
   "id": "7ddd7cf0-d518-49f8-bb08-b2e08f094300",
   "metadata": {},
   "outputs": [],
   "source": [
    "objb= B()"
   ]
  },
  {
   "cell_type": "code",
   "execution_count": 40,
   "id": "5d652d52-3a54-4e69-be24-8d0ddc89fb01",
   "metadata": {},
   "outputs": [
    {
     "name": "stdout",
     "output_type": "stream",
     "text": [
      "This is class A\n"
     ]
    }
   ],
   "source": [
    "objb.show()"
   ]
  },
  {
   "cell_type": "code",
   "execution_count": 41,
   "id": "567373ad-786c-46f2-a5f5-8082ee4648c8",
   "metadata": {},
   "outputs": [],
   "source": [
    "objc= C()"
   ]
  },
  {
   "cell_type": "code",
   "execution_count": 42,
   "id": "c50b2021-ef04-4510-99c0-b1e3cb763331",
   "metadata": {},
   "outputs": [
    {
     "name": "stdout",
     "output_type": "stream",
     "text": [
      "This is class A\n"
     ]
    }
   ],
   "source": [
    "objc.show()"
   ]
  },
  {
   "cell_type": "code",
   "execution_count": null,
   "id": "932ed29a-e8a0-4f24-9d13-a82645263a0f",
   "metadata": {},
   "outputs": [],
   "source": []
  }
 ],
 "metadata": {
  "kernelspec": {
   "display_name": "Python 3 (ipykernel)",
   "language": "python",
   "name": "python3"
  },
  "language_info": {
   "codemirror_mode": {
    "name": "ipython",
    "version": 3
   },
   "file_extension": ".py",
   "mimetype": "text/x-python",
   "name": "python",
   "nbconvert_exporter": "python",
   "pygments_lexer": "ipython3",
   "version": "3.10.8"
  }
 },
 "nbformat": 4,
 "nbformat_minor": 5
}
