{
 "cells": [
  {
   "cell_type": "code",
   "execution_count": 10,
   "id": "7fd91f70-74d0-42b6-b818-b65f4c650e73",
   "metadata": {},
   "outputs": [
    {
     "data": {
      "text/plain": [
       "' It can also be written under this \\n  type of inverted commas'"
      ]
     },
     "execution_count": 10,
     "metadata": {},
     "output_type": "execute_result"
    }
   ],
   "source": [
    " # Question no. 1\n",
    " # we can comment code in various types :\n",
    " # 1. This is an example of single line comment\n",
    "'''2. This is an example of \n",
    "multiline comment'''\n",
    "                # OR\n",
    "\"\"\" It can also be written under this \n",
    "   type of inverted commas\"\"\""
   ]
  },
  {
   "cell_type": "code",
   "execution_count": 11,
   "id": "82ff8aa5-758a-4257-a9ef-891be890d82e",
   "metadata": {},
   "outputs": [
    {
     "data": {
      "text/plain": [
       "'Now to declare a variable we simply write the variable and may assign it to 0\\ne.g-> num'"
      ]
     },
     "execution_count": 11,
     "metadata": {},
     "output_type": "execute_result"
    }
   ],
   "source": [
    "# Question no. 2\n",
    "'''A variable is a keyword/symbolic representation in which it holds some value in it.\n",
    "e.g -> n=100'''\n",
    "'''Values to variable are assigned by using assignment operator.\n",
    "e.g-> num=10'''\n",
    "'''Now to declare a variable we simply write the variable and may assign it to 0\n",
    "e.g-> num'''  "
   ]
  },
  {
   "cell_type": "code",
   "execution_count": 33,
   "id": "fcd74bd0-1bd4-472d-9e8b-66ca253ca0ec",
   "metadata": {},
   "outputs": [
    {
     "name": "stdout",
     "output_type": "stream",
     "text": [
      "<class 'int'>\n",
      "<class 'str'>\n"
     ]
    }
   ],
   "source": [
    "# Question no. 3\n",
    "# to convert one data type to another we can use typecasting the inbuilt function of the python\n",
    "# E.g->\n",
    "num =10\n",
    "print(type(num))\n",
    "# Here the num is typecasted to str\n",
    "converted_num=str(num)\n",
    "print(type(converted_num))"
   ]
  },
  {
   "cell_type": "code",
   "execution_count": 34,
   "id": "446e9d32-8740-4432-b7ea-46276ce383c3",
   "metadata": {},
   "outputs": [
    {
     "data": {
      "text/plain": [
       "\"To run a script on the command line we write the keyword 'python' followed by the name of the script (e.g - python First.py)\""
      ]
     },
     "execution_count": 34,
     "metadata": {},
     "output_type": "execute_result"
    }
   ],
   "source": [
    "# Question no. 4\n",
    "\"\"\"To write your script in command line we simply write the keyword 'pyhton' and hit enter then we can write our code/script in the command line.\"\"\" \n",
    "'''To run a script on the command line we write the keyword 'python' followed by the name of the script (e.g - python First.py)'''"
   ]
  },
  {
   "cell_type": "code",
   "execution_count": 36,
   "id": "112f63a1-456c-40d8-97a0-a9e586708371",
   "metadata": {},
   "outputs": [
    {
     "name": "stdout",
     "output_type": "stream",
     "text": [
      "[2, 3]\n"
     ]
    }
   ],
   "source": [
    "# Question no. 5\n",
    "my_list = [1,2,3,4,5]\n",
    "sub_list = my_list[1:3]\n",
    "print(sub_list)"
   ]
  },
  {
   "cell_type": "code",
   "execution_count": 38,
   "id": "3499e687-29a9-4fd1-aa8f-fc6fe513123d",
   "metadata": {},
   "outputs": [
    {
     "name": "stdout",
     "output_type": "stream",
     "text": [
      "<class 'complex'>\n"
     ]
    }
   ],
   "source": [
    "# Question no. 6\n",
    "\"\"\"Complex numbers are those numbers which are represented in the form of 'a+ib' where 'a,b' are real numbers\n",
    "and 'i' is the imaginary number called 'iota'.\"\"\"\n",
    "\n",
    "\"\"\"It is represented in python as 'a+bj' where 'a,b' are real numbers and 'j' is the imaginary number called 'iota'.\"\"\"\n",
    "r = 4+5j\n",
    "print(type(r))"
   ]
  },
  {
   "cell_type": "code",
   "execution_count": 40,
   "id": "5b439fc2-ead4-4e5c-845a-40b73eb085a8",
   "metadata": {},
   "outputs": [],
   "source": [
    "# Question no. 7\n",
    "age = 25"
   ]
  },
  {
   "cell_type": "code",
   "execution_count": 41,
   "id": "488f1a1a-95f6-46f6-8a81-d6bfa96e4ac3",
   "metadata": {},
   "outputs": [
    {
     "data": {
      "text/plain": [
       "float"
      ]
     },
     "execution_count": 41,
     "metadata": {},
     "output_type": "execute_result"
    }
   ],
   "source": [
    "# Question no. 8\n",
    "price  = 9.99\n",
    "type(price)\n",
    "# It holds the float data type"
   ]
  },
  {
   "cell_type": "code",
   "execution_count": 42,
   "id": "9adb8c75-f52d-4b04-819c-b0ad061b290c",
   "metadata": {},
   "outputs": [
    {
     "name": "stdout",
     "output_type": "stream",
     "text": [
      "Saman Thakur\n"
     ]
    }
   ],
   "source": [
    "# Question no. 9 \n",
    "name  = \"Saman Thakur\"\n",
    "# to print the assignd variable\n",
    "print(name)"
   ]
  },
  {
   "cell_type": "code",
   "execution_count": 43,
   "id": "36bb5601-24b9-4b1a-bd9d-3260ba3567b9",
   "metadata": {},
   "outputs": [
    {
     "data": {
      "text/plain": [
       "'World'"
      ]
     },
     "execution_count": 43,
     "metadata": {},
     "output_type": "execute_result"
    }
   ],
   "source": [
    "# Question no. 10\n",
    "s = \"Hello, World!\"\n",
    "s[7:12]"
   ]
  },
  {
   "cell_type": "code",
   "execution_count": null,
   "id": "0e3c7acb-1487-490a-8431-8916a6a372bf",
   "metadata": {},
   "outputs": [],
   "source": [
    "# Question no. 11\n",
    "is_student = True"
   ]
  }
 ],
 "metadata": {
  "kernelspec": {
   "display_name": "Python 3 (ipykernel)",
   "language": "python",
   "name": "python3"
  },
  "language_info": {
   "codemirror_mode": {
    "name": "ipython",
    "version": 3
   },
   "file_extension": ".py",
   "mimetype": "text/x-python",
   "name": "python",
   "nbconvert_exporter": "python",
   "pygments_lexer": "ipython3",
   "version": "3.10.8"
  }
 },
 "nbformat": 4,
 "nbformat_minor": 5
}
