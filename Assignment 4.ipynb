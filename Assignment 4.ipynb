{
 "cells": [
  {
   "cell_type": "markdown",
   "id": "6ddbb30a-66d5-42ef-8899-f0e680e36e7a",
   "metadata": {
    "jp-MarkdownHeadingCollapsed": true,
    "tags": []
   },
   "source": [
    "##### Question 1"
   ]
  },
  {
   "cell_type": "code",
   "execution_count": 1,
   "id": "ea6850d6-0a61-4d44-b94a-b2552874230f",
   "metadata": {},
   "outputs": [],
   "source": [
    "lst =  [('Sachin Tendulkar', 34357), ('Ricky Ponting', 27483), ('Jack Kallis', 25534), ('Virat Kohli', 24936)]"
   ]
  },
  {
   "cell_type": "code",
   "execution_count": 2,
   "id": "09e37572-af05-4c44-9b51-224379d27962",
   "metadata": {},
   "outputs": [
    {
     "name": "stdout",
     "output_type": "stream",
     "text": [
      "('Virat Kohli', 24936)\n",
      "('Jack Kallis', 25534)\n",
      "('Ricky Ponting', 27483)\n",
      "('Sachin Tendulkar', 34357)\n"
     ]
    }
   ],
   "source": [
    "sorted_data = sorted(lst , key = lambda x: x[1])\n",
    "\n",
    "for item in sorted_data:\n",
    "    print(item)"
   ]
  },
  {
   "cell_type": "markdown",
   "id": "2b0ff4d9-9a69-47db-821f-37f1de2b2cde",
   "metadata": {
    "jp-MarkdownHeadingCollapsed": true,
    "tags": []
   },
   "source": [
    "##### Question 2"
   ]
  },
  {
   "cell_type": "code",
   "execution_count": 3,
   "id": "9db0a8d4-6ad3-47d4-93dc-7a566a9b72da",
   "metadata": {},
   "outputs": [
    {
     "name": "stdout",
     "output_type": "stream",
     "text": [
      "1\n",
      "4\n",
      "9\n",
      "16\n",
      "25\n",
      "36\n",
      "49\n",
      "64\n",
      "81\n",
      "100\n"
     ]
    }
   ],
   "source": [
    "l = [1, 2, 3, 4, 5, 6, 7, 8, 9, 10]\n",
    "\n",
    "# Square of a number using lambda function\n",
    "sq = lambda x: x**2\n",
    "\n",
    "for i in l:\n",
    "    print(sq(i))"
   ]
  },
  {
   "cell_type": "code",
   "execution_count": 5,
   "id": "7e6fc577-7777-4d81-946c-656fb2dbf00e",
   "metadata": {},
   "outputs": [],
   "source": [
    "# Square of a number using map function\n",
    "\n",
    "square_num = map(sq , l)"
   ]
  },
  {
   "cell_type": "code",
   "execution_count": 6,
   "id": "351dee2c-24cb-47d9-8bac-bea88eacc412",
   "metadata": {},
   "outputs": [
    {
     "data": {
      "text/plain": [
       "[1, 4, 9, 16, 25, 36, 49, 64, 81, 100]"
      ]
     },
     "execution_count": 6,
     "metadata": {},
     "output_type": "execute_result"
    }
   ],
   "source": [
    "list(square_num)"
   ]
  },
  {
   "cell_type": "markdown",
   "id": "733e4903-7038-4970-a362-9087917ba44f",
   "metadata": {
    "jp-MarkdownHeadingCollapsed": true,
    "tags": []
   },
   "source": [
    "##### Question 3"
   ]
  },
  {
   "cell_type": "code",
   "execution_count": 7,
   "id": "794b8387-61e2-426d-a247-d1e4134e000a",
   "metadata": {},
   "outputs": [],
   "source": [
    "num_list = [1, 2, 3, 4, 5, 6, 7, 8, 9, 10]\n",
    "\n",
    "string_tuple_num = map(lambda x : str(x) , num_list)"
   ]
  },
  {
   "cell_type": "code",
   "execution_count": 8,
   "id": "5445d530-5b25-441c-9669-dcc171750f8c",
   "metadata": {},
   "outputs": [
    {
     "data": {
      "text/plain": [
       "('1', '2', '3', '4', '5', '6', '7', '8', '9', '10')"
      ]
     },
     "execution_count": 8,
     "metadata": {},
     "output_type": "execute_result"
    }
   ],
   "source": [
    "tuple(string_tuple_num)"
   ]
  },
  {
   "cell_type": "markdown",
   "id": "643e5aa3-ad79-4f42-a037-9dd45d0342a8",
   "metadata": {
    "jp-MarkdownHeadingCollapsed": true,
    "tags": []
   },
   "source": [
    "##### Quesiton 4"
   ]
  },
  {
   "cell_type": "code",
   "execution_count": 14,
   "id": "ced44b80-33a0-412b-8bda-a342861a0b89",
   "metadata": {},
   "outputs": [],
   "source": [
    "from functools import reduce"
   ]
  },
  {
   "cell_type": "code",
   "execution_count": 16,
   "id": "11221e95-f302-4b34-b118-2e86f788e28d",
   "metadata": {},
   "outputs": [
    {
     "data": {
      "text/plain": [
       "15511210043330985984000000"
      ]
     },
     "execution_count": 16,
     "metadata": {},
     "output_type": "execute_result"
    }
   ],
   "source": [
    "l= list(range(1,26))\n",
    "\n",
    "reduce(lambda x,y : x*y , l)"
   ]
  },
  {
   "cell_type": "markdown",
   "id": "05bcbd02-c05d-4c16-ad2b-95ac5e4a62da",
   "metadata": {
    "jp-MarkdownHeadingCollapsed": true,
    "tags": []
   },
   "source": [
    "##### Question 5"
   ]
  },
  {
   "cell_type": "code",
   "execution_count": 29,
   "id": "068506b7-837b-4c62-8c25-3895b3848ab5",
   "metadata": {},
   "outputs": [],
   "source": [
    "l = [2, 3, 6, 9, 27, 60, 90, 120, 55, 46]\n",
    "\n",
    "#function to give numbers that are divisible by 2&3\n",
    "\n",
    "div_2_3 = filter(lambda x: x%2==0 and x%3==0 ,l )"
   ]
  },
  {
   "cell_type": "code",
   "execution_count": 28,
   "id": "a77b39b1-85a7-4b94-b7ef-d894dc3d75f3",
   "metadata": {},
   "outputs": [
    {
     "data": {
      "text/plain": [
       "[6, 60, 90, 120]"
      ]
     },
     "execution_count": 28,
     "metadata": {},
     "output_type": "execute_result"
    }
   ],
   "source": [
    "list(div_2_3)"
   ]
  },
  {
   "cell_type": "markdown",
   "id": "c72e62e9-383d-42ce-8f66-bd706162ac46",
   "metadata": {},
   "source": [
    "##### Question 6"
   ]
  },
  {
   "cell_type": "code",
   "execution_count": null,
   "id": "edde60ab-0a05-4f50-8197-c57ab1c39116",
   "metadata": {},
   "outputs": [],
   "source": []
  }
 ],
 "metadata": {
  "kernelspec": {
   "display_name": "Python 3 (ipykernel)",
   "language": "python",
   "name": "python3"
  },
  "language_info": {
   "codemirror_mode": {
    "name": "ipython",
    "version": 3
   },
   "file_extension": ".py",
   "mimetype": "text/x-python",
   "name": "python",
   "nbconvert_exporter": "python",
   "pygments_lexer": "ipython3",
   "version": "3.10.8"
  }
 },
 "nbformat": 4,
 "nbformat_minor": 5
}
