{
 "cells": [
  {
   "cell_type": "markdown",
   "id": "b02b2b4e-407f-4a0e-914b-6eaec629a40e",
   "metadata": {},
   "source": [
    "### Question 1\n",
    "\n",
    "Assumptions of ANOVA:\n",
    "\n",
    "1. Independence of Observations - Each observation in the data set should be independent of all others. This means that the value of one observation does not influence or relate to the value of another.\n",
    "\n",
    "Violation e.g - If you have repeated measurements from the same subjects without accounting for this in the model, the observations are not independent. For instance, measuring the weight of patients multiple times after different treatments without considering the repeated measures.\n",
    "\n",
    "Impact - Violations of independence can lead to underestimated variability and thus an increased likelihood of Type I errors (false positives).\n",
    "\n",
    "2. Normality - The residuals (differences between observed and predicted values) of the data should be approximately normally distributed within each group.\n",
    "\n",
    "Violation e.g - If the data are heavily skewed or have outliers, such as test scores from a very difficult exam where most students score very low, normality is violated.\n",
    "\n",
    "Impact: Non-normal residuals can lead to incorrect conclusions, particularly with small sample sizes, as the F-test becomes less reliable.\n",
    "\n",
    "3. Homogeneity of Variances (Homoscedasticity) - The variances within each group should be approximately equal.\n",
    "\n",
    "Violation e.g - If one group has much more variability than another, such as comparing the incomes of different professional groups where one group (e.g., entrepreneurs) has a wide range of incomes compared to another group (e.g., teachers) with a more consistent income level, this assumption is violated.\n",
    "\n",
    "Impact: Heteroscedasticity can lead to an inflated Type I error rate and reduced power of the test, making the ANOVA results less reliable."
   ]
  },
  {
   "cell_type": "markdown",
   "id": "b7aa541a-d085-490c-9439-b6d0aaac6ba4",
   "metadata": {},
   "source": [
    "### Question 2\n",
    "\n",
    "There are 3 types of ANOVA :-\n",
    "1. #### One Way ANOVA - It has 1 factor with atleast 2 levels, these levels are independent\n",
    "\n",
    "Situation to use it:- \n",
    "1. When you have one categorical independent variable with three or more levels (e.g., diet type, school).\n",
    "2. When the dependent variable is continuous (e.g., weight loss, test scores).\n",
    "3. When each group is independent of the others.\n",
    "\n",
    "2. #### Repeated measures ANOVA - It has 1 factor with atleast 2 levels and levels are independent.\n",
    "\n",
    "Situation to use it:-\n",
    "1. When you have one group of subjects measured multiple times under different conditions.\n",
    "2. When the dependent variable is continuous.\n",
    "3. When the measurements are correlated due to the same subjects being involved in each condition or time point.\n",
    "\n",
    "3. #### Factorial ANOVA - A factorial ANOVA is any ANOVA that uses two or more independent factors and a single response variable. \n",
    "\n",
    "Use case:-\n",
    "\n",
    "This type of ANOVA should be used whenever you’d like to understand how two or more factors affect a response variable and whether or not there is an interaction effect between the factors on the response variable."
   ]
  },
  {
   "cell_type": "markdown",
   "id": "d962d05f-e6b2-4872-884b-df656501c434",
   "metadata": {},
   "source": [
    "### Question 3\n",
    "\n",
    "Partitioning of variance in ANOVA is a statistical technique that breaks down the observed variance in a data set into different components. This process helps determine the relative contributions of different sources of variation. It's also used to test the significance of differences between means.\n",
    "\n",
    "Importance of Partitioning Variance\n",
    "1. Understanding Sources of Variability - Identifies if variability is due to differences between groups or within groups.\n",
    "2. Calculating the F-Ratio\n",
    "3. Hypothesis Testing - Tests if all group means are equal. Rejects null hypothesis if between-group variance is significantly larger.\n",
    "4. Identifying Significant Factors - Assesses main effects and interaction effects in multifactor ANOVA.\n",
    "5. Guiding Further Analysis - Helps refine models and investigate specific groups."
   ]
  },
  {
   "cell_type": "markdown",
   "id": "956a9f2c-fbf0-439b-bc91-2e7d066e0f9e",
   "metadata": {},
   "source": [
    "### Question 4"
   ]
  },
  {
   "cell_type": "code",
   "execution_count": 1,
   "id": "ea7b4fb8-67fa-4605-a982-7e422f7e7992",
   "metadata": {},
   "outputs": [],
   "source": [
    "import numpy as np \n",
    "import pandas as pd\n"
   ]
  },
  {
   "cell_type": "code",
   "execution_count": 2,
   "id": "1911fb7c-75f2-453b-a57b-25b72a60ad8f",
   "metadata": {},
   "outputs": [],
   "source": [
    "# sample data\n",
    "data = {\n",
    "    'Group': ['A', 'A', 'A', 'B', 'B', 'B', 'C', 'C', 'C'],\n",
    "    'Value': [5, 6, 7, 8, 8, 9, 10, 10, 11]\n",
    "}\n",
    "df = pd.DataFrame(data)\n"
   ]
  },
  {
   "cell_type": "code",
   "execution_count": 4,
   "id": "d5d49743-fdab-4418-9b7e-50131a445764",
   "metadata": {},
   "outputs": [],
   "source": [
    "# Calculate group means\n",
    "group_means = df.groupby('Group')['Value'].mean()"
   ]
  },
  {
   "cell_type": "code",
   "execution_count": 5,
   "id": "aaed8481-7b46-40c0-8be6-99e05278d206",
   "metadata": {},
   "outputs": [
    {
     "name": "stdout",
     "output_type": "stream",
     "text": [
      "Total Sum of Squares (SST): 31.55555555555556\n",
      "Between-Group Sum of Squares (SSB): 28.22222222222223\n",
      "Within-Group Sum of Squares (SSW): 3.3333333333333335\n"
     ]
    }
   ],
   "source": [
    "# calculate overall mean\n",
    "overall_mean = df['Value'].mean()\n",
    "# SST\n",
    "sst = np.sum((df['Value'] - overall_mean) ** 2)\n",
    "print(\"Total Sum of Squares (SST):\", sst)\n",
    "\n",
    "# Between-Group Sum of Squares (SSB)\n",
    "ssb = np.sum(df.groupby('Group').size() * (group_means - overall_mean) ** 2)\n",
    "print(\"Between-Group Sum of Squares (SSB):\", ssb)\n",
    "\n",
    "# Within-Group Sum of Squares (SSW)\n",
    "ssw = np.sum((df['Value'] - df['Group'].map(group_means)) ** 2)\n",
    "print(\"Within-Group Sum of Squares (SSW):\", ssw)"
   ]
  },
  {
   "cell_type": "markdown",
   "id": "908c5b74-5035-467b-adc4-7c29724c6404",
   "metadata": {},
   "source": [
    "### Quesition 5"
   ]
  },
  {
   "cell_type": "code",
   "execution_count": 20,
   "id": "3516f619-35fd-4079-bc86-d8595a10e6c8",
   "metadata": {},
   "outputs": [],
   "source": [
    "import statsmodels.api as sm\n",
    "from statsmodels.formula.api import ols"
   ]
  },
  {
   "cell_type": "code",
   "execution_count": 11,
   "id": "cc8f4594-7e0a-46e5-882d-bbb4777e88d7",
   "metadata": {},
   "outputs": [],
   "source": [
    "# Example data\n",
    "data = {\n",
    "    'Factor1': ['A', 'A', 'B', 'B', 'A', 'A', 'B', 'B'],\n",
    "    'Factor2': ['Male', 'Female', 'Male', 'Female', 'Male', 'Female', 'Male', 'Female'],\n",
    "    'Response': [10, 12, 15, 18, 9, 11, 14, 17]\n",
    "}\n",
    "\n",
    "df = pd.DataFrame(data)\n"
   ]
  },
  {
   "cell_type": "code",
   "execution_count": 12,
   "id": "a5c4cca5-db77-4bfe-84d3-f6a214f8da8f",
   "metadata": {},
   "outputs": [
    {
     "data": {
      "text/html": [
       "<div>\n",
       "<style scoped>\n",
       "    .dataframe tbody tr th:only-of-type {\n",
       "        vertical-align: middle;\n",
       "    }\n",
       "\n",
       "    .dataframe tbody tr th {\n",
       "        vertical-align: top;\n",
       "    }\n",
       "\n",
       "    .dataframe thead th {\n",
       "        text-align: right;\n",
       "    }\n",
       "</style>\n",
       "<table border=\"1\" class=\"dataframe\">\n",
       "  <thead>\n",
       "    <tr style=\"text-align: right;\">\n",
       "      <th></th>\n",
       "      <th>Factor1</th>\n",
       "      <th>Factor2</th>\n",
       "      <th>Response</th>\n",
       "    </tr>\n",
       "  </thead>\n",
       "  <tbody>\n",
       "    <tr>\n",
       "      <th>0</th>\n",
       "      <td>A</td>\n",
       "      <td>Male</td>\n",
       "      <td>10</td>\n",
       "    </tr>\n",
       "    <tr>\n",
       "      <th>1</th>\n",
       "      <td>A</td>\n",
       "      <td>Female</td>\n",
       "      <td>12</td>\n",
       "    </tr>\n",
       "    <tr>\n",
       "      <th>2</th>\n",
       "      <td>B</td>\n",
       "      <td>Male</td>\n",
       "      <td>15</td>\n",
       "    </tr>\n",
       "    <tr>\n",
       "      <th>3</th>\n",
       "      <td>B</td>\n",
       "      <td>Female</td>\n",
       "      <td>18</td>\n",
       "    </tr>\n",
       "    <tr>\n",
       "      <th>4</th>\n",
       "      <td>A</td>\n",
       "      <td>Male</td>\n",
       "      <td>9</td>\n",
       "    </tr>\n",
       "    <tr>\n",
       "      <th>5</th>\n",
       "      <td>A</td>\n",
       "      <td>Female</td>\n",
       "      <td>11</td>\n",
       "    </tr>\n",
       "    <tr>\n",
       "      <th>6</th>\n",
       "      <td>B</td>\n",
       "      <td>Male</td>\n",
       "      <td>14</td>\n",
       "    </tr>\n",
       "    <tr>\n",
       "      <th>7</th>\n",
       "      <td>B</td>\n",
       "      <td>Female</td>\n",
       "      <td>17</td>\n",
       "    </tr>\n",
       "  </tbody>\n",
       "</table>\n",
       "</div>"
      ],
      "text/plain": [
       "  Factor1 Factor2  Response\n",
       "0       A    Male        10\n",
       "1       A  Female        12\n",
       "2       B    Male        15\n",
       "3       B  Female        18\n",
       "4       A    Male         9\n",
       "5       A  Female        11\n",
       "6       B    Male        14\n",
       "7       B  Female        17"
      ]
     },
     "execution_count": 12,
     "metadata": {},
     "output_type": "execute_result"
    }
   ],
   "source": [
    "df"
   ]
  },
  {
   "cell_type": "code",
   "execution_count": 13,
   "id": "4b336bc8-77e0-4edd-8927-244709d9f2af",
   "metadata": {},
   "outputs": [
    {
     "name": "stdout",
     "output_type": "stream",
     "text": [
      "                       sum_sq   df      F    PR(>F)\n",
      "C(Factor1)               60.5  1.0  121.0  0.000388\n",
      "C(Factor2)               12.5  1.0   25.0  0.007490\n",
      "C(Factor1):C(Factor2)     0.5  1.0    1.0  0.373901\n",
      "Residual                  2.0  4.0    NaN       NaN\n"
     ]
    }
   ],
   "source": [
    "# Fit the ANOVA model\n",
    "model = ols('Response ~ C(Factor1) + C(Factor2) + C(Factor1):C(Factor2)', data=df).fit()\n",
    "\n",
    "# Perform ANOVA table\n",
    "anova_table = sm.stats.anova_lm(model, typ=2)\n",
    "print(anova_table)"
   ]
  },
  {
   "cell_type": "markdown",
   "id": "a960927d-fac5-40fc-a8cc-ce948cf562b7",
   "metadata": {},
   "source": [
    "### Question 6\n",
    "\n",
    "1. Conclusion: The differences between the group means are statistically significant.\n",
    "2. Interpretation: The F-statistic (5.23) indicates there is significant variability between group means, and the p-value (0.02) suggests these differences are unlikely due to random chance.\n",
    "\n",
    "Therefore, you can confidently conclude that the factor being studied has a statistically significant effect on the dependent variable."
   ]
  },
  {
   "cell_type": "markdown",
   "id": "6e721616-7e56-44b5-9fb3-7bf29e1aa795",
   "metadata": {},
   "source": [
    "## Quesiton 7\n",
    "\n",
    "Handling Missing Data in Repeated Measures ANOVA\n",
    "\n",
    "1. #### Identify Missing Data Patterns:\n",
    "\n",
    "Determine if data are missing completely at random (MCAR), missing at random (MAR), or missing not at random (MNAR).\n",
    "\n",
    "\n",
    "### Methods to Handle Missing Data:\n",
    "\n",
    "1. #### Complete Case Analysis: Exclude subjects with any missing data.\n",
    "\n",
    "2. #### Mean Imputation: Replace missing values with the mean of observed values.\n",
    "\n",
    "3. #### Multiple Imputation: Generate multiple datasets with plausible values for missing data.\n",
    "\n",
    "4. #### Model-Based Methods: Estimate parameters using all available data under a specified model.\n",
    "\n",
    "### Potential Consequences\n",
    "1. Bias: Complete case analysis and mean imputation can bias results if missingness is related to outcomes or predictors.\n",
    "2. Precision: Imputation methods can underestimate variability.\n",
    "3. Validity: Validity depends on correctly identifying and addressing missing data patterns."
   ]
  },
  {
   "cell_type": "markdown",
   "id": "0ee12a3d-1073-4d16-bed3-0037126191e8",
   "metadata": {},
   "source": [
    "## Question 8 "
   ]
  },
  {
   "cell_type": "markdown",
   "id": "95e01657-ae07-4587-9743-34e76f974986",
   "metadata": {},
   "source": [
    "After conducting an ANOVA (Analysis of Variance) and determining that there are significant differences between groups, post-hoc tests are used to identify which specific groups differ from each other. \n",
    "\n",
    "1. Tukey's Honestly Significant Difference (HSD):Use: Compare all possible pairwise differences between group means after finding significant differences in ANOVA with multiple groups.\n",
    "\n",
    "2. Bonferroni Correction: Adjust significance level for multiple comparisons to control familywise error rate.\n",
    "3. Dunnett's Test: Compare multiple treatment groups against a single control group.\n",
    "\n",
    "#### Example Scenario:\n",
    "\n",
    "Scenario: A researcher conducts an experiment to compare the effectiveness of four different fertilizers on crop yield. They use ANOVA to analyze the data and find a significant difference in crop yield between at least some of the fertilizers.\n",
    "\n",
    "Post-Hoc Test Application: The researcher decides to perform Tukey's HSD test to determine which specific pairs of fertilizers differ significantly in crop yield. This helps in identifying which fertilizers are more effective than others and provides specific insights into their comparative effectiveness."
   ]
  },
  {
   "cell_type": "markdown",
   "id": "6e7e9def-ef3d-4082-89bb-9f02d0386f62",
   "metadata": {},
   "source": [
    "## Quesiton 9"
   ]
  },
  {
   "cell_type": "code",
   "execution_count": 14,
   "id": "518c4f67-2e90-434e-b336-248490346e93",
   "metadata": {},
   "outputs": [
    {
     "name": "stdout",
     "output_type": "stream",
     "text": [
      "F-statistic: 34.5091\n",
      "P-value: 0.0000\n",
      "The one-way ANOVA indicates that there are significant differences between the mean weight loss of the three diets.\n"
     ]
    }
   ],
   "source": [
    "import pandas as pd\n",
    "from scipy.stats import f_oneway\n",
    "\n",
    "# Example data (replace with your actual data)\n",
    "data = {\n",
    "    'Diet': ['A', 'A', 'A', 'A', 'A', 'B', 'B', 'B', 'B', 'B', \n",
    "             'C', 'C', 'C', 'C', 'C'],\n",
    "    'Weight_loss': [5.2, 4.8, 5.5, 5.9, 4.5, 4.0, 4.2, 4.1, 3.8, 3.9,\n",
    "                    6.1, 5.8, 6.0, 5.5, 5.9]\n",
    "}\n",
    "\n",
    "df = pd.DataFrame(data)\n",
    "\n",
    "# Conduct one-way ANOVA\n",
    "f_statistic, p_value = f_oneway(df[df['Diet'] == 'A']['Weight_loss'],\n",
    "                                df[df['Diet'] == 'B']['Weight_loss'],\n",
    "                                df[df['Diet'] == 'C']['Weight_loss'])\n",
    "\n",
    "# Print results\n",
    "print(f\"F-statistic: {f_statistic:.4f}\")\n",
    "print(f\"P-value: {p_value:.4f}\")\n",
    "\n",
    "# Interpret results\n",
    "alpha = 0.05\n",
    "if p_value < alpha:\n",
    "    print(\"The one-way ANOVA indicates that there are significant differences between the mean weight loss of the three diets.\")\n",
    "else:\n",
    "    print(\"The one-way ANOVA does not find significant differences between the mean weight loss of the three diets.\")\n"
   ]
  },
  {
   "cell_type": "markdown",
   "id": "8befb56d-7249-4c7d-9f2c-659d0424c7e7",
   "metadata": {},
   "source": [
    "## Question 10"
   ]
  },
  {
   "cell_type": "code",
   "execution_count": 16,
   "id": "7c77e997-0ff0-4c88-b681-99a2020fe3e2",
   "metadata": {},
   "outputs": [],
   "source": [
    "data = {\n",
    "    'Software': ['A', 'A', 'B', 'B', 'C', 'C', 'A', 'A', 'B', 'B', \n",
    "                 'C', 'C', 'A', 'A', 'B', 'B', 'C', 'C', 'A', 'A',\n",
    "                 'B', 'B', 'C', 'C', 'A', 'A', 'B', 'B', 'C', 'C'],\n",
    "    'Experience': ['Novice', 'Experienced'] * 15,\n",
    "    'Time': [20, 22, 18, 19, 25, 24, 21, 23, 17, 19, \n",
    "             26, 25, 22, 21, 19, 20, 28, 27, 23, 22,\n",
    "             16, 18, 24, 23, 19, 20, 25, 24, 18, 19]\n",
    "}"
   ]
  },
  {
   "cell_type": "code",
   "execution_count": 17,
   "id": "82b67e9d-76e6-4884-bb22-c1dd783b7c25",
   "metadata": {},
   "outputs": [],
   "source": [
    "df = pd.DataFrame(data)"
   ]
  },
  {
   "cell_type": "code",
   "execution_count": 18,
   "id": "7f044a3b-d6f7-4dfc-9eee-7f53bcd75c10",
   "metadata": {},
   "outputs": [
    {
     "data": {
      "text/html": [
       "<div>\n",
       "<style scoped>\n",
       "    .dataframe tbody tr th:only-of-type {\n",
       "        vertical-align: middle;\n",
       "    }\n",
       "\n",
       "    .dataframe tbody tr th {\n",
       "        vertical-align: top;\n",
       "    }\n",
       "\n",
       "    .dataframe thead th {\n",
       "        text-align: right;\n",
       "    }\n",
       "</style>\n",
       "<table border=\"1\" class=\"dataframe\">\n",
       "  <thead>\n",
       "    <tr style=\"text-align: right;\">\n",
       "      <th></th>\n",
       "      <th>Software</th>\n",
       "      <th>Experience</th>\n",
       "      <th>Time</th>\n",
       "    </tr>\n",
       "  </thead>\n",
       "  <tbody>\n",
       "    <tr>\n",
       "      <th>0</th>\n",
       "      <td>A</td>\n",
       "      <td>Novice</td>\n",
       "      <td>20</td>\n",
       "    </tr>\n",
       "    <tr>\n",
       "      <th>1</th>\n",
       "      <td>A</td>\n",
       "      <td>Experienced</td>\n",
       "      <td>22</td>\n",
       "    </tr>\n",
       "    <tr>\n",
       "      <th>2</th>\n",
       "      <td>B</td>\n",
       "      <td>Novice</td>\n",
       "      <td>18</td>\n",
       "    </tr>\n",
       "    <tr>\n",
       "      <th>3</th>\n",
       "      <td>B</td>\n",
       "      <td>Experienced</td>\n",
       "      <td>19</td>\n",
       "    </tr>\n",
       "    <tr>\n",
       "      <th>4</th>\n",
       "      <td>C</td>\n",
       "      <td>Novice</td>\n",
       "      <td>25</td>\n",
       "    </tr>\n",
       "    <tr>\n",
       "      <th>5</th>\n",
       "      <td>C</td>\n",
       "      <td>Experienced</td>\n",
       "      <td>24</td>\n",
       "    </tr>\n",
       "    <tr>\n",
       "      <th>6</th>\n",
       "      <td>A</td>\n",
       "      <td>Novice</td>\n",
       "      <td>21</td>\n",
       "    </tr>\n",
       "    <tr>\n",
       "      <th>7</th>\n",
       "      <td>A</td>\n",
       "      <td>Experienced</td>\n",
       "      <td>23</td>\n",
       "    </tr>\n",
       "    <tr>\n",
       "      <th>8</th>\n",
       "      <td>B</td>\n",
       "      <td>Novice</td>\n",
       "      <td>17</td>\n",
       "    </tr>\n",
       "    <tr>\n",
       "      <th>9</th>\n",
       "      <td>B</td>\n",
       "      <td>Experienced</td>\n",
       "      <td>19</td>\n",
       "    </tr>\n",
       "    <tr>\n",
       "      <th>10</th>\n",
       "      <td>C</td>\n",
       "      <td>Novice</td>\n",
       "      <td>26</td>\n",
       "    </tr>\n",
       "    <tr>\n",
       "      <th>11</th>\n",
       "      <td>C</td>\n",
       "      <td>Experienced</td>\n",
       "      <td>25</td>\n",
       "    </tr>\n",
       "    <tr>\n",
       "      <th>12</th>\n",
       "      <td>A</td>\n",
       "      <td>Novice</td>\n",
       "      <td>22</td>\n",
       "    </tr>\n",
       "    <tr>\n",
       "      <th>13</th>\n",
       "      <td>A</td>\n",
       "      <td>Experienced</td>\n",
       "      <td>21</td>\n",
       "    </tr>\n",
       "    <tr>\n",
       "      <th>14</th>\n",
       "      <td>B</td>\n",
       "      <td>Novice</td>\n",
       "      <td>19</td>\n",
       "    </tr>\n",
       "    <tr>\n",
       "      <th>15</th>\n",
       "      <td>B</td>\n",
       "      <td>Experienced</td>\n",
       "      <td>20</td>\n",
       "    </tr>\n",
       "    <tr>\n",
       "      <th>16</th>\n",
       "      <td>C</td>\n",
       "      <td>Novice</td>\n",
       "      <td>28</td>\n",
       "    </tr>\n",
       "    <tr>\n",
       "      <th>17</th>\n",
       "      <td>C</td>\n",
       "      <td>Experienced</td>\n",
       "      <td>27</td>\n",
       "    </tr>\n",
       "    <tr>\n",
       "      <th>18</th>\n",
       "      <td>A</td>\n",
       "      <td>Novice</td>\n",
       "      <td>23</td>\n",
       "    </tr>\n",
       "    <tr>\n",
       "      <th>19</th>\n",
       "      <td>A</td>\n",
       "      <td>Experienced</td>\n",
       "      <td>22</td>\n",
       "    </tr>\n",
       "    <tr>\n",
       "      <th>20</th>\n",
       "      <td>B</td>\n",
       "      <td>Novice</td>\n",
       "      <td>16</td>\n",
       "    </tr>\n",
       "    <tr>\n",
       "      <th>21</th>\n",
       "      <td>B</td>\n",
       "      <td>Experienced</td>\n",
       "      <td>18</td>\n",
       "    </tr>\n",
       "    <tr>\n",
       "      <th>22</th>\n",
       "      <td>C</td>\n",
       "      <td>Novice</td>\n",
       "      <td>24</td>\n",
       "    </tr>\n",
       "    <tr>\n",
       "      <th>23</th>\n",
       "      <td>C</td>\n",
       "      <td>Experienced</td>\n",
       "      <td>23</td>\n",
       "    </tr>\n",
       "    <tr>\n",
       "      <th>24</th>\n",
       "      <td>A</td>\n",
       "      <td>Novice</td>\n",
       "      <td>19</td>\n",
       "    </tr>\n",
       "    <tr>\n",
       "      <th>25</th>\n",
       "      <td>A</td>\n",
       "      <td>Experienced</td>\n",
       "      <td>20</td>\n",
       "    </tr>\n",
       "    <tr>\n",
       "      <th>26</th>\n",
       "      <td>B</td>\n",
       "      <td>Novice</td>\n",
       "      <td>25</td>\n",
       "    </tr>\n",
       "    <tr>\n",
       "      <th>27</th>\n",
       "      <td>B</td>\n",
       "      <td>Experienced</td>\n",
       "      <td>24</td>\n",
       "    </tr>\n",
       "    <tr>\n",
       "      <th>28</th>\n",
       "      <td>C</td>\n",
       "      <td>Novice</td>\n",
       "      <td>18</td>\n",
       "    </tr>\n",
       "    <tr>\n",
       "      <th>29</th>\n",
       "      <td>C</td>\n",
       "      <td>Experienced</td>\n",
       "      <td>19</td>\n",
       "    </tr>\n",
       "  </tbody>\n",
       "</table>\n",
       "</div>"
      ],
      "text/plain": [
       "   Software   Experience  Time\n",
       "0         A       Novice    20\n",
       "1         A  Experienced    22\n",
       "2         B       Novice    18\n",
       "3         B  Experienced    19\n",
       "4         C       Novice    25\n",
       "5         C  Experienced    24\n",
       "6         A       Novice    21\n",
       "7         A  Experienced    23\n",
       "8         B       Novice    17\n",
       "9         B  Experienced    19\n",
       "10        C       Novice    26\n",
       "11        C  Experienced    25\n",
       "12        A       Novice    22\n",
       "13        A  Experienced    21\n",
       "14        B       Novice    19\n",
       "15        B  Experienced    20\n",
       "16        C       Novice    28\n",
       "17        C  Experienced    27\n",
       "18        A       Novice    23\n",
       "19        A  Experienced    22\n",
       "20        B       Novice    16\n",
       "21        B  Experienced    18\n",
       "22        C       Novice    24\n",
       "23        C  Experienced    23\n",
       "24        A       Novice    19\n",
       "25        A  Experienced    20\n",
       "26        B       Novice    25\n",
       "27        B  Experienced    24\n",
       "28        C       Novice    18\n",
       "29        C  Experienced    19"
      ]
     },
     "execution_count": 18,
     "metadata": {},
     "output_type": "execute_result"
    }
   ],
   "source": [
    "df"
   ]
  },
  {
   "cell_type": "code",
   "execution_count": 19,
   "id": "ef12d8ae-1b48-4766-8196-a7b1a69ff505",
   "metadata": {},
   "outputs": [],
   "source": [
    "# Convert categorical variables to categorical type\n",
    "df['Software'] = pd.Categorical(df['Software'])\n",
    "df['Experience'] = pd.Categorical(df['Experience'])"
   ]
  },
  {
   "cell_type": "code",
   "execution_count": 21,
   "id": "9dfbf296-3e3d-47f0-97eb-1fcc014a6440",
   "metadata": {},
   "outputs": [],
   "source": [
    "model = ols('Time ~ C(Software) + C(Experience) + C(Software):C(Experience)', data=df).fit()"
   ]
  },
  {
   "cell_type": "code",
   "execution_count": 24,
   "id": "56aefbd3-24d8-47fa-9c81-e65adc79971a",
   "metadata": {},
   "outputs": [],
   "source": [
    "annova_table = sm.stats.anova_lm(model , typ =2)"
   ]
  },
  {
   "cell_type": "code",
   "execution_count": 25,
   "id": "7b15da3c-b93f-4d1f-9067-12d337fd122d",
   "metadata": {},
   "outputs": [
    {
     "data": {
      "text/html": [
       "<div>\n",
       "<style scoped>\n",
       "    .dataframe tbody tr th:only-of-type {\n",
       "        vertical-align: middle;\n",
       "    }\n",
       "\n",
       "    .dataframe tbody tr th {\n",
       "        vertical-align: top;\n",
       "    }\n",
       "\n",
       "    .dataframe thead th {\n",
       "        text-align: right;\n",
       "    }\n",
       "</style>\n",
       "<table border=\"1\" class=\"dataframe\">\n",
       "  <thead>\n",
       "    <tr style=\"text-align: right;\">\n",
       "      <th></th>\n",
       "      <th>sum_sq</th>\n",
       "      <th>df</th>\n",
       "      <th>F</th>\n",
       "      <th>PR(&gt;F)</th>\n",
       "    </tr>\n",
       "  </thead>\n",
       "  <tbody>\n",
       "    <tr>\n",
       "      <th>C(Factor1)</th>\n",
       "      <td>60.5</td>\n",
       "      <td>1.0</td>\n",
       "      <td>121.0</td>\n",
       "      <td>0.000388</td>\n",
       "    </tr>\n",
       "    <tr>\n",
       "      <th>C(Factor2)</th>\n",
       "      <td>12.5</td>\n",
       "      <td>1.0</td>\n",
       "      <td>25.0</td>\n",
       "      <td>0.007490</td>\n",
       "    </tr>\n",
       "    <tr>\n",
       "      <th>C(Factor1):C(Factor2)</th>\n",
       "      <td>0.5</td>\n",
       "      <td>1.0</td>\n",
       "      <td>1.0</td>\n",
       "      <td>0.373901</td>\n",
       "    </tr>\n",
       "    <tr>\n",
       "      <th>Residual</th>\n",
       "      <td>2.0</td>\n",
       "      <td>4.0</td>\n",
       "      <td>NaN</td>\n",
       "      <td>NaN</td>\n",
       "    </tr>\n",
       "  </tbody>\n",
       "</table>\n",
       "</div>"
      ],
      "text/plain": [
       "                       sum_sq   df      F    PR(>F)\n",
       "C(Factor1)               60.5  1.0  121.0  0.000388\n",
       "C(Factor2)               12.5  1.0   25.0  0.007490\n",
       "C(Factor1):C(Factor2)     0.5  1.0    1.0  0.373901\n",
       "Residual                  2.0  4.0    NaN       NaN"
      ]
     },
     "execution_count": 25,
     "metadata": {},
     "output_type": "execute_result"
    }
   ],
   "source": [
    "anova_table"
   ]
  },
  {
   "cell_type": "markdown",
   "id": "a294dbb3-3b66-4122-98fb-5f16fe53a6a5",
   "metadata": {},
   "source": [
    "### Question 11"
   ]
  },
  {
   "cell_type": "code",
   "execution_count": 26,
   "id": "e3780c36-2519-454d-ac39-23a243fc403d",
   "metadata": {},
   "outputs": [
    {
     "name": "stdout",
     "output_type": "stream",
     "text": [
      "Two-sample t-test results:\n",
      "T-statistic: -4.1087\n",
      "P-value: 0.0001\n",
      "There is a significant difference in test scores between the control and experimental groups.\n"
     ]
    }
   ],
   "source": [
    "# Performing two sample t-test\n",
    "from scipy.stats import ttest_ind\n",
    "\n",
    "# Example data \n",
    "np.random.seed(42)  # for reproducibility\n",
    "control_scores = np.random.normal(loc=70, scale=10, size=50)   # Control group scores\n",
    "experimental_scores = np.random.normal(loc=75, scale=10, size=50)  # Experimental group scores\n",
    "\n",
    "# Perform two-sample t-test\n",
    "t_statistic, p_value = ttest_ind(control_scores, experimental_scores)\n",
    "\n",
    "# Print results\n",
    "print(f\"Two-sample t-test results:\")\n",
    "print(f\"T-statistic: {t_statistic:.4f}\")\n",
    "print(f\"P-value: {p_value:.4f}\")\n",
    "\n",
    "# Interpret results\n",
    "alpha = 0.05\n",
    "if p_value < alpha:\n",
    "    print(\"There is a significant difference in test scores between the control and experimental groups.\")\n",
    "else:\n",
    "    print(\"There is no significant difference in test scores between the control and experimental groups.\")\n"
   ]
  },
  {
   "cell_type": "code",
   "execution_count": 27,
   "id": "9dd43f6b-397d-4a05-96e7-dc94e0531a96",
   "metadata": {},
   "outputs": [
    {
     "name": "stdout",
     "output_type": "stream",
     "text": [
      "\n",
      "Tukey's HSD post-hoc test results:\n",
      "   Multiple Comparison of Means - Tukey HSD, FWER=0.05    \n",
      "==========================================================\n",
      " group1    group2    meandiff p-adj  lower   upper  reject\n",
      "----------------------------------------------------------\n",
      "Control Experimental   7.4325 0.0001 3.8427 11.0224   True\n",
      "----------------------------------------------------------\n"
     ]
    },
    {
     "data": {
      "image/png": "[encoded data removed]",
      "text/plain": [
       "<Figure size 1000x600 with 1 Axes>"
      ]
     },
     "execution_count": 27,
     "metadata": {},
     "output_type": "execute_result"
    },
    {
     "data": {
      "image/png": "[encoded data removed]",
      "text/plain": [
       "<Figure size 1000x600 with 1 Axes>"
      ]
     },
     "metadata": {},
     "output_type": "display_data"
    }
   ],
   "source": [
    "# Perform post-hoc tests\n",
    "\n",
    "from statsmodels.stats.multicomp import pairwise_tukeyhsd\n",
    "\n",
    "# Example data \n",
    "groups = ['Control'] * 50 + ['Experimental'] * 50\n",
    "scores = np.concatenate([control_scores, experimental_scores])\n",
    "\n",
    "# Perform Tukey's HSD post-hoc test\n",
    "tukey_results = pairwise_tukeyhsd(scores, groups)\n",
    "\n",
    "# Print Tukey's HSD results\n",
    "print(\"\\nTukey's HSD post-hoc test results:\")\n",
    "print(tukey_results)\n",
    "\n",
    "# Plotting the results \n",
    "tukey_results.plot_simultaneous()\n"
   ]
  },
  {
   "cell_type": "markdown",
   "id": "d9add76d-ddc0-42ae-b2f9-95bf904ecdd3",
   "metadata": {},
   "source": [
    "### Question 12"
   ]
  },
  {
   "cell_type": "code",
   "execution_count": 28,
   "id": "4258310e-d4e5-4198-800b-18d2387898d4",
   "metadata": {},
   "outputs": [],
   "source": [
    "from statsmodels.stats.anova import AnovaRM"
   ]
  },
  {
   "cell_type": "code",
   "execution_count": 29,
   "id": "25222b04-eff9-4144-b4d7-b919169fe663",
   "metadata": {},
   "outputs": [],
   "source": [
    "np.random.seed(42)\n",
    "days = np.arange(1, 31)\n",
    "stores = np.repeat(['A', 'B', 'C'], 30)\n",
    "sales = np.random.randint(50, 100, size=90)"
   ]
  },
  {
   "cell_type": "code",
   "execution_count": 33,
   "id": "e14ab4ed-ab2d-4ab1-83f4-54d6157fc4aa",
   "metadata": {},
   "outputs": [],
   "source": [
    "data = {\n",
    "    'Store' : stores,\n",
    "    'Day': np.tile(days,3),\n",
    "    'Sales' : sales\n",
    "}"
   ]
  },
  {
   "cell_type": "code",
   "execution_count": 34,
   "id": "42d5e2ed-4f47-48c5-a089-1cc2a8525d79",
   "metadata": {},
   "outputs": [],
   "source": [
    "df = pd.DataFrame(data)"
   ]
  },
  {
   "cell_type": "code",
   "execution_count": 36,
   "id": "7e7d259f-878b-4c30-aabd-45a6a8b81eeb",
   "metadata": {},
   "outputs": [
    {
     "data": {
      "text/html": [
       "<div>\n",
       "<style scoped>\n",
       "    .dataframe tbody tr th:only-of-type {\n",
       "        vertical-align: middle;\n",
       "    }\n",
       "\n",
       "    .dataframe tbody tr th {\n",
       "        vertical-align: top;\n",
       "    }\n",
       "\n",
       "    .dataframe thead th {\n",
       "        text-align: right;\n",
       "    }\n",
       "</style>\n",
       "<table border=\"1\" class=\"dataframe\">\n",
       "  <thead>\n",
       "    <tr style=\"text-align: right;\">\n",
       "      <th></th>\n",
       "      <th>Store</th>\n",
       "      <th>Day</th>\n",
       "      <th>Sales</th>\n",
       "    </tr>\n",
       "  </thead>\n",
       "  <tbody>\n",
       "    <tr>\n",
       "      <th>0</th>\n",
       "      <td>A</td>\n",
       "      <td>1</td>\n",
       "      <td>88</td>\n",
       "    </tr>\n",
       "    <tr>\n",
       "      <th>1</th>\n",
       "      <td>A</td>\n",
       "      <td>2</td>\n",
       "      <td>78</td>\n",
       "    </tr>\n",
       "    <tr>\n",
       "      <th>2</th>\n",
       "      <td>A</td>\n",
       "      <td>3</td>\n",
       "      <td>64</td>\n",
       "    </tr>\n",
       "    <tr>\n",
       "      <th>3</th>\n",
       "      <td>A</td>\n",
       "      <td>4</td>\n",
       "      <td>92</td>\n",
       "    </tr>\n",
       "    <tr>\n",
       "      <th>4</th>\n",
       "      <td>A</td>\n",
       "      <td>5</td>\n",
       "      <td>57</td>\n",
       "    </tr>\n",
       "  </tbody>\n",
       "</table>\n",
       "</div>"
      ],
      "text/plain": [
       "  Store  Day  Sales\n",
       "0     A    1     88\n",
       "1     A    2     78\n",
       "2     A    3     64\n",
       "3     A    4     92\n",
       "4     A    5     57"
      ]
     },
     "execution_count": 36,
     "metadata": {},
     "output_type": "execute_result"
    }
   ],
   "source": [
    "df.head()"
   ]
  },
  {
   "cell_type": "code",
   "execution_count": 37,
   "id": "732070e2-7211-48bd-b4d8-09c2b2de9ed5",
   "metadata": {},
   "outputs": [],
   "source": [
    "# Fit repeated measures ANOVA model\n",
    "rm_anova = AnovaRM(df, 'Sales', 'Day', within=['Store']).fit()"
   ]
  },
  {
   "cell_type": "code",
   "execution_count": 38,
   "id": "e46a13d3-a261-4f4e-9b03-e4b7ec1f55dc",
   "metadata": {},
   "outputs": [
    {
     "name": "stdout",
     "output_type": "stream",
     "text": [
      "               Anova\n",
      "===================================\n",
      "      F Value Num DF  Den DF Pr > F\n",
      "-----------------------------------\n",
      "Store  0.0324 2.0000 58.0000 0.9681\n",
      "===================================\n",
      "\n"
     ]
    }
   ],
   "source": [
    "print(rm_anova.summary())"
   ]
  },
  {
   "cell_type": "code",
   "execution_count": 45,
   "id": "de48c052-a61f-426b-a144-ce9c6deec3fb",
   "metadata": {},
   "outputs": [
    {
     "name": "stdout",
     "output_type": "stream",
     "text": [
      "No significant differences found between the stores.\n",
      "\n",
      "Post-hoc Tukey's HSD test results:\n",
      "Multiple Comparison of Means - Tukey HSD, FWER=0.05\n",
      "===================================================\n",
      "group1 group2 meandiff p-adj   lower  upper  reject\n",
      "---------------------------------------------------\n",
      "     A      B  -0.6667 0.9829 -9.6633   8.33  False\n",
      "     A      C      0.3 0.9965 -8.6966 9.2966  False\n",
      "     B      C   0.9667 0.9645   -8.03 9.9633  False\n",
      "---------------------------------------------------\n"
     ]
    }
   ],
   "source": [
    "# Perform post-hoc Tukey's HSD test if ANOVA is significant\n",
    "if rm_anova.anova_table['Pr > F'][0] < 0.05:\n",
    "    posthoc = pairwise_tukeyhsd(df['Sales'], df['Store'], alpha=0.05)\n",
    "    print(\"\\nPost-hoc Tukey's HSD test results:\")\n",
    "    print(posthoc)\n",
    "    \n",
    "     # Interpretation of Tukey's HSD results\n",
    "    for i in range(len(posthoc.reject)):\n",
    "        store1 = posthoc.groupsunique[posthoc.group1[i]]\n",
    "        store2 = posthoc.groupsunique[posthoc.group2[i]]\n",
    "        if posthoc.reject[i]:\n",
    "            print(f\"There is a significant difference between '{store1}' and '{store2}'.\")\n",
    "        else:\n",
    "            print(f\"No significant difference between '{store1}' and '{store2}'.\")\n",
    "else:\n",
    "    print(\"No significant differences found between the stores.\")\n",
    "    \n",
    "posthoc = pairwise_tukeyhsd(df['Sales'], df['Store'], alpha=0.05)\n",
    "print(\"\\nPost-hoc Tukey's HSD test results:\")\n",
    "print(posthoc)"
   ]
  },
  {
   "cell_type": "code",
   "execution_count": null,
   "id": "4841d613-94f5-493a-a7ed-522ad63c6903",
   "metadata": {},
   "outputs": [],
   "source": []
  }
 ],
 "metadata": {
  "kernelspec": {
   "display_name": "Python 3 (ipykernel)",
   "language": "python",
   "name": "python3"
  },
  "language_info": {
   "codemirror_mode": {
    "name": "ipython",
    "version": 3
   },
   "file_extension": ".py",
   "mimetype": "text/x-python",
   "name": "python",
   "nbconvert_exporter": "python",
   "pygments_lexer": "ipython3",
   "version": "3.10.8"
  }
 },
 "nbformat": 4,
 "nbformat_minor": 5
}
